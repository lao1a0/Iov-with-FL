{
 "cells": [
  {
   "cell_type": "code",
   "execution_count": null,
   "id": "38400a12",
   "metadata": {},
   "outputs": [],
   "source": [
    "import os\n",
    "import cv2\n",
    "import random\n",
    "import shutil\n",
    "import warnings\n",
    "warnings.filterwarnings(\"ignore\")"
   ]
  },
  {
   "cell_type": "code",
   "execution_count": null,
   "id": "b2f38dbe",
   "metadata": {},
   "outputs": [],
   "source": [
    "Train_Dir='data/train_yeo'\n",
    "Val_Dir='data/test_yeo/'\n",
    "allimgs=[]"
   ]
  },
  {
   "cell_type": "code",
   "execution_count": null,
   "id": "aac4ce2f",
   "metadata": {},
   "outputs": [],
   "source": [
    "DF_R=pd.read_csv('../Car_Hacking_5%.csv')\n",
    "# 2.将数据转换为图片\n",
    "numeric_features = DF_R.dtypes[DF_R.dtypes != 'object'].index"
   ]
  },
  {
   "cell_type": "markdown",
   "id": "031c8dcb",
   "metadata": {},
   "source": [
    "# 读取生成的所有的图片数目"
   ]
  },
  {
   "cell_type": "code",
   "execution_count": null,
   "id": "93e91856",
   "metadata": {},
   "outputs": [],
   "source": [
    "for subdir in os.listdir(Train_Dir):\n",
    "    for filename in os.listdir(os.path.join(Train_Dir,subdir)):\n",
    "        filepath=os.path.join(Train_Dir,subdir,filename)\n",
    "        allimgs.append(filepath)\n",
    "print('总图片数量：',len(allimgs))"
   ]
  },
  {
   "cell_type": "markdown",
   "id": "1cbe1ebd",
   "metadata": {},
   "source": [
    "# 划分训练集和测试集 train/test size = 80%/20%"
   ]
  },
  {
   "cell_type": "code",
   "execution_count": null,
   "id": "950f1f8b",
   "metadata": {},
   "outputs": [],
   "source": [
    "Numbers=len(allimgs)//5 # size of test set (20%)\n",
    "def mymovefile(srcfile,dstfile):\n",
    "    if not os.path.isfile(srcfile):\n",
    "        print (\"%s not exist!\"%(srcfile))\n",
    "    else:\n",
    "        fpath,fname=os.path.split(dstfile)\n",
    "        if not os.path.exists(fpath):\n",
    "            os.makedirs(fpath)\n",
    "        shutil.move(srcfile,dstfile)\n",
    "        # print (\"move %s -> %s\"%(srcfile,dstfile))\n",
    "print('测试集中的图片数量：',Numbers)"
   ]
  },
  {
   "cell_type": "markdown",
   "id": "5fa1242d",
   "metadata": {},
   "source": [
    "# 创建 test set"
   ]
  },
  {
   "cell_type": "code",
   "execution_count": null,
   "id": "9f04dd69",
   "metadata": {},
   "outputs": [],
   "source": [
    "val_imgs=random.sample(allimgs,Numbers)\n",
    "for img in val_imgs:\n",
    "    dest_path=img.replace(Train_Dir,Val_Dir)\n",
    "    mymovefile(img,dest_path)\n",
    "print('Finish creating test set')"
   ]
  },
  {
   "cell_type": "markdown",
   "id": "89cf2c52",
   "metadata": {},
   "source": [
    "# 重新构建图片的大小转为224*224"
   ]
  },
  {
   "cell_type": "code",
   "execution_count": null,
   "id": "32fb708a",
   "metadata": {},
   "outputs": [],
   "source": [
    "def get_224(folder,dstdir):\n",
    "    imgfilepaths=[]\n",
    "    for root,dirs,imgs in os.walk(folder):\n",
    "        for thisimg in imgs:\n",
    "            thisimg_path=os.path.join(root,thisimg)\n",
    "            imgfilepaths.append(thisimg_path)\n",
    "    for thisimg_path in imgfilepaths:\n",
    "        dir_name,filename=os.path.split(thisimg_path)\n",
    "        dir_name=dir_name.replace(folder,dstdir)\n",
    "        new_file_path=os.path.join(dir_name,filename)\n",
    "        if not os.path.exists(dir_name):\n",
    "            os.makedirs(dir_name)\n",
    "        img=cv2.imread(thisimg_path)\n",
    "        img=cv2.resize(img,(224,224))\n",
    "        cv2.imwrite(new_file_path,img)\n",
    "    print('Finish resizing'.format(folder=folder))"
   ]
  },
  {
   "cell_type": "code",
   "execution_count": null,
   "id": "96a0ebde",
   "metadata": {},
   "outputs": [],
   "source": [
    "DATA_DIR_224='data/train_yeo_224/'\n",
    "get_224(folder='data/train_yeo/',dstdir=DATA_DIR_224)\n",
    "DATA_DIR2_224='data/test_yeo_224/'\n",
    "get_224(folder='data/test_yeo/',dstdir=DATA_DIR2_224)"
   ]
  }
 ],
 "metadata": {
  "kernelspec": {
   "display_name": "PyCharm (深度学习)",
   "language": "python",
   "name": "pycharm-30235576"
  },
  "language_info": {
   "codemirror_mode": {
    "name": "ipython",
    "version": 3
   },
   "file_extension": ".py",
   "mimetype": "text/x-python",
   "name": "python",
   "nbconvert_exporter": "python",
   "pygments_lexer": "ipython3",
   "version": "3.7.6"
  },
  "toc": {
   "base_numbering": 1,
   "nav_menu": {},
   "number_sections": true,
   "sideBar": true,
   "skip_h1_title": false,
   "title_cell": "Table of Contents",
   "title_sidebar": "Contents",
   "toc_cell": false,
   "toc_position": {
    "height": "calc(100% - 180px)",
    "left": "10px",
    "top": "150px",
    "width": "350.188px"
   },
   "toc_section_display": true,
   "toc_window_display": true
  }
 },
 "nbformat": 4,
 "nbformat_minor": 5
}
