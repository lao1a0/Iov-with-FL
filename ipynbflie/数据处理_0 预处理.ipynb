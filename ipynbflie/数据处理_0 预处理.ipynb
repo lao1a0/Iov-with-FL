{
 "cells": [
  {
   "cell_type": "code",
   "execution_count": 1,
   "id": "523c5b10",
   "metadata": {},
   "outputs": [],
   "source": [
    "#!/usr/bin/env python\n",
    "import numpy as np\n",
    "import pandas as pd\n",
    "import os\n",
    "from PIL import Image\n",
    "import warnings\n",
    "warnings.filterwarnings(\"ignore\")"
   ]
  },
  {
   "cell_type": "markdown",
   "id": "06e49037",
   "metadata": {},
   "source": [
    "# 读取数据集"
   ]
  },
  {
   "cell_type": "code",
   "execution_count": 2,
   "id": "cd38d157",
   "metadata": {},
   "outputs": [],
   "source": [
    "DF_R=pd.read_csv('../Car_Hacking_5%.csv')\n",
    "# 2.将数据转换为图片\n",
    "numeric_features = DF_R.dtypes[DF_R.dtypes != 'object'].index"
   ]
  },
  {
   "cell_type": "code",
   "execution_count": 3,
   "id": "0a3d31e4",
   "metadata": {},
   "outputs": [
    {
     "data": {
      "text/html": [
       "<div>\n",
       "<style scoped>\n",
       "    .dataframe tbody tr th:only-of-type {\n",
       "        vertical-align: middle;\n",
       "    }\n",
       "\n",
       "    .dataframe tbody tr th {\n",
       "        vertical-align: top;\n",
       "    }\n",
       "\n",
       "    .dataframe thead th {\n",
       "        text-align: right;\n",
       "    }\n",
       "</style>\n",
       "<table border=\"1\" class=\"dataframe\">\n",
       "  <thead>\n",
       "    <tr style=\"text-align: right;\">\n",
       "      <th></th>\n",
       "      <th>CAN ID</th>\n",
       "      <th>DATA[0]</th>\n",
       "      <th>DATA[1]</th>\n",
       "      <th>DATA[2]</th>\n",
       "      <th>DATA[3]</th>\n",
       "      <th>DATA[4]</th>\n",
       "      <th>DATA[5]</th>\n",
       "      <th>DATA[6]</th>\n",
       "      <th>DATA[7]</th>\n",
       "      <th>Label</th>\n",
       "    </tr>\n",
       "  </thead>\n",
       "  <tbody>\n",
       "    <tr>\n",
       "      <th>0</th>\n",
       "      <td>1201</td>\n",
       "      <td>41</td>\n",
       "      <td>39</td>\n",
       "      <td>39</td>\n",
       "      <td>35</td>\n",
       "      <td>0</td>\n",
       "      <td>0</td>\n",
       "      <td>0</td>\n",
       "      <td>154</td>\n",
       "      <td>R</td>\n",
       "    </tr>\n",
       "    <tr>\n",
       "      <th>1</th>\n",
       "      <td>809</td>\n",
       "      <td>64</td>\n",
       "      <td>187</td>\n",
       "      <td>127</td>\n",
       "      <td>20</td>\n",
       "      <td>17</td>\n",
       "      <td>32</td>\n",
       "      <td>0</td>\n",
       "      <td>20</td>\n",
       "      <td>R</td>\n",
       "    </tr>\n",
       "    <tr>\n",
       "      <th>2</th>\n",
       "      <td>1349</td>\n",
       "      <td>216</td>\n",
       "      <td>0</td>\n",
       "      <td>0</td>\n",
       "      <td>136</td>\n",
       "      <td>0</td>\n",
       "      <td>0</td>\n",
       "      <td>0</td>\n",
       "      <td>0</td>\n",
       "      <td>R</td>\n",
       "    </tr>\n",
       "    <tr>\n",
       "      <th>3</th>\n",
       "      <td>1201</td>\n",
       "      <td>41</td>\n",
       "      <td>39</td>\n",
       "      <td>39</td>\n",
       "      <td>35</td>\n",
       "      <td>0</td>\n",
       "      <td>0</td>\n",
       "      <td>0</td>\n",
       "      <td>154</td>\n",
       "      <td>R</td>\n",
       "    </tr>\n",
       "    <tr>\n",
       "      <th>4</th>\n",
       "      <td>2</td>\n",
       "      <td>0</td>\n",
       "      <td>0</td>\n",
       "      <td>0</td>\n",
       "      <td>0</td>\n",
       "      <td>0</td>\n",
       "      <td>3</td>\n",
       "      <td>2</td>\n",
       "      <td>228</td>\n",
       "      <td>R</td>\n",
       "    </tr>\n",
       "    <tr>\n",
       "      <th>...</th>\n",
       "      <td>...</td>\n",
       "      <td>...</td>\n",
       "      <td>...</td>\n",
       "      <td>...</td>\n",
       "      <td>...</td>\n",
       "      <td>...</td>\n",
       "      <td>...</td>\n",
       "      <td>...</td>\n",
       "      <td>...</td>\n",
       "      <td>...</td>\n",
       "    </tr>\n",
       "    <tr>\n",
       "      <th>818435</th>\n",
       "      <td>848</td>\n",
       "      <td>5</td>\n",
       "      <td>32</td>\n",
       "      <td>52</td>\n",
       "      <td>104</td>\n",
       "      <td>117</td>\n",
       "      <td>0</td>\n",
       "      <td>0</td>\n",
       "      <td>12</td>\n",
       "      <td>R</td>\n",
       "    </tr>\n",
       "    <tr>\n",
       "      <th>818436</th>\n",
       "      <td>1088</td>\n",
       "      <td>255</td>\n",
       "      <td>0</td>\n",
       "      <td>0</td>\n",
       "      <td>0</td>\n",
       "      <td>255</td>\n",
       "      <td>134</td>\n",
       "      <td>9</td>\n",
       "      <td>0</td>\n",
       "      <td>R</td>\n",
       "    </tr>\n",
       "    <tr>\n",
       "      <th>818437</th>\n",
       "      <td>848</td>\n",
       "      <td>5</td>\n",
       "      <td>32</td>\n",
       "      <td>100</td>\n",
       "      <td>104</td>\n",
       "      <td>117</td>\n",
       "      <td>0</td>\n",
       "      <td>0</td>\n",
       "      <td>92</td>\n",
       "      <td>R</td>\n",
       "    </tr>\n",
       "    <tr>\n",
       "      <th>818438</th>\n",
       "      <td>1349</td>\n",
       "      <td>216</td>\n",
       "      <td>90</td>\n",
       "      <td>0</td>\n",
       "      <td>137</td>\n",
       "      <td>0</td>\n",
       "      <td>0</td>\n",
       "      <td>0</td>\n",
       "      <td>0</td>\n",
       "      <td>R</td>\n",
       "    </tr>\n",
       "    <tr>\n",
       "      <th>818439</th>\n",
       "      <td>790</td>\n",
       "      <td>5</td>\n",
       "      <td>33</td>\n",
       "      <td>48</td>\n",
       "      <td>10</td>\n",
       "      <td>33</td>\n",
       "      <td>30</td>\n",
       "      <td>0</td>\n",
       "      <td>111</td>\n",
       "      <td>R</td>\n",
       "    </tr>\n",
       "  </tbody>\n",
       "</table>\n",
       "<p>818440 rows × 10 columns</p>\n",
       "</div>"
      ],
      "text/plain": [
       "        CAN ID  DATA[0]  DATA[1]  DATA[2]  DATA[3]  DATA[4]  DATA[5]  DATA[6]  \\\n",
       "0         1201       41       39       39       35        0        0        0   \n",
       "1          809       64      187      127       20       17       32        0   \n",
       "2         1349      216        0        0      136        0        0        0   \n",
       "3         1201       41       39       39       35        0        0        0   \n",
       "4            2        0        0        0        0        0        3        2   \n",
       "...        ...      ...      ...      ...      ...      ...      ...      ...   \n",
       "818435     848        5       32       52      104      117        0        0   \n",
       "818436    1088      255        0        0        0      255      134        9   \n",
       "818437     848        5       32      100      104      117        0        0   \n",
       "818438    1349      216       90        0      137        0        0        0   \n",
       "818439     790        5       33       48       10       33       30        0   \n",
       "\n",
       "        DATA[7] Label  \n",
       "0           154     R  \n",
       "1            20     R  \n",
       "2             0     R  \n",
       "3           154     R  \n",
       "4           228     R  \n",
       "...         ...   ...  \n",
       "818435       12     R  \n",
       "818436        0     R  \n",
       "818437       92     R  \n",
       "818438        0     R  \n",
       "818439      111     R  \n",
       "\n",
       "[818440 rows x 10 columns]"
      ]
     },
     "execution_count": 3,
     "metadata": {},
     "output_type": "execute_result"
    }
   ],
   "source": [
    "DF_R"
   ]
  },
  {
   "cell_type": "markdown",
   "id": "4d25f096",
   "metadata": {},
   "source": [
    "## 查看数据范围"
   ]
  },
  {
   "cell_type": "markdown",
   "id": "5e8adbea",
   "metadata": {},
   "source": [
    "原始的数据就是在0-255之间的，但是数据分布不太乱了"
   ]
  },
  {
   "cell_type": "code",
   "execution_count": 4,
   "id": "b0d4f6f9",
   "metadata": {},
   "outputs": [
    {
     "data": {
      "text/plain": [
       "(CAN ID     2047\n",
       " DATA[0]     255\n",
       " DATA[1]     255\n",
       " DATA[2]     255\n",
       " DATA[3]     255\n",
       " DATA[4]     255\n",
       " DATA[5]     255\n",
       " DATA[6]     255\n",
       " DATA[7]     255\n",
       " Label      gear\n",
       " dtype: object,\n",
       " CAN ID       0\n",
       " DATA[0]      0\n",
       " DATA[1]      0\n",
       " DATA[2]      0\n",
       " DATA[3]      0\n",
       " DATA[4]      0\n",
       " DATA[5]      0\n",
       " DATA[6]      0\n",
       " DATA[7]      0\n",
       " Label      DoS\n",
       " dtype: object)"
      ]
     },
     "execution_count": 4,
     "metadata": {},
     "output_type": "execute_result"
    }
   ],
   "source": [
    "DF_R.max(),DF_R.min()"
   ]
  },
  {
   "cell_type": "markdown",
   "id": "f3a87dc1",
   "metadata": {},
   "source": [
    "## 查看每一类的数据量"
   ]
  },
  {
   "cell_type": "code",
   "execution_count": 5,
   "id": "63a29aeb",
   "metadata": {},
   "outputs": [
    {
     "data": {
      "text/plain": [
       "R        85.752407\n",
       "RPM       3.975734\n",
       "gear      3.658668\n",
       "DoS       3.604540\n",
       "Fuzzy     3.008651\n",
       "Name: Label, dtype: float64"
      ]
     },
     "execution_count": 5,
     "metadata": {},
     "output_type": "execute_result"
    }
   ],
   "source": [
    "DF_R.Label.value_counts()/818440*100"
   ]
  },
  {
   "cell_type": "code",
   "execution_count": 6,
   "id": "d4776fb3",
   "metadata": {},
   "outputs": [
    {
     "data": {
      "image/png": "[encoded data removed]",
      "text/plain": [
       "<Figure size 432x288 with 1 Axes>"
      ]
     },
     "metadata": {},
     "output_type": "display_data"
    }
   ],
   "source": [
    "import matplotlib.pyplot as plt                #导入绘图包\n",
    "\n",
    "a=DF_R.Label.value_counts()/818440*100\n",
    "a.to_numpy()\n",
    "plt.pie(a,labels=['R','RPM','gear','DoS','Fuzzy'], autopct='%3.1f%%')  #以时间为标签，总计成交笔数为数据绘制饼图，并显示3位整数一位小数\n",
    "plt.title('The amount of data per category')             #加标题\n",
    "plt.show()"
   ]
  },
  {
   "cell_type": "markdown",
   "id": "8afabf0a",
   "metadata": {},
   "source": [
    "# 展示一下生成的5类图片"
   ]
  },
  {
   "cell_type": "code",
   "execution_count": 7,
   "id": "9a3811bb",
   "metadata": {},
   "outputs": [],
   "source": [
    "from PIL import Image\n",
    "import matplotlib.pyplot as plt\n",
    "\n",
    "def display_image_for_each_category(drit='G:/data',one='27.png',two='83.png',three='27.png',four='27.png',five='27.png'):\n",
    "    ''':cvar\n",
    "    Read the images for each category, the file name may vary (27.png, 83.png...)\n",
    "    '''\n",
    "    img1 = Image.open(drit+'/0/'+one)\n",
    "    img2 = Image.open(drit+'/1/'+two)\n",
    "    img3 = Image.open(drit+'/2/'+three)\n",
    "    img4 = Image.open(drit+'/3/'+four)\n",
    "    img5 = Image.open(drit+'/4/'+five)\n",
    "\n",
    "    plt.figure(figsize=(10, 10))\n",
    "    plt.subplot(1,5,1)\n",
    "    plt.imshow(img1)\n",
    "    plt.title(\"Normal\")\n",
    "    plt.subplot(1,5,2)\n",
    "    plt.imshow(img2)\n",
    "    plt.title(\"RPM Spoofing\")\n",
    "    plt.subplot(1,5,3)\n",
    "    plt.imshow(img3)\n",
    "    plt.title(\"Gear Spoofing\")\n",
    "    plt.subplot(1,5,4)\n",
    "    plt.imshow(img4)\n",
    "    plt.title(\"DoS Attack\")\n",
    "    plt.subplot(1,5,5)\n",
    "    plt.imshow(img5)\n",
    "    plt.title(\"Fuzzy Attack\")\n",
    "    plt.show()  # display it"
   ]
  },
  {
   "cell_type": "markdown",
   "id": "f6affcfd",
   "metadata": {},
   "source": [
    "# 数据探索"
   ]
  },
  {
   "cell_type": "markdown",
   "id": "386fc19d",
   "metadata": {},
   "source": [
    "## 原始特征直方图\n",
    "\n",
    "蓝色的是car id `CAN ID : identifier of CAN message in HEX (ex. 043f)` 感觉没有什么用"
   ]
  },
  {
   "cell_type": "code",
   "execution_count": 8,
   "id": "eff53aab",
   "metadata": {},
   "outputs": [
    {
     "data": {
      "image/png": "[encoded data removed]",
      "text/plain": [
       "<Figure size 1080x360 with 1 Axes>"
      ]
     },
     "metadata": {
      "needs_background": "light"
     },
     "output_type": "display_data"
    }
   ],
   "source": [
    "from PIL import Image, ImageStat\n",
    "import math\n",
    "import os\n",
    "import matplotlib.pyplot as plt\n",
    "import numpy as np\n",
    "import cv2\n",
    "import pylab\n",
    "\n",
    "plt.figure(figsize=(15,5))\n",
    "for i in range(9):\n",
    "    plt.hist(DF_R[numeric_features].iloc[:,i], bins=15,alpha = 0.5,label=str(DF_R.columns.tolist()[i]))\n",
    "plt.xlabel(\"Numerical value\")\n",
    "plt.ylabel(\"Numbers\")\n",
    "plt.tick_params(top='off', right='off')\n",
    "plt.title('primitive')\n",
    "plt.legend()\n",
    "pylab.savefig('../img/primitive'+str(i))\n",
    "plt.show()"
   ]
  },
  {
   "cell_type": "markdown",
   "id": "10e749d7",
   "metadata": {},
   "source": [
    "## QQ曲线"
   ]
  },
  {
   "cell_type": "code",
   "execution_count": 9,
   "id": "cdc65412",
   "metadata": {},
   "outputs": [],
   "source": [
    "# import statsmodels.api as sm\n",
    "# import matplotlib.pyplot as plt\n",
    "# for i in range(9):\n",
    "#     sm.qqplot(DF_R[numeric_features].iloc[:,i], line='s')\n",
    "#     pylab.savefig('../img/DF_R_'+str(i))"
   ]
  },
  {
   "cell_type": "markdown",
   "id": "68520de6",
   "metadata": {},
   "source": [
    "# QuantileTransformer转换"
   ]
  },
  {
   "cell_type": "code",
   "execution_count": 10,
   "id": "a144e303",
   "metadata": {},
   "outputs": [],
   "source": [
    "def showPicture(name_):\n",
    "    from PIL import Image, ImageStat\n",
    "    import math\n",
    "    import os\n",
    "    import matplotlib.pyplot as plt\n",
    "    import numpy as np\n",
    "    import cv2\n",
    "\n",
    "    plt.figure(figsize=(15,5))\n",
    "    for i in range(8):\n",
    "        plt.hist(qt_df[numeric_features].iloc[:,i], bins=15,alpha = 0.5,label=str(qt_df.columns.tolist()[i]))\n",
    "    plt.xlabel(\"Numerical value\")\n",
    "    plt.ylabel(\"Numbers\")\n",
    "    plt.tick_params(top='off', right='off')\n",
    "    plt.title(name_)\n",
    "    plt.legend()\n",
    "    plt.show()"
   ]
  },
  {
   "cell_type": "markdown",
   "id": "b9987a30",
   "metadata": {},
   "source": [
    "## 标准化"
   ]
  },
  {
   "cell_type": "code",
   "execution_count": 11,
   "id": "483a492d",
   "metadata": {},
   "outputs": [],
   "source": [
    "qt_df=DF_R.copy(deep=True)"
   ]
  },
  {
   "cell_type": "code",
   "execution_count": 12,
   "id": "8940d5ed",
   "metadata": {},
   "outputs": [],
   "source": [
    "from sklearn.preprocessing import QuantileTransformer\n",
    "scaler = QuantileTransformer()\n",
    "qt_df[numeric_features] = scaler.fit_transform(qt_df[numeric_features])\n",
    "# df[numeric_features] = scaler.fit_transform(df[numeric_features])"
   ]
  },
  {
   "cell_type": "code",
   "execution_count": 13,
   "id": "b1322b04",
   "metadata": {},
   "outputs": [
    {
     "data": {
      "text/html": [
       "<div>\n",
       "<style scoped>\n",
       "    .dataframe tbody tr th:only-of-type {\n",
       "        vertical-align: middle;\n",
       "    }\n",
       "\n",
       "    .dataframe tbody tr th {\n",
       "        vertical-align: top;\n",
       "    }\n",
       "\n",
       "    .dataframe thead th {\n",
       "        text-align: right;\n",
       "    }\n",
       "</style>\n",
       "<table border=\"1\" class=\"dataframe\">\n",
       "  <thead>\n",
       "    <tr style=\"text-align: right;\">\n",
       "      <th></th>\n",
       "      <th>CAN ID</th>\n",
       "      <th>DATA[0]</th>\n",
       "      <th>DATA[1]</th>\n",
       "      <th>DATA[2]</th>\n",
       "      <th>DATA[3]</th>\n",
       "      <th>DATA[4]</th>\n",
       "      <th>DATA[5]</th>\n",
       "      <th>DATA[6]</th>\n",
       "      <th>DATA[7]</th>\n",
       "    </tr>\n",
       "  </thead>\n",
       "  <tbody>\n",
       "    <tr>\n",
       "      <th>count</th>\n",
       "      <td>818440.000000</td>\n",
       "      <td>818440.000000</td>\n",
       "      <td>818440.000000</td>\n",
       "      <td>818440.000000</td>\n",
       "      <td>818440.000000</td>\n",
       "      <td>818440.000000</td>\n",
       "      <td>818440.000000</td>\n",
       "      <td>818440.000000</td>\n",
       "      <td>818440.000000</td>\n",
       "    </tr>\n",
       "    <tr>\n",
       "      <th>mean</th>\n",
       "      <td>0.500957</td>\n",
       "      <td>0.446553</td>\n",
       "      <td>0.424100</td>\n",
       "      <td>0.351264</td>\n",
       "      <td>0.430207</td>\n",
       "      <td>0.414879</td>\n",
       "      <td>0.440265</td>\n",
       "      <td>0.332284</td>\n",
       "      <td>0.364480</td>\n",
       "    </tr>\n",
       "    <tr>\n",
       "      <th>std</th>\n",
       "      <td>0.289751</td>\n",
       "      <td>0.353009</td>\n",
       "      <td>0.366684</td>\n",
       "      <td>0.394662</td>\n",
       "      <td>0.406113</td>\n",
       "      <td>0.375460</td>\n",
       "      <td>0.357183</td>\n",
       "      <td>0.396614</td>\n",
       "      <td>0.392513</td>\n",
       "    </tr>\n",
       "    <tr>\n",
       "      <th>min</th>\n",
       "      <td>0.000000</td>\n",
       "      <td>0.000000</td>\n",
       "      <td>0.000000</td>\n",
       "      <td>0.000000</td>\n",
       "      <td>0.000000</td>\n",
       "      <td>0.000000</td>\n",
       "      <td>0.000000</td>\n",
       "      <td>0.000000</td>\n",
       "      <td>0.000000</td>\n",
       "    </tr>\n",
       "    <tr>\n",
       "      <th>25%</th>\n",
       "      <td>0.262262</td>\n",
       "      <td>0.000000</td>\n",
       "      <td>0.000000</td>\n",
       "      <td>0.000000</td>\n",
       "      <td>0.000000</td>\n",
       "      <td>0.000000</td>\n",
       "      <td>0.000000</td>\n",
       "      <td>0.000000</td>\n",
       "      <td>0.000000</td>\n",
       "    </tr>\n",
       "    <tr>\n",
       "      <th>50%</th>\n",
       "      <td>0.479980</td>\n",
       "      <td>0.497497</td>\n",
       "      <td>0.453954</td>\n",
       "      <td>0.000000</td>\n",
       "      <td>0.509510</td>\n",
       "      <td>0.503003</td>\n",
       "      <td>0.506507</td>\n",
       "      <td>0.000000</td>\n",
       "      <td>0.000000</td>\n",
       "    </tr>\n",
       "    <tr>\n",
       "      <th>75%</th>\n",
       "      <td>0.749249</td>\n",
       "      <td>0.754254</td>\n",
       "      <td>0.759259</td>\n",
       "      <td>0.781782</td>\n",
       "      <td>0.746246</td>\n",
       "      <td>0.758258</td>\n",
       "      <td>0.746246</td>\n",
       "      <td>0.751251</td>\n",
       "      <td>0.747247</td>\n",
       "    </tr>\n",
       "    <tr>\n",
       "      <th>max</th>\n",
       "      <td>1.000000</td>\n",
       "      <td>1.000000</td>\n",
       "      <td>1.000000</td>\n",
       "      <td>1.000000</td>\n",
       "      <td>1.000000</td>\n",
       "      <td>1.000000</td>\n",
       "      <td>1.000000</td>\n",
       "      <td>1.000000</td>\n",
       "      <td>1.000000</td>\n",
       "    </tr>\n",
       "  </tbody>\n",
       "</table>\n",
       "</div>"
      ],
      "text/plain": [
       "              CAN ID        DATA[0]        DATA[1]        DATA[2]  \\\n",
       "count  818440.000000  818440.000000  818440.000000  818440.000000   \n",
       "mean        0.500957       0.446553       0.424100       0.351264   \n",
       "std         0.289751       0.353009       0.366684       0.394662   \n",
       "min         0.000000       0.000000       0.000000       0.000000   \n",
       "25%         0.262262       0.000000       0.000000       0.000000   \n",
       "50%         0.479980       0.497497       0.453954       0.000000   \n",
       "75%         0.749249       0.754254       0.759259       0.781782   \n",
       "max         1.000000       1.000000       1.000000       1.000000   \n",
       "\n",
       "             DATA[3]        DATA[4]        DATA[5]        DATA[6]  \\\n",
       "count  818440.000000  818440.000000  818440.000000  818440.000000   \n",
       "mean        0.430207       0.414879       0.440265       0.332284   \n",
       "std         0.406113       0.375460       0.357183       0.396614   \n",
       "min         0.000000       0.000000       0.000000       0.000000   \n",
       "25%         0.000000       0.000000       0.000000       0.000000   \n",
       "50%         0.509510       0.503003       0.506507       0.000000   \n",
       "75%         0.746246       0.758258       0.746246       0.751251   \n",
       "max         1.000000       1.000000       1.000000       1.000000   \n",
       "\n",
       "             DATA[7]  \n",
       "count  818440.000000  \n",
       "mean        0.364480  \n",
       "std         0.392513  \n",
       "min         0.000000  \n",
       "25%         0.000000  \n",
       "50%         0.000000  \n",
       "75%         0.747247  \n",
       "max         1.000000  "
      ]
     },
     "execution_count": 13,
     "metadata": {},
     "output_type": "execute_result"
    }
   ],
   "source": [
    "qt_df[numeric_features].describe()"
   ]
  },
  {
   "cell_type": "code",
   "execution_count": 14,
   "id": "5ff8d0f7",
   "metadata": {},
   "outputs": [
    {
     "data": {
      "image/png": "[encoded data removed]",
      "text/plain": [
       "<Figure size 1080x360 with 1 Axes>"
      ]
     },
     "metadata": {
      "needs_background": "light"
     },
     "output_type": "display_data"
    }
   ],
   "source": [
    " showPicture('QuantileTransformer')"
   ]
  },
  {
   "cell_type": "markdown",
   "id": "db246049",
   "metadata": {},
   "source": [
    "## 降采样"
   ]
  },
  {
   "cell_type": "code",
   "execution_count": 15,
   "id": "5d6c997b",
   "metadata": {},
   "outputs": [
    {
     "name": "stdout",
     "output_type": "stream",
     "text": [
      "DoS      24624\n",
      "Fuzzy    24624\n",
      "R        24624\n",
      "RPM      24624\n",
      "gear     24624\n",
      "Name: Label, dtype: int64\n"
     ]
    }
   ],
   "source": [
    "X=qt_df[numeric_features]\n",
    "y=qt_df['Label']\n",
    "\n",
    "from imblearn.under_sampling import NearMiss\n",
    "nm_1 = NearMiss() #形参默认 version=1, 即采用 NearMiss-1\n",
    "X_resampled, y_resampled = nm_1.fit_resample(X, y)\n",
    "\n",
    "qt_df=pd.merge(X_resampled,y_resampled,left_index=True,right_index=True)\n",
    "print(qt_df.Label.value_counts())"
   ]
  },
  {
   "cell_type": "code",
   "execution_count": 16,
   "id": "b85ea817",
   "metadata": {},
   "outputs": [
    {
     "data": {
      "image/png": "[encoded data removed]",
      "text/plain": [
       "<Figure size 1080x360 with 1 Axes>"
      ]
     },
     "metadata": {
      "needs_background": "light"
     },
     "output_type": "display_data"
    }
   ],
   "source": [
    " showPicture('QuantileTransformer-nearmiss')"
   ]
  },
  {
   "cell_type": "markdown",
   "id": "ebd1bd8b",
   "metadata": {},
   "source": [
    "## 归一化"
   ]
  },
  {
   "cell_type": "code",
   "execution_count": 17,
   "id": "e01d61b0",
   "metadata": {},
   "outputs": [],
   "source": [
    "qt_df[numeric_features] = qt_df[numeric_features].apply(lambda x: (x*255))"
   ]
  },
  {
   "cell_type": "code",
   "execution_count": 18,
   "id": "fc6068b0",
   "metadata": {},
   "outputs": [
    {
     "data": {
      "image/png": "[encoded data removed]",
      "text/plain": [
       "<Figure size 1080x360 with 1 Axes>"
      ]
     },
     "metadata": {
      "needs_background": "light"
     },
     "output_type": "display_data"
    }
   ],
   "source": [
    " showPicture('QuantileTransformer-nearmiss-scale')"
   ]
  },
  {
   "cell_type": "markdown",
   "id": "991a1ab4",
   "metadata": {},
   "source": [
    "## 分类"
   ]
  },
  {
   "cell_type": "code",
   "execution_count": null,
   "id": "e7132c0d",
   "metadata": {},
   "outputs": [],
   "source": [
    "df=qt_df.copy(deep=True)\n",
    "\n",
    "df0=df[df['Label']=='R'].drop(['Label'],axis=1)\n",
    "df1=df[df['Label']=='RPM'].drop(['Label'],axis=1)\n",
    "df2=df[df['Label']=='gear'].drop(['Label'],axis=1)\n",
    "df3=df[df['Label']=='DoS'].drop(['Label'],axis=1)\n",
    "df4=df[df['Label']=='Fuzzy'].drop(['Label'],axis=1)\n",
    "\n",
    "def generate_image(DF,ditrr='../data/train_qt/', image_p = \"\"):\n",
    "    ''':cvar\n",
    "    Generate 9*9 color images for class 0 (Normal)\n",
    "    Change the numbers 9 to the number of features n in your dataset if you use a different dataset, reshape(n,n,3)\n",
    "    '''\n",
    "    count=0\n",
    "    ims = []\n",
    "    image_path = ditrr + image_p\n",
    "    os.makedirs(image_path)\n",
    "\n",
    "    for i in range(0, len(DF)):\n",
    "        count=count+1\n",
    "        if count<=27:\n",
    "            im=DF.iloc[i].values\n",
    "            ims=np.append(ims,im)\n",
    "        else:\n",
    "            ims=np.array(ims).reshape(9,9,3)\n",
    "            array = np.array(ims, dtype=np.uint8)\n",
    "            new_image = Image.fromarray(array)\n",
    "            new_image.save(image_path+str(i)+'.png')\n",
    "            count=0\n",
    "            ims = []\n",
    "\n",
    "generate_image(df0,image_p = \"0/\") # normal\n",
    "generate_image(df1,image_p = \"1/\")\n",
    "generate_image(df2,image_p = \"2/\")\n",
    "generate_image(df3,image_p = \"3/\") # dos attack\n",
    "generate_image(df4,image_p = \"4/\") # fuzzy attack"
   ]
  },
  {
   "cell_type": "code",
   "execution_count": null,
   "id": "1abe33ba",
   "metadata": {},
   "outputs": [],
   "source": [
    "display_image_for_each_category(drit='../data/train_qt',one='27.png',two='83.png',three='27.png',four='27.png',five='27.png')"
   ]
  },
  {
   "cell_type": "markdown",
   "id": "121f81c9",
   "metadata": {},
   "source": [
    "# yeo-johnson转换"
   ]
  },
  {
   "cell_type": "code",
   "execution_count": 19,
   "id": "2c4f9de2",
   "metadata": {},
   "outputs": [],
   "source": [
    "def showPicture(name_):\n",
    "    from PIL import Image, ImageStat\n",
    "    import math\n",
    "    import os\n",
    "    import matplotlib.pyplot as plt\n",
    "    import numpy as np\n",
    "    import cv2\n",
    "\n",
    "    plt.figure(figsize=(15,5))\n",
    "    for i in range(9):\n",
    "        plt.hist(yeo_df[numeric_features].iloc[:,i], bins=15,alpha = 0.5,label=str(yeo_df.columns.tolist()[i]))\n",
    "    plt.xlabel(\"Numerical value\")\n",
    "    plt.ylabel(\"Numbers\")\n",
    "    plt.tick_params(top='off', right='off')\n",
    "    plt.title(name_)\n",
    "    plt.legend()\n",
    "    plt.show()"
   ]
  },
  {
   "cell_type": "code",
   "execution_count": 20,
   "id": "fbe2248f",
   "metadata": {},
   "outputs": [
    {
     "data": {
      "text/html": [
       "<div>\n",
       "<style scoped>\n",
       "    .dataframe tbody tr th:only-of-type {\n",
       "        vertical-align: middle;\n",
       "    }\n",
       "\n",
       "    .dataframe tbody tr th {\n",
       "        vertical-align: top;\n",
       "    }\n",
       "\n",
       "    .dataframe thead th {\n",
       "        text-align: right;\n",
       "    }\n",
       "</style>\n",
       "<table border=\"1\" class=\"dataframe\">\n",
       "  <thead>\n",
       "    <tr style=\"text-align: right;\">\n",
       "      <th></th>\n",
       "      <th>CAN ID</th>\n",
       "      <th>DATA[0]</th>\n",
       "      <th>DATA[1]</th>\n",
       "      <th>DATA[2]</th>\n",
       "      <th>DATA[3]</th>\n",
       "      <th>DATA[4]</th>\n",
       "      <th>DATA[5]</th>\n",
       "      <th>DATA[6]</th>\n",
       "      <th>DATA[7]</th>\n",
       "      <th>Label</th>\n",
       "    </tr>\n",
       "  </thead>\n",
       "  <tbody>\n",
       "    <tr>\n",
       "      <th>0</th>\n",
       "      <td>1201</td>\n",
       "      <td>41</td>\n",
       "      <td>39</td>\n",
       "      <td>39</td>\n",
       "      <td>35</td>\n",
       "      <td>0</td>\n",
       "      <td>0</td>\n",
       "      <td>0</td>\n",
       "      <td>154</td>\n",
       "      <td>R</td>\n",
       "    </tr>\n",
       "    <tr>\n",
       "      <th>1</th>\n",
       "      <td>809</td>\n",
       "      <td>64</td>\n",
       "      <td>187</td>\n",
       "      <td>127</td>\n",
       "      <td>20</td>\n",
       "      <td>17</td>\n",
       "      <td>32</td>\n",
       "      <td>0</td>\n",
       "      <td>20</td>\n",
       "      <td>R</td>\n",
       "    </tr>\n",
       "    <tr>\n",
       "      <th>2</th>\n",
       "      <td>1349</td>\n",
       "      <td>216</td>\n",
       "      <td>0</td>\n",
       "      <td>0</td>\n",
       "      <td>136</td>\n",
       "      <td>0</td>\n",
       "      <td>0</td>\n",
       "      <td>0</td>\n",
       "      <td>0</td>\n",
       "      <td>R</td>\n",
       "    </tr>\n",
       "    <tr>\n",
       "      <th>3</th>\n",
       "      <td>1201</td>\n",
       "      <td>41</td>\n",
       "      <td>39</td>\n",
       "      <td>39</td>\n",
       "      <td>35</td>\n",
       "      <td>0</td>\n",
       "      <td>0</td>\n",
       "      <td>0</td>\n",
       "      <td>154</td>\n",
       "      <td>R</td>\n",
       "    </tr>\n",
       "    <tr>\n",
       "      <th>4</th>\n",
       "      <td>2</td>\n",
       "      <td>0</td>\n",
       "      <td>0</td>\n",
       "      <td>0</td>\n",
       "      <td>0</td>\n",
       "      <td>0</td>\n",
       "      <td>3</td>\n",
       "      <td>2</td>\n",
       "      <td>228</td>\n",
       "      <td>R</td>\n",
       "    </tr>\n",
       "    <tr>\n",
       "      <th>...</th>\n",
       "      <td>...</td>\n",
       "      <td>...</td>\n",
       "      <td>...</td>\n",
       "      <td>...</td>\n",
       "      <td>...</td>\n",
       "      <td>...</td>\n",
       "      <td>...</td>\n",
       "      <td>...</td>\n",
       "      <td>...</td>\n",
       "      <td>...</td>\n",
       "    </tr>\n",
       "    <tr>\n",
       "      <th>818435</th>\n",
       "      <td>848</td>\n",
       "      <td>5</td>\n",
       "      <td>32</td>\n",
       "      <td>52</td>\n",
       "      <td>104</td>\n",
       "      <td>117</td>\n",
       "      <td>0</td>\n",
       "      <td>0</td>\n",
       "      <td>12</td>\n",
       "      <td>R</td>\n",
       "    </tr>\n",
       "    <tr>\n",
       "      <th>818436</th>\n",
       "      <td>1088</td>\n",
       "      <td>255</td>\n",
       "      <td>0</td>\n",
       "      <td>0</td>\n",
       "      <td>0</td>\n",
       "      <td>255</td>\n",
       "      <td>134</td>\n",
       "      <td>9</td>\n",
       "      <td>0</td>\n",
       "      <td>R</td>\n",
       "    </tr>\n",
       "    <tr>\n",
       "      <th>818437</th>\n",
       "      <td>848</td>\n",
       "      <td>5</td>\n",
       "      <td>32</td>\n",
       "      <td>100</td>\n",
       "      <td>104</td>\n",
       "      <td>117</td>\n",
       "      <td>0</td>\n",
       "      <td>0</td>\n",
       "      <td>92</td>\n",
       "      <td>R</td>\n",
       "    </tr>\n",
       "    <tr>\n",
       "      <th>818438</th>\n",
       "      <td>1349</td>\n",
       "      <td>216</td>\n",
       "      <td>90</td>\n",
       "      <td>0</td>\n",
       "      <td>137</td>\n",
       "      <td>0</td>\n",
       "      <td>0</td>\n",
       "      <td>0</td>\n",
       "      <td>0</td>\n",
       "      <td>R</td>\n",
       "    </tr>\n",
       "    <tr>\n",
       "      <th>818439</th>\n",
       "      <td>790</td>\n",
       "      <td>5</td>\n",
       "      <td>33</td>\n",
       "      <td>48</td>\n",
       "      <td>10</td>\n",
       "      <td>33</td>\n",
       "      <td>30</td>\n",
       "      <td>0</td>\n",
       "      <td>111</td>\n",
       "      <td>R</td>\n",
       "    </tr>\n",
       "  </tbody>\n",
       "</table>\n",
       "<p>818440 rows × 10 columns</p>\n",
       "</div>"
      ],
      "text/plain": [
       "        CAN ID  DATA[0]  DATA[1]  DATA[2]  DATA[3]  DATA[4]  DATA[5]  DATA[6]  \\\n",
       "0         1201       41       39       39       35        0        0        0   \n",
       "1          809       64      187      127       20       17       32        0   \n",
       "2         1349      216        0        0      136        0        0        0   \n",
       "3         1201       41       39       39       35        0        0        0   \n",
       "4            2        0        0        0        0        0        3        2   \n",
       "...        ...      ...      ...      ...      ...      ...      ...      ...   \n",
       "818435     848        5       32       52      104      117        0        0   \n",
       "818436    1088      255        0        0        0      255      134        9   \n",
       "818437     848        5       32      100      104      117        0        0   \n",
       "818438    1349      216       90        0      137        0        0        0   \n",
       "818439     790        5       33       48       10       33       30        0   \n",
       "\n",
       "        DATA[7] Label  \n",
       "0           154     R  \n",
       "1            20     R  \n",
       "2             0     R  \n",
       "3           154     R  \n",
       "4           228     R  \n",
       "...         ...   ...  \n",
       "818435       12     R  \n",
       "818436        0     R  \n",
       "818437       92     R  \n",
       "818438        0     R  \n",
       "818439      111     R  \n",
       "\n",
       "[818440 rows x 10 columns]"
      ]
     },
     "execution_count": 20,
     "metadata": {},
     "output_type": "execute_result"
    }
   ],
   "source": [
    "DF_R"
   ]
  },
  {
   "cell_type": "code",
   "execution_count": 21,
   "id": "e154d151",
   "metadata": {},
   "outputs": [],
   "source": [
    "yeo_df=DF_R.copy(deep=True)"
   ]
  },
  {
   "cell_type": "markdown",
   "id": "3f5ddc16",
   "metadata": {},
   "source": [
    "## 标准化"
   ]
  },
  {
   "cell_type": "code",
   "execution_count": 22,
   "id": "3cde3de3",
   "metadata": {},
   "outputs": [],
   "source": [
    "from sklearn.preprocessing import PowerTransformer\n",
    "scaler = PowerTransformer(method='yeo-johnson')\n",
    "yeo_df[numeric_features]=scaler.fit_transform(yeo_df[numeric_features])"
   ]
  },
  {
   "cell_type": "code",
   "execution_count": 23,
   "id": "eb06756b",
   "metadata": {},
   "outputs": [
    {
     "data": {
      "text/html": [
       "<div>\n",
       "<style scoped>\n",
       "    .dataframe tbody tr th:only-of-type {\n",
       "        vertical-align: middle;\n",
       "    }\n",
       "\n",
       "    .dataframe tbody tr th {\n",
       "        vertical-align: top;\n",
       "    }\n",
       "\n",
       "    .dataframe thead th {\n",
       "        text-align: right;\n",
       "    }\n",
       "</style>\n",
       "<table border=\"1\" class=\"dataframe\">\n",
       "  <thead>\n",
       "    <tr style=\"text-align: right;\">\n",
       "      <th></th>\n",
       "      <th>CAN ID</th>\n",
       "      <th>DATA[0]</th>\n",
       "      <th>DATA[1]</th>\n",
       "      <th>DATA[2]</th>\n",
       "      <th>DATA[3]</th>\n",
       "      <th>DATA[4]</th>\n",
       "      <th>DATA[5]</th>\n",
       "      <th>DATA[6]</th>\n",
       "      <th>DATA[7]</th>\n",
       "    </tr>\n",
       "  </thead>\n",
       "  <tbody>\n",
       "    <tr>\n",
       "      <th>count</th>\n",
       "      <td>8.184400e+05</td>\n",
       "      <td>8.184400e+05</td>\n",
       "      <td>8.184400e+05</td>\n",
       "      <td>8.184400e+05</td>\n",
       "      <td>8.184400e+05</td>\n",
       "      <td>8.184400e+05</td>\n",
       "      <td>8.184400e+05</td>\n",
       "      <td>8.184400e+05</td>\n",
       "      <td>8.184400e+05</td>\n",
       "    </tr>\n",
       "    <tr>\n",
       "      <th>mean</th>\n",
       "      <td>-3.991599e-13</td>\n",
       "      <td>1.751923e-13</td>\n",
       "      <td>7.174346e-15</td>\n",
       "      <td>-4.587719e-13</td>\n",
       "      <td>3.773322e-13</td>\n",
       "      <td>-7.415923e-14</td>\n",
       "      <td>-2.187703e-13</td>\n",
       "      <td>-2.172077e-13</td>\n",
       "      <td>1.293264e-13</td>\n",
       "    </tr>\n",
       "    <tr>\n",
       "      <th>std</th>\n",
       "      <td>1.000001e+00</td>\n",
       "      <td>1.000001e+00</td>\n",
       "      <td>1.000001e+00</td>\n",
       "      <td>1.000001e+00</td>\n",
       "      <td>1.000001e+00</td>\n",
       "      <td>1.000001e+00</td>\n",
       "      <td>1.000001e+00</td>\n",
       "      <td>1.000001e+00</td>\n",
       "      <td>1.000001e+00</td>\n",
       "    </tr>\n",
       "    <tr>\n",
       "      <th>min</th>\n",
       "      <td>-2.192280e+00</td>\n",
       "      <td>-1.178105e+00</td>\n",
       "      <td>-1.185595e+00</td>\n",
       "      <td>-8.965118e-01</td>\n",
       "      <td>-1.077069e+00</td>\n",
       "      <td>-1.091400e+00</td>\n",
       "      <td>-1.179818e+00</td>\n",
       "      <td>-8.222196e-01</td>\n",
       "      <td>-9.299709e-01</td>\n",
       "    </tr>\n",
       "    <tr>\n",
       "      <th>25%</th>\n",
       "      <td>-7.980593e-01</td>\n",
       "      <td>-1.178105e+00</td>\n",
       "      <td>-1.185595e+00</td>\n",
       "      <td>-8.965118e-01</td>\n",
       "      <td>-1.077069e+00</td>\n",
       "      <td>-1.091400e+00</td>\n",
       "      <td>-1.179818e+00</td>\n",
       "      <td>-8.222196e-01</td>\n",
       "      <td>-9.299709e-01</td>\n",
       "    </tr>\n",
       "    <tr>\n",
       "      <th>50%</th>\n",
       "      <td>1.280937e-01</td>\n",
       "      <td>-1.473324e-02</td>\n",
       "      <td>3.817893e-01</td>\n",
       "      <td>-8.965118e-01</td>\n",
       "      <td>2.308893e-01</td>\n",
       "      <td>2.651124e-01</td>\n",
       "      <td>3.601800e-01</td>\n",
       "      <td>-8.222196e-01</td>\n",
       "      <td>-9.299709e-01</td>\n",
       "    </tr>\n",
       "    <tr>\n",
       "      <th>75%</th>\n",
       "      <td>9.149125e-01</td>\n",
       "      <td>9.159685e-01</td>\n",
       "      <td>8.225598e-01</td>\n",
       "      <td>1.200767e+00</td>\n",
       "      <td>1.003029e+00</td>\n",
       "      <td>1.091088e+00</td>\n",
       "      <td>1.038137e+00</td>\n",
       "      <td>9.536350e-01</td>\n",
       "      <td>1.151285e+00</td>\n",
       "    </tr>\n",
       "    <tr>\n",
       "      <th>max</th>\n",
       "      <td>2.671370e+00</td>\n",
       "      <td>1.436664e+00</td>\n",
       "      <td>1.691630e+00</td>\n",
       "      <td>1.450953e+00</td>\n",
       "      <td>1.250547e+00</td>\n",
       "      <td>1.461472e+00</td>\n",
       "      <td>1.404056e+00</td>\n",
       "      <td>1.645167e+00</td>\n",
       "      <td>1.383268e+00</td>\n",
       "    </tr>\n",
       "  </tbody>\n",
       "</table>\n",
       "</div>"
      ],
      "text/plain": [
       "             CAN ID       DATA[0]       DATA[1]       DATA[2]       DATA[3]  \\\n",
       "count  8.184400e+05  8.184400e+05  8.184400e+05  8.184400e+05  8.184400e+05   \n",
       "mean  -3.991599e-13  1.751923e-13  7.174346e-15 -4.587719e-13  3.773322e-13   \n",
       "std    1.000001e+00  1.000001e+00  1.000001e+00  1.000001e+00  1.000001e+00   \n",
       "min   -2.192280e+00 -1.178105e+00 -1.185595e+00 -8.965118e-01 -1.077069e+00   \n",
       "25%   -7.980593e-01 -1.178105e+00 -1.185595e+00 -8.965118e-01 -1.077069e+00   \n",
       "50%    1.280937e-01 -1.473324e-02  3.817893e-01 -8.965118e-01  2.308893e-01   \n",
       "75%    9.149125e-01  9.159685e-01  8.225598e-01  1.200767e+00  1.003029e+00   \n",
       "max    2.671370e+00  1.436664e+00  1.691630e+00  1.450953e+00  1.250547e+00   \n",
       "\n",
       "            DATA[4]       DATA[5]       DATA[6]       DATA[7]  \n",
       "count  8.184400e+05  8.184400e+05  8.184400e+05  8.184400e+05  \n",
       "mean  -7.415923e-14 -2.187703e-13 -2.172077e-13  1.293264e-13  \n",
       "std    1.000001e+00  1.000001e+00  1.000001e+00  1.000001e+00  \n",
       "min   -1.091400e+00 -1.179818e+00 -8.222196e-01 -9.299709e-01  \n",
       "25%   -1.091400e+00 -1.179818e+00 -8.222196e-01 -9.299709e-01  \n",
       "50%    2.651124e-01  3.601800e-01 -8.222196e-01 -9.299709e-01  \n",
       "75%    1.091088e+00  1.038137e+00  9.536350e-01  1.151285e+00  \n",
       "max    1.461472e+00  1.404056e+00  1.645167e+00  1.383268e+00  "
      ]
     },
     "execution_count": 23,
     "metadata": {},
     "output_type": "execute_result"
    }
   ],
   "source": [
    "yeo_df[numeric_features].describe()"
   ]
  },
  {
   "cell_type": "code",
   "execution_count": 24,
   "id": "d19c14ca",
   "metadata": {},
   "outputs": [
    {
     "data": {
      "image/png": "[encoded data removed]",
      "text/plain": [
       "<Figure size 1080x360 with 1 Axes>"
      ]
     },
     "metadata": {
      "needs_background": "light"
     },
     "output_type": "display_data"
    }
   ],
   "source": [
    " showPicture('yeo-johnson')"
   ]
  },
  {
   "cell_type": "markdown",
   "id": "be9aa530",
   "metadata": {},
   "source": [
    "## 降采样"
   ]
  },
  {
   "cell_type": "code",
   "execution_count": 25,
   "id": "6449c34c",
   "metadata": {},
   "outputs": [
    {
     "name": "stdout",
     "output_type": "stream",
     "text": [
      "DoS      24624\n",
      "Fuzzy    24624\n",
      "R        24624\n",
      "RPM      24624\n",
      "gear     24624\n",
      "Name: Label, dtype: int64\n"
     ]
    }
   ],
   "source": [
    "X=yeo_df[numeric_features]\n",
    "y=yeo_df['Label']\n",
    "\n",
    "from imblearn.under_sampling import NearMiss\n",
    "nm_1 = NearMiss() #形参默认 version=1, 即采用 NearMiss-1\n",
    "X_resampled, y_resampled = nm_1.fit_resample(X, y)\n",
    "\n",
    "yeo_df=pd.merge(X_resampled,y_resampled,left_index=True,right_index=True)\n",
    "print(yeo_df.Label.value_counts())"
   ]
  },
  {
   "cell_type": "code",
   "execution_count": 26,
   "id": "f2c66147",
   "metadata": {},
   "outputs": [
    {
     "data": {
      "image/png": "[encoded data removed]",
      "text/plain": [
       "<Figure size 1080x360 with 1 Axes>"
      ]
     },
     "metadata": {
      "needs_background": "light"
     },
     "output_type": "display_data"
    }
   ],
   "source": [
    " showPicture('yeo-johnson-nearmiss')"
   ]
  },
  {
   "cell_type": "markdown",
   "id": "20147e3b",
   "metadata": {},
   "source": [
    "## 归一化"
   ]
  },
  {
   "cell_type": "code",
   "execution_count": 27,
   "id": "6ac57d9f",
   "metadata": {},
   "outputs": [],
   "source": [
    "from sklearn.preprocessing import minmax_scale\n",
    "yeo_df[numeric_features]=minmax_scale(yeo_df[numeric_features])\n",
    "yeo_df[numeric_features] = yeo_df[numeric_features].apply(lambda x: (x*255))"
   ]
  },
  {
   "cell_type": "code",
   "execution_count": 28,
   "id": "7a872139",
   "metadata": {},
   "outputs": [
    {
     "data": {
      "image/png": "[encoded data removed]",
      "text/plain": [
       "<Figure size 1080x360 with 1 Axes>"
      ]
     },
     "metadata": {
      "needs_background": "light"
     },
     "output_type": "display_data"
    }
   ],
   "source": [
    " showPicture('yeo-johnson-nearmiss-maxmin')"
   ]
  },
  {
   "cell_type": "markdown",
   "id": "81cb20f2",
   "metadata": {},
   "source": [
    "## 分类"
   ]
  },
  {
   "cell_type": "code",
   "execution_count": null,
   "id": "3bd12a8d",
   "metadata": {},
   "outputs": [],
   "source": [
    "df=yeo_df.copy(deep=True)"
   ]
  },
  {
   "cell_type": "code",
   "execution_count": null,
   "id": "8d761a22",
   "metadata": {},
   "outputs": [],
   "source": [
    "df0=df[df['Label']=='R'].drop(['Label'],axis=1)\n",
    "df1=df[df['Label']=='RPM'].drop(['Label'],axis=1)\n",
    "df2=df[df['Label']=='gear'].drop(['Label'],axis=1)\n",
    "df3=df[df['Label']=='DoS'].drop(['Label'],axis=1)\n",
    "df4=df[df['Label']=='Fuzzy'].drop(['Label'],axis=1)\n",
    "\n",
    "def generate_image(DF,ditrr='../data/train_yeo/', image_p = \"\"):\n",
    "    ''':cvar\n",
    "    Generate 9*9 color images for class 0 (Normal)\n",
    "    Change the numbers 9 to the number of features n in your dataset if you use a different dataset, reshape(n,n,3)\n",
    "    '''\n",
    "    count=0\n",
    "    ims = []\n",
    "    image_path = ditrr + image_p\n",
    "    os.makedirs(image_path)\n",
    "\n",
    "    for i in range(0, len(DF)):\n",
    "        count=count+1\n",
    "        if count<=27:\n",
    "            im=DF.iloc[i].values\n",
    "            ims=np.append(ims,im)\n",
    "        else:\n",
    "            ims=np.array(ims).reshape(9,9,3)\n",
    "            array = np.array(ims, dtype=np.uint8)\n",
    "            new_image = Image.fromarray(array)\n",
    "            new_image.save(image_path+str(i)+'.png')\n",
    "            count=0\n",
    "            ims = []\n",
    "\n",
    "generate_image(df0,image_p = \"0/\") # normal\n",
    "generate_image(df1,image_p = \"1/\")\n",
    "generate_image(df2,image_p = \"2/\")\n",
    "generate_image(df3,image_p = \"3/\") # dos attack\n",
    "generate_image(df4,image_p = \"4/\") # fuzzy attack"
   ]
  },
  {
   "cell_type": "code",
   "execution_count": null,
   "id": "561a694a",
   "metadata": {},
   "outputs": [],
   "source": [
    "display_image_for_each_category(drit='../data/train_yeo',one='27.png',two='83.png',three='27.png',four='27.png',five='27.png')"
   ]
  },
  {
   "cell_type": "markdown",
   "id": "18f3a57b",
   "metadata": {},
   "source": [
    "# Box-Cox转换[没法转换]"
   ]
  },
  {
   "cell_type": "code",
   "execution_count": null,
   "id": "ee467cab",
   "metadata": {},
   "outputs": [],
   "source": [
    "box_df=DF_R.copy(deep=True)"
   ]
  },
  {
   "cell_type": "code",
   "execution_count": null,
   "id": "460a2f51",
   "metadata": {},
   "outputs": [],
   "source": [
    "from sklearn.preprocessing import PowerTransformer\n",
    "scaler = PowerTransformer(method='box-cox')\n",
    "box_df[numeric_features]=scaler.fit_transform(box_df[numeric_features])"
   ]
  },
  {
   "cell_type": "markdown",
   "id": "4a9b4c05",
   "metadata": {},
   "source": [
    "# QuantileTransformer-正则转换"
   ]
  },
  {
   "cell_type": "code",
   "execution_count": 40,
   "id": "8a1a6870",
   "metadata": {},
   "outputs": [],
   "source": [
    "def showPicture(name_):\n",
    "    from PIL import Image, ImageStat\n",
    "    import math\n",
    "    import os\n",
    "    import matplotlib.pyplot as plt\n",
    "    import numpy as np\n",
    "    import cv2\n",
    "\n",
    "    plt.figure(figsize=(15,5))\n",
    "    for i in range(9):\n",
    "        plt.hist(qtn_df[numeric_features].iloc[:,i], bins=15,alpha = 0.5,label=str(qtn_df.columns.tolist()[i]))\n",
    "    plt.xlabel(\"Numerical value\")\n",
    "    plt.ylabel(\"Numbers\")\n",
    "    plt.tick_params(top='off', right='off')\n",
    "    plt.title(name_)\n",
    "    plt.legend()\n",
    "    plt.show()"
   ]
  },
  {
   "cell_type": "markdown",
   "id": "2941627e",
   "metadata": {},
   "source": [
    "## 标准化"
   ]
  },
  {
   "cell_type": "code",
   "execution_count": 30,
   "id": "8be72c16",
   "metadata": {},
   "outputs": [],
   "source": [
    "qtn_df=DF_R.copy(deep=True)"
   ]
  },
  {
   "cell_type": "code",
   "execution_count": 31,
   "id": "a7a566fe",
   "metadata": {},
   "outputs": [],
   "source": [
    "from sklearn.preprocessing import QuantileTransformer\n",
    "scaler = QuantileTransformer(output_distribution='normal')\n",
    "qtn_df[numeric_features] = scaler.fit_transform(qtn_df[numeric_features])"
   ]
  },
  {
   "cell_type": "code",
   "execution_count": 32,
   "id": "393a9086",
   "metadata": {},
   "outputs": [
    {
     "data": {
      "text/html": [
       "<div>\n",
       "<style scoped>\n",
       "    .dataframe tbody tr th:only-of-type {\n",
       "        vertical-align: middle;\n",
       "    }\n",
       "\n",
       "    .dataframe tbody tr th {\n",
       "        vertical-align: top;\n",
       "    }\n",
       "\n",
       "    .dataframe thead th {\n",
       "        text-align: right;\n",
       "    }\n",
       "</style>\n",
       "<table border=\"1\" class=\"dataframe\">\n",
       "  <thead>\n",
       "    <tr style=\"text-align: right;\">\n",
       "      <th></th>\n",
       "      <th>CAN ID</th>\n",
       "      <th>DATA[0]</th>\n",
       "      <th>DATA[1]</th>\n",
       "      <th>DATA[2]</th>\n",
       "      <th>DATA[3]</th>\n",
       "      <th>DATA[4]</th>\n",
       "      <th>DATA[5]</th>\n",
       "      <th>DATA[6]</th>\n",
       "      <th>DATA[7]</th>\n",
       "    </tr>\n",
       "  </thead>\n",
       "  <tbody>\n",
       "    <tr>\n",
       "      <th>count</th>\n",
       "      <td>818440.000000</td>\n",
       "      <td>818440.000000</td>\n",
       "      <td>818440.000000</td>\n",
       "      <td>818440.000000</td>\n",
       "      <td>818440.000000</td>\n",
       "      <td>818440.000000</td>\n",
       "      <td>818440.000000</td>\n",
       "      <td>818440.000000</td>\n",
       "      <td>818440.000000</td>\n",
       "    </tr>\n",
       "    <tr>\n",
       "      <th>mean</th>\n",
       "      <td>-0.108759</td>\n",
       "      <td>-1.224408</td>\n",
       "      <td>-1.653994</td>\n",
       "      <td>-2.440324</td>\n",
       "      <td>-1.014391</td>\n",
       "      <td>-1.606398</td>\n",
       "      <td>-1.298895</td>\n",
       "      <td>-2.613202</td>\n",
       "      <td>-2.178961</td>\n",
       "    </tr>\n",
       "    <tr>\n",
       "      <th>std</th>\n",
       "      <td>1.331761</td>\n",
       "      <td>3.009898</td>\n",
       "      <td>2.892302</td>\n",
       "      <td>3.046542</td>\n",
       "      <td>4.070426</td>\n",
       "      <td>3.247085</td>\n",
       "      <td>3.051059</td>\n",
       "      <td>3.046164</td>\n",
       "      <td>3.281051</td>\n",
       "    </tr>\n",
       "    <tr>\n",
       "      <th>min</th>\n",
       "      <td>-5.199338</td>\n",
       "      <td>-5.199338</td>\n",
       "      <td>-5.199338</td>\n",
       "      <td>-5.199338</td>\n",
       "      <td>-5.199338</td>\n",
       "      <td>-5.199338</td>\n",
       "      <td>-5.199338</td>\n",
       "      <td>-5.199338</td>\n",
       "      <td>-5.199338</td>\n",
       "    </tr>\n",
       "    <tr>\n",
       "      <th>25%</th>\n",
       "      <td>-0.641002</td>\n",
       "      <td>-5.199338</td>\n",
       "      <td>-5.199338</td>\n",
       "      <td>-5.199338</td>\n",
       "      <td>-5.199338</td>\n",
       "      <td>-5.199338</td>\n",
       "      <td>-5.199338</td>\n",
       "      <td>-5.199338</td>\n",
       "      <td>-5.199338</td>\n",
       "    </tr>\n",
       "    <tr>\n",
       "      <th>50%</th>\n",
       "      <td>-0.055229</td>\n",
       "      <td>-0.017565</td>\n",
       "      <td>-0.118204</td>\n",
       "      <td>-5.199338</td>\n",
       "      <td>0.032625</td>\n",
       "      <td>0.002509</td>\n",
       "      <td>0.017565</td>\n",
       "      <td>-5.199338</td>\n",
       "      <td>-5.199338</td>\n",
       "    </tr>\n",
       "    <tr>\n",
       "      <th>75%</th>\n",
       "      <td>0.662724</td>\n",
       "      <td>0.694311</td>\n",
       "      <td>0.697507</td>\n",
       "      <td>0.779924</td>\n",
       "      <td>0.667419</td>\n",
       "      <td>0.694311</td>\n",
       "      <td>0.654930</td>\n",
       "      <td>0.684763</td>\n",
       "      <td>0.681594</td>\n",
       "    </tr>\n",
       "    <tr>\n",
       "      <th>max</th>\n",
       "      <td>5.199338</td>\n",
       "      <td>5.199338</td>\n",
       "      <td>5.199338</td>\n",
       "      <td>5.199338</td>\n",
       "      <td>5.199338</td>\n",
       "      <td>5.199338</td>\n",
       "      <td>5.199338</td>\n",
       "      <td>5.199338</td>\n",
       "      <td>5.199338</td>\n",
       "    </tr>\n",
       "  </tbody>\n",
       "</table>\n",
       "</div>"
      ],
      "text/plain": [
       "              CAN ID        DATA[0]        DATA[1]        DATA[2]  \\\n",
       "count  818440.000000  818440.000000  818440.000000  818440.000000   \n",
       "mean       -0.108759      -1.224408      -1.653994      -2.440324   \n",
       "std         1.331761       3.009898       2.892302       3.046542   \n",
       "min        -5.199338      -5.199338      -5.199338      -5.199338   \n",
       "25%        -0.641002      -5.199338      -5.199338      -5.199338   \n",
       "50%        -0.055229      -0.017565      -0.118204      -5.199338   \n",
       "75%         0.662724       0.694311       0.697507       0.779924   \n",
       "max         5.199338       5.199338       5.199338       5.199338   \n",
       "\n",
       "             DATA[3]        DATA[4]        DATA[5]        DATA[6]  \\\n",
       "count  818440.000000  818440.000000  818440.000000  818440.000000   \n",
       "mean       -1.014391      -1.606398      -1.298895      -2.613202   \n",
       "std         4.070426       3.247085       3.051059       3.046164   \n",
       "min        -5.199338      -5.199338      -5.199338      -5.199338   \n",
       "25%        -5.199338      -5.199338      -5.199338      -5.199338   \n",
       "50%         0.032625       0.002509       0.017565      -5.199338   \n",
       "75%         0.667419       0.694311       0.654930       0.684763   \n",
       "max         5.199338       5.199338       5.199338       5.199338   \n",
       "\n",
       "             DATA[7]  \n",
       "count  818440.000000  \n",
       "mean       -2.178961  \n",
       "std         3.281051  \n",
       "min        -5.199338  \n",
       "25%        -5.199338  \n",
       "50%        -5.199338  \n",
       "75%         0.681594  \n",
       "max         5.199338  "
      ]
     },
     "execution_count": 32,
     "metadata": {},
     "output_type": "execute_result"
    }
   ],
   "source": [
    "qtn_df[numeric_features].describe()"
   ]
  },
  {
   "cell_type": "code",
   "execution_count": 33,
   "id": "3edc0055",
   "metadata": {},
   "outputs": [
    {
     "data": {
      "image/png": "[encoded data removed]",
      "text/plain": [
       "<Figure size 1080x360 with 1 Axes>"
      ]
     },
     "metadata": {
      "needs_background": "light"
     },
     "output_type": "display_data"
    }
   ],
   "source": [
    "showPicture('QuantileTransformer-normal')"
   ]
  },
  {
   "cell_type": "markdown",
   "id": "6474ef08",
   "metadata": {},
   "source": [
    "## 降采样"
   ]
  },
  {
   "cell_type": "code",
   "execution_count": 34,
   "id": "b8286d4d",
   "metadata": {},
   "outputs": [
    {
     "name": "stdout",
     "output_type": "stream",
     "text": [
      "DoS      24624\n",
      "Fuzzy    24624\n",
      "R        24624\n",
      "RPM      24624\n",
      "gear     24624\n",
      "Name: Label, dtype: int64\n"
     ]
    }
   ],
   "source": [
    "X=qtn_df[numeric_features]\n",
    "y=qtn_df['Label']\n",
    "\n",
    "from imblearn.under_sampling import NearMiss\n",
    "nm_1 = NearMiss() #形参默认 version=1, 即采用 NearMiss-1\n",
    "X_resampled, y_resampled = nm_1.fit_resample(X, y)\n",
    "\n",
    "qtn_df=pd.merge(X_resampled,y_resampled,left_index=True,right_index=True)\n",
    "print(qtn_df.Label.value_counts())"
   ]
  },
  {
   "cell_type": "code",
   "execution_count": 35,
   "id": "1109128a",
   "metadata": {},
   "outputs": [
    {
     "data": {
      "image/png": "[encoded data removed]",
      "text/plain": [
       "<Figure size 1080x360 with 1 Axes>"
      ]
     },
     "metadata": {
      "needs_background": "light"
     },
     "output_type": "display_data"
    }
   ],
   "source": [
    "showPicture('QuantileTransformer-normal-nearmiss')"
   ]
  },
  {
   "cell_type": "markdown",
   "id": "dc3dab81",
   "metadata": {},
   "source": [
    "## 归一化"
   ]
  },
  {
   "cell_type": "code",
   "execution_count": 36,
   "id": "5cc7711b",
   "metadata": {},
   "outputs": [],
   "source": [
    "from sklearn.preprocessing import minmax_scale\n",
    "qtn_df[numeric_features]=minmax_scale(qtn_df[numeric_features])\n",
    "qtn_df[numeric_features] = qtn_df[numeric_features].apply(lambda x: (x*255))"
   ]
  },
  {
   "cell_type": "code",
   "execution_count": 41,
   "id": "cdb5a9e5",
   "metadata": {},
   "outputs": [
    {
     "data": {
      "image/png": "[encoded data removed]",
      "text/plain": [
       "<Figure size 1080x360 with 1 Axes>"
      ]
     },
     "metadata": {
      "needs_background": "light"
     },
     "output_type": "display_data"
    }
   ],
   "source": [
    "showPicture('QuantileTransformer-normal-nearmiss-maxmin')"
   ]
  },
  {
   "cell_type": "markdown",
   "id": "a3bce2fe",
   "metadata": {},
   "source": [
    "## 分类"
   ]
  },
  {
   "cell_type": "code",
   "execution_count": 38,
   "id": "4d24a748",
   "metadata": {},
   "outputs": [],
   "source": [
    "df=qtn_df.copy(deep=True)"
   ]
  },
  {
   "cell_type": "code",
   "execution_count": 39,
   "id": "3fce8dd2",
   "metadata": {},
   "outputs": [
    {
     "ename": "FileExistsError",
     "evalue": "[WinError 183] 当文件已存在时，无法创建该文件。: '../data/train_qnt/0/'",
     "output_type": "error",
     "traceback": [
      "\u001b[1;31m---------------------------------------------------------------------------\u001b[0m",
      "\u001b[1;31mFileExistsError\u001b[0m                           Traceback (most recent call last)",
      "\u001b[1;32m<ipython-input-39-ef3c9a769aa9>\u001b[0m in \u001b[0;36m<module>\u001b[1;34m\u001b[0m\n\u001b[0;32m     28\u001b[0m             \u001b[0mims\u001b[0m \u001b[1;33m=\u001b[0m \u001b[1;33m[\u001b[0m\u001b[1;33m]\u001b[0m\u001b[1;33m\u001b[0m\u001b[1;33m\u001b[0m\u001b[0m\n\u001b[0;32m     29\u001b[0m \u001b[1;33m\u001b[0m\u001b[0m\n\u001b[1;32m---> 30\u001b[1;33m \u001b[0mgenerate_image\u001b[0m\u001b[1;33m(\u001b[0m\u001b[0mdf0\u001b[0m\u001b[1;33m,\u001b[0m\u001b[0mimage_p\u001b[0m \u001b[1;33m=\u001b[0m \u001b[1;34m\"0/\"\u001b[0m\u001b[1;33m)\u001b[0m \u001b[1;31m# normal\u001b[0m\u001b[1;33m\u001b[0m\u001b[1;33m\u001b[0m\u001b[0m\n\u001b[0m\u001b[0;32m     31\u001b[0m \u001b[0mgenerate_image\u001b[0m\u001b[1;33m(\u001b[0m\u001b[0mdf1\u001b[0m\u001b[1;33m,\u001b[0m\u001b[0mimage_p\u001b[0m \u001b[1;33m=\u001b[0m \u001b[1;34m\"1/\"\u001b[0m\u001b[1;33m)\u001b[0m\u001b[1;33m\u001b[0m\u001b[1;33m\u001b[0m\u001b[0m\n\u001b[0;32m     32\u001b[0m \u001b[0mgenerate_image\u001b[0m\u001b[1;33m(\u001b[0m\u001b[0mdf2\u001b[0m\u001b[1;33m,\u001b[0m\u001b[0mimage_p\u001b[0m \u001b[1;33m=\u001b[0m \u001b[1;34m\"2/\"\u001b[0m\u001b[1;33m)\u001b[0m\u001b[1;33m\u001b[0m\u001b[1;33m\u001b[0m\u001b[0m\n",
      "\u001b[1;32m<ipython-input-39-ef3c9a769aa9>\u001b[0m in \u001b[0;36mgenerate_image\u001b[1;34m(DF, ditrr, image_p)\u001b[0m\n\u001b[0;32m     13\u001b[0m     \u001b[0mims\u001b[0m \u001b[1;33m=\u001b[0m \u001b[1;33m[\u001b[0m\u001b[1;33m]\u001b[0m\u001b[1;33m\u001b[0m\u001b[1;33m\u001b[0m\u001b[0m\n\u001b[0;32m     14\u001b[0m     \u001b[0mimage_path\u001b[0m \u001b[1;33m=\u001b[0m \u001b[0mditrr\u001b[0m \u001b[1;33m+\u001b[0m \u001b[0mimage_p\u001b[0m\u001b[1;33m\u001b[0m\u001b[1;33m\u001b[0m\u001b[0m\n\u001b[1;32m---> 15\u001b[1;33m     \u001b[0mos\u001b[0m\u001b[1;33m.\u001b[0m\u001b[0mmakedirs\u001b[0m\u001b[1;33m(\u001b[0m\u001b[0mimage_path\u001b[0m\u001b[1;33m)\u001b[0m\u001b[1;33m\u001b[0m\u001b[1;33m\u001b[0m\u001b[0m\n\u001b[0m\u001b[0;32m     16\u001b[0m \u001b[1;33m\u001b[0m\u001b[0m\n\u001b[0;32m     17\u001b[0m     \u001b[1;32mfor\u001b[0m \u001b[0mi\u001b[0m \u001b[1;32min\u001b[0m \u001b[0mrange\u001b[0m\u001b[1;33m(\u001b[0m\u001b[1;36m0\u001b[0m\u001b[1;33m,\u001b[0m \u001b[0mlen\u001b[0m\u001b[1;33m(\u001b[0m\u001b[0mDF\u001b[0m\u001b[1;33m)\u001b[0m\u001b[1;33m)\u001b[0m\u001b[1;33m:\u001b[0m\u001b[1;33m\u001b[0m\u001b[1;33m\u001b[0m\u001b[0m\n",
      "\u001b[1;32mD:\\Anaconda\\lib\\os.py\u001b[0m in \u001b[0;36mmakedirs\u001b[1;34m(name, mode, exist_ok)\u001b[0m\n\u001b[0;32m    219\u001b[0m             \u001b[1;32mreturn\u001b[0m\u001b[1;33m\u001b[0m\u001b[1;33m\u001b[0m\u001b[0m\n\u001b[0;32m    220\u001b[0m     \u001b[1;32mtry\u001b[0m\u001b[1;33m:\u001b[0m\u001b[1;33m\u001b[0m\u001b[1;33m\u001b[0m\u001b[0m\n\u001b[1;32m--> 221\u001b[1;33m         \u001b[0mmkdir\u001b[0m\u001b[1;33m(\u001b[0m\u001b[0mname\u001b[0m\u001b[1;33m,\u001b[0m \u001b[0mmode\u001b[0m\u001b[1;33m)\u001b[0m\u001b[1;33m\u001b[0m\u001b[1;33m\u001b[0m\u001b[0m\n\u001b[0m\u001b[0;32m    222\u001b[0m     \u001b[1;32mexcept\u001b[0m \u001b[0mOSError\u001b[0m\u001b[1;33m:\u001b[0m\u001b[1;33m\u001b[0m\u001b[1;33m\u001b[0m\u001b[0m\n\u001b[0;32m    223\u001b[0m         \u001b[1;31m# Cannot rely on checking for EEXIST, since the operating system\u001b[0m\u001b[1;33m\u001b[0m\u001b[1;33m\u001b[0m\u001b[1;33m\u001b[0m\u001b[0m\n",
      "\u001b[1;31mFileExistsError\u001b[0m: [WinError 183] 当文件已存在时，无法创建该文件。: '../data/train_qnt/0/'"
     ]
    }
   ],
   "source": [
    "df0=df[df['Label']=='R'].drop(['Label'],axis=1)\n",
    "df1=df[df['Label']=='RPM'].drop(['Label'],axis=1)\n",
    "df2=df[df['Label']=='gear'].drop(['Label'],axis=1)\n",
    "df3=df[df['Label']=='DoS'].drop(['Label'],axis=1)\n",
    "df4=df[df['Label']=='Fuzzy'].drop(['Label'],axis=1)\n",
    "\n",
    "def generate_image(DF,ditrr='../data/train_qnt/', image_p = \"\"):\n",
    "    ''':cvar\n",
    "    Generate 9*9 color images for class 0 (Normal)\n",
    "    Change the numbers 9 to the number of features n in your dataset if you use a different dataset, reshape(n,n,3)\n",
    "    '''\n",
    "    count=0\n",
    "    ims = []\n",
    "    image_path = ditrr + image_p\n",
    "    os.makedirs(image_path)\n",
    "\n",
    "    for i in range(0, len(DF)):\n",
    "        count=count+1\n",
    "        if count<=27:\n",
    "            im=DF.iloc[i].values\n",
    "            ims=np.append(ims,im)\n",
    "        else:\n",
    "            ims=np.array(ims).reshape(9,9,3)\n",
    "            array = np.array(ims, dtype=np.uint8)\n",
    "            new_image = Image.fromarray(array)\n",
    "            new_image.save(image_path+str(i)+'.png')\n",
    "            count=0\n",
    "            ims = []\n",
    "\n",
    "generate_image(df0,image_p = \"0/\") # normal\n",
    "generate_image(df1,image_p = \"1/\")\n",
    "generate_image(df2,image_p = \"2/\")\n",
    "generate_image(df3,image_p = \"3/\") # dos attack\n",
    "generate_image(df4,image_p = \"4/\") # fuzzy attack"
   ]
  },
  {
   "cell_type": "code",
   "execution_count": null,
   "id": "c2de0cd6",
   "metadata": {},
   "outputs": [],
   "source": [
    "display_image_for_each_category(drit='../data/train_qnt',one='27.png',two='83.png',three='27.png',four='27.png',five='27.png')"
   ]
  },
  {
   "cell_type": "code",
   "execution_count": null,
   "id": "87bddd18",
   "metadata": {},
   "outputs": [],
   "source": [
    "# import statsmodels.api as sm\n",
    "# import matplotlib.pyplot as plt\n",
    "# for i in range(8):\n",
    "#     sm.qqplot(qtn_df[numeric_features].iloc[:,i], line='s')\n",
    "#     pylab.savefig('../img/qtn_'+str(i))"
   ]
  },
  {
   "cell_type": "code",
   "execution_count": null,
   "id": "4ea6c942",
   "metadata": {},
   "outputs": [],
   "source": [
    "# from imblearn.over_sampling import SMOTE\n",
    "# X_resampled, y_resampled = SMOTE().fit_resample(X, y)"
   ]
  },
  {
   "cell_type": "code",
   "execution_count": null,
   "id": "aaa093d5",
   "metadata": {},
   "outputs": [],
   "source": [
    "# from imblearn.under_sampling import RandomUnderSampler\n",
    "# rus = RandomUnderSampler(random_state=0)\n",
    "# X_resampled, y_resampled = rus.fit_resample(X, y)"
   ]
  }
 ],
 "metadata": {
  "kernelspec": {
   "display_name": "PyCharm (深度学习)",
   "language": "python",
   "name": "pycharm-30235576"
  },
  "language_info": {
   "codemirror_mode": {
    "name": "ipython",
    "version": 3
   },
   "file_extension": ".py",
   "mimetype": "text/x-python",
   "name": "python",
   "nbconvert_exporter": "python",
   "pygments_lexer": "ipython3",
   "version": "3.7.6"
  },
  "toc": {
   "base_numbering": 1,
   "nav_menu": {},
   "number_sections": true,
   "sideBar": true,
   "skip_h1_title": false,
   "title_cell": "Table of Contents",
   "title_sidebar": "Contents",
   "toc_cell": false,
   "toc_position": {
    "height": "calc(100% - 180px)",
    "left": "10px",
    "top": "150px",
    "width": "258px"
   },
   "toc_section_display": true,
   "toc_window_display": true
  }
 },
 "nbformat": 4,
 "nbformat_minor": 5
}
