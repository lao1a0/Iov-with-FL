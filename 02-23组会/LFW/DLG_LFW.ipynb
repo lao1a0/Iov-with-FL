{
 "cells": [
  {
   "cell_type": "code",
   "execution_count": 1,
   "metadata": {
    "ExecuteTime": {
     "end_time": "2024-02-21T09:23:11.625769Z",
     "start_time": "2024-02-21T09:23:10.653602Z"
    },
    "colab": {
     "base_uri": "https://localhost:8080/"
    },
    "id": "NWa7Xo6PkIl3",
    "outputId": "c2563f9d-8045-4eee-f39b-68a4c7b32dab"
   },
   "outputs": [
    {
     "name": "stdout",
     "output_type": "stream",
     "text": [
      "2.0.0+cu118 0.15.1+cu118\n"
     ]
    }
   ],
   "source": [
    "%matplotlib inline\n",
    "\n",
    "import numpy as np\n",
    "from pprint import pprint\n",
    "\n",
    "from PIL import Image\n",
    "import matplotlib.pyplot as plt\n",
    "\n",
    "import torch\n",
    "import torch.nn as nn\n",
    "import torch.nn.functional as F\n",
    "from torch.autograd import grad\n",
    "import torchvision\n",
    "from torchvision import models, datasets, transforms\n",
    "torch.manual_seed(50)\n",
    "\n",
    "print(torch.__version__, torchvision.__version__)"
   ]
  },
  {
   "cell_type": "code",
   "execution_count": null,
   "metadata": {
    "ExecuteTime": {
     "end_time": "2024-02-21T09:23:11.655418Z",
     "start_time": "2024-02-21T09:23:11.628433Z"
    },
    "colab": {
     "base_uri": "https://localhost:8080/"
    },
    "id": "VjKWqs2akepH",
    "outputId": "b7758dc0-2e62-49a3-d058-50082f6a4388"
   },
   "outputs": [
    {
     "name": "stdout",
     "output_type": "stream",
     "text": [
      "Downloading http://vis-www.cs.umass.edu/lfw/lfw-funneled.tgz to /home/raoxy/data/lfw-py/lfw-funneled.tgz\n"
     ]
    },
    {
     "name": "stderr",
     "output_type": "stream",
     "text": [
      " 14%|█▍        | 34635776/243346528 [00:44<01:25, 2447109.91it/s]"
     ]
    }
   ],
   "source": [
    "dst = datasets.LFWPeople(\"/home/raoxy/data\",download=True)"
   ]
  },
  {
   "cell_type": "code",
   "execution_count": null,
   "metadata": {
    "ExecuteTime": {
     "end_time": "2024-02-21T09:23:11.669208Z",
     "start_time": "2024-02-21T09:23:11.657992Z"
    },
    "code_folding": [
     8,
     12
    ],
    "colab": {
     "base_uri": "https://localhost:8080/"
    },
    "id": "Cf1BhChS-0sa",
    "outputId": "90e01dcf-432d-485e-c1b1-aea703fbe8ce"
   },
   "outputs": [],
   "source": [
    " tp=transforms.Compose([\n",
    "    transforms.Resize((32, 32)), # 缩放图像到 32 x 32\n",
    "    transforms.Grayscale(), # 灰度化图像\n",
    "    transforms.ToTensor(), # 转化为张量\n",
    "    transforms.Normalize((0.5,), (0.5,)) # 归一化\n",
    "])\n",
    "\n",
    "tt = transforms.ToPILImage()\n",
    "\n",
    "device = \"cpu\"\n",
    "if torch.cuda.is_available():\n",
    "    device = \"cuda\"\n",
    "print(\"Running on %s\" % device)\n",
    "\n",
    "def label_to_onehot(target, num_classes=100):\n",
    "    target = torch.unsqueeze(target, 1)\n",
    "    onehot_target = torch.zeros(target.size(0), num_classes, device=target.device)\n",
    "    onehot_target.scatter_(1, target, 1)\n",
    "    return onehot_target\n",
    "\n",
    "def cross_entropy_for_onehot(pred, target):\n",
    "    return torch.mean(torch.sum(- target * F.log_softmax(pred, dim=-1), 1))"
   ]
  },
  {
   "cell_type": "code",
   "execution_count": null,
   "metadata": {
    "ExecuteTime": {
     "end_time": "2024-02-21T09:23:14.668113Z",
     "start_time": "2024-02-21T09:23:11.671550Z"
    },
    "code_folding": [
     6
    ],
    "colab": {
     "base_uri": "https://localhost:8080/"
    },
    "id": "AorI020iVjjS",
    "outputId": "81bc33fe-c42c-4ea3-bd40-2555844f81d7"
   },
   "outputs": [],
   "source": [
    "def weights_init(m):\n",
    "    if hasattr(m, \"weight\"):\n",
    "        m.weight.data.uniform_(-0.5, 0.5)\n",
    "    if hasattr(m, \"bias\"):\n",
    "        m.bias.data.uniform_(-0.5, 0.5)\n",
    "\n",
    "class LeNet(nn.Module):\n",
    "    def __init__(self):\n",
    "        super(LeNet, self).__init__()\n",
    "        self.body = nn.Sequential(\n",
    "            nn.Conv2d(1, 12, kernel_size=5, stride=2, padding=2),\n",
    "            nn.Sigmoid(),\n",
    "            nn.Conv2d(12, 12, kernel_size=5, stride=2, padding=2),\n",
    "            nn.Sigmoid(),\n",
    "            nn.Conv2d(12, 12, kernel_size=5, stride=1, padding=2),\n",
    "            nn.Sigmoid(),\n",
    "            nn.Conv2d(12, 12, kernel_size=5, stride=1, padding=2),\n",
    "            nn.Sigmoid()\n",
    "        )\n",
    "        self.fc = nn.Sequential(\n",
    "            nn.Linear(in_features=768, out_features=5749, bias=True) # 修改输出特征数为 5749\n",
    "        )\n",
    "\n",
    "    def forward(self, x):\n",
    "        x = self.body(x)\n",
    "        x = x.view(-1, 768)\n",
    "        x = self.fc(x)\n",
    "        return x\n",
    "# class LeNet(nn.Module):\n",
    "#     def __init__(self):\n",
    "#         super(LeNet, self).__init__()\n",
    "#         act = nn.Sigmoid\n",
    "#         self.body = nn.Sequential(\n",
    "#             nn.Conv2d(3, 12, kernel_size=5, padding=5//2, stride=2),\n",
    "#             act(),\n",
    "#             nn.Conv2d(12, 12, kernel_size=5, padding=5//2, stride=2),\n",
    "#             act(),\n",
    "#             nn.Conv2d(12, 12, kernel_size=5, padding=5//2, stride=1),\n",
    "#             act(),\n",
    "#             nn.Conv2d(12, 12, kernel_size=5, padding=5//2, stride=1),\n",
    "#             act(),\n",
    "#         )\n",
    "#         self.fc = nn.Sequential(\n",
    "#             nn.Linear(768, 100)\n",
    "#         )\n",
    "\n",
    "#     def forward(self, x):\n",
    "#         out = self.body(x)\n",
    "#         out = out.view(out.size(0), -1)\n",
    "#         # print(out.size())\n",
    "#         out = self.fc(out)\n",
    "#         return out\n",
    "# class LeNet(nn.Module):\n",
    "#     def __init__(self):\n",
    "#         super(LeNet, self).__init__()\n",
    "#         self.conv1 = nn.Conv2d(1, 32, kernel_size=(5, 5), stride=(1, 1), padding=(2, 2))\n",
    "#         self.pool1 = nn.MaxPool2d(kernel_size=(2, 2), stride=(2, 2), padding=0)\n",
    "#         self.conv2 = nn.Conv2d(32, 64, kernel_size=(5, 5), stride=(1, 1), padding=(2, 2))\n",
    "#         self.pool2 = nn.MaxPool2d(kernel_size=(2, 2), stride=(2, 2), padding=0)\n",
    "#         self.fc1 = nn.Linear(64 * 7 * 7, 1000)\n",
    "#         self.fc2 = nn.Linear(1000, 10)\n",
    "\n",
    "#     def forward(self, x):\n",
    "#         x = self.conv1(x)\n",
    "#         x = nn.functional.relu(x)\n",
    "#         x = self.pool1(x)\n",
    "#         x = self.conv2(x)\n",
    "#         x = nn.functional.relu(x)\n",
    "#         x = self.pool2(x)\n",
    "#         x = x.view(-1, 64 * 7 * 7)\n",
    "#         x = self.fc1(x)\n",
    "#         x = nn.functional.relu(x)\n",
    "#         x= self.fc2(x)\n",
    "#         x = nn.functional.softmax(x, dim=1)\n",
    "#         return x\n",
    "net = LeNet().to(device)\n",
    "net.apply(weights_init)"
   ]
  },
  {
   "cell_type": "code",
   "execution_count": null,
   "metadata": {
    "ExecuteTime": {
     "end_time": "2024-02-21T09:23:14.672095Z",
     "start_time": "2024-02-21T09:23:14.669646Z"
    },
    "id": "0qOrrYp4-0sc"
   },
   "outputs": [],
   "source": [
    "criterion = cross_entropy_for_onehot\n",
    "# criterion =  nn.CrossEntropyLoss().to(device)"
   ]
  },
  {
   "cell_type": "code",
   "execution_count": null,
   "metadata": {
    "ExecuteTime": {
     "end_time": "2024-02-21T09:23:14.689240Z",
     "start_time": "2024-02-21T09:23:14.673453Z"
    },
    "code_folding": [],
    "id": "8mSgR4GClV-8"
   },
   "outputs": [],
   "source": [
    "def Raw(img_index):\n",
    "    global History\n",
    "    gt_data = tp(dst[img_index][0]).to(device)\n",
    "    gt_data = gt_data.view(1, *gt_data.size())\n",
    "    gt_label = torch.Tensor([dst[img_index][1]]).long().to(device)\n",
    "    gt_label = gt_label.view(1, )\n",
    "    gt_onehot_label = label_to_onehot(gt_label, num_classes=5749)\n",
    "    # compute original gradient\n",
    "    out = net(gt_data)\n",
    "    y = criterion(out, gt_onehot_label)\n",
    "    dy_dx = torch.autograd.grad(y, net.parameters())\n",
    "\n",
    "    # share the gradients with other clients\n",
    "    original_dy_dx = list((_.detach().clone() for _ in dy_dx))\n",
    "\n",
    "    # generate dummy data and label\n",
    "    dummy_data = torch.randn(gt_data.size()).to(device).requires_grad_(True)\n",
    "    dummy_label = torch.randn(gt_onehot_label.size()).to(device).requires_grad_(True)\n",
    "    optimizer = torch.optim.LBFGS([dummy_data, dummy_label] )\n",
    "\n",
    "    history = []\n",
    "    for iters in range(300):\n",
    "        def closure():\n",
    "            optimizer.zero_grad()\n",
    "\n",
    "            pred = net(dummy_data)\n",
    "            dummy_onehot_label = F.softmax(dummy_label, dim=-1)\n",
    "            dummy_loss = criterion(pred, dummy_onehot_label) # TODO: fix the gt_label to dummy_label in both code and slides.\n",
    "            dummy_dy_dx = torch.autograd.grad(dummy_loss, net.parameters(), create_graph=True)\n",
    "\n",
    "            grad_diff = 0\n",
    "            grad_count = 0\n",
    "            for gx, gy in zip(dummy_dy_dx, original_dy_dx): # TODO: fix the variablas here\n",
    "                grad_diff += ((gx - gy) ** 2).sum()\n",
    "                grad_count += gx.nelement()\n",
    "            # grad_diff = grad_diff / grad_count * 1000\n",
    "            grad_diff.backward()\n",
    "\n",
    "            return grad_diff\n",
    "\n",
    "        optimizer.step(closure)\n",
    "        if iters % 10 == 0:\n",
    "            current_loss = closure()\n",
    "#             print(iters, \"%.4f\" % current_loss.item())\n",
    "        history.append(tt(dummy_data[0].cpu()))\n",
    "\n",
    "    Print(History)\n",
    "    return history"
   ]
  },
  {
   "cell_type": "code",
   "execution_count": null,
   "metadata": {
    "ExecuteTime": {
     "end_time": "2024-02-21T09:23:14.712068Z",
     "start_time": "2024-02-21T09:23:14.690206Z"
    },
    "id": "mXrsaowN-0sd"
   },
   "outputs": [],
   "source": [
    "def Print(History):\n",
    "    plt.figure(figsize=(12, 8))\n",
    "    plt.subplots_adjust(wspace=0.05, hspace=0.05)\n",
    "    for j in range(len(History)):\n",
    "        plt.subplot(5, 10, j + 1)\n",
    "        plt.imshow(History[j])\n",
    "        plt.title(\"title={}\".format(j))\n",
    "        plt.axis('off')\n",
    "    plt.show()"
   ]
  },
  {
   "cell_type": "code",
   "execution_count": null,
   "metadata": {
    "ExecuteTime": {
     "start_time": "2024-02-21T09:23:09.291Z"
    },
    "colab": {
     "base_uri": "https://localhost:8080/",
     "height": 69
    },
    "id": "tHi84xS--0sd",
    "outputId": "2d95d7f7-dcf8-4c77-81f3-ac11b4860c48",
    "tags": []
   },
   "outputs": [],
   "source": [
    "History=[]\n",
    "for i in range(50):\n",
    "    print(\"#\"*50+\"[\"+ str(i)+\"]\"+\"#\"*50)\n",
    "    History.append(Raw(i)[-1])"
   ]
  }
 ],
 "metadata": {
  "accelerator": "GPU",
  "colab": {
   "provenance": []
  },
  "hide_input": false,
  "kernelspec": {
   "display_name": "Python 3 (ipykernel)",
   "language": "python",
   "name": "python3"
  },
  "language_info": {
   "codemirror_mode": {
    "name": "ipython",
    "version": 3
   },
   "file_extension": ".py",
   "mimetype": "text/x-python",
   "name": "python",
   "nbconvert_exporter": "python",
   "pygments_lexer": "ipython3",
   "version": "3.8.10"
  },
  "latex_envs": {
   "LaTeX_envs_menu_present": true,
   "autoclose": false,
   "autocomplete": true,
   "bibliofile": "biblio.bib",
   "cite_by": "apalike",
   "current_citInitial": 1,
   "eqLabelWithNumbers": true,
   "eqNumInitial": 1,
   "hotkeys": {
    "equation": "Ctrl-E",
    "itemize": "Ctrl-I"
   },
   "labels_anchors": false,
   "latex_user_defs": false,
   "report_style_numbering": false,
   "user_envs_cfg": false
  },
  "toc": {
   "base_numbering": 1,
   "nav_menu": {},
   "number_sections": true,
   "sideBar": true,
   "skip_h1_title": false,
   "title_cell": "Table of Contents",
   "title_sidebar": "Contents",
   "toc_cell": false,
   "toc_position": {},
   "toc_section_display": true,
   "toc_window_display": false
  }
 },
 "nbformat": 4,
 "nbformat_minor": 4
}
