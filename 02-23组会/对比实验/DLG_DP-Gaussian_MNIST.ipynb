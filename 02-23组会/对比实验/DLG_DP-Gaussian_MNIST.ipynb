{
 "cells": [
  {
   "cell_type": "code",
   "execution_count": 20,
   "metadata": {
    "ExecuteTime": {
     "end_time": "2024-02-22T09:31:24.098741Z",
     "start_time": "2024-02-22T09:31:24.094253Z"
    },
    "colab": {
     "base_uri": "https://localhost:8080/",
     "height": 34
    },
    "id": "NWa7Xo6PkIl3",
    "outputId": "9d406a09-f23e-4b89-c3f2-a6dd4e9d6a2a"
   },
   "outputs": [
    {
     "name": "stdout",
     "output_type": "stream",
     "text": [
      "1.10.1 0.11.2\n"
     ]
    }
   ],
   "source": [
    "%matplotlib inline\n",
    "\n",
    "import numpy as np\n",
    "from pprint import pprint\n",
    "\n",
    "from PIL import Image\n",
    "import matplotlib.pyplot as plt\n",
    "\n",
    "import torch\n",
    "import torch.nn as nn\n",
    "import torch.nn.functional as F\n",
    "from torch.autograd import grad\n",
    "import torchvision\n",
    "from torchvision import models, datasets, transforms\n",
    "\n",
    "torch.manual_seed(50)\n",
    "\n",
    "print(torch.__version__, torchvision.__version__)"
   ]
  },
  {
   "cell_type": "code",
   "execution_count": 21,
   "metadata": {
    "ExecuteTime": {
     "end_time": "2024-02-22T09:31:24.401839Z",
     "start_time": "2024-02-22T09:31:24.371412Z"
    },
    "colab": {
     "base_uri": "https://localhost:8080/",
     "height": 99,
     "referenced_widgets": [
      "c3ca367dae49422fac361cb0b12604c7",
      "648bccaeee754d08ab55501e40c804ea",
      "c1614b2739dd4f44b5ad0e4793b7a5d8",
      "58ea7f96451c48db8aacc1479ce5a570",
      "d9f1b39155c64eb6a33d745a27f940be",
      "b2682540a10b4646ba96e3cc549f2a23",
      "19c8d63413164e4ea00a5c3dbd9f2b15",
      "f1d4dec7f3cf4aa7b321dbdcb49e705a"
     ]
    },
    "id": "VjKWqs2akepH",
    "outputId": "4da32114-194a-4642-8036-3d3e574cf17c"
   },
   "outputs": [],
   "source": [
    "# 加载CIFAR-10数据集，如果本地没有则自动下载\n",
    "dst = datasets.MNIST(\"/home/raoxy/data\", download=True)"
   ]
  },
  {
   "cell_type": "code",
   "execution_count": 22,
   "metadata": {
    "ExecuteTime": {
     "end_time": "2024-02-22T09:31:24.583556Z",
     "start_time": "2024-02-22T09:31:24.576792Z"
    },
    "colab": {
     "base_uri": "https://localhost:8080/",
     "height": 99,
     "referenced_widgets": [
      "c3ca367dae49422fac361cb0b12604c7",
      "648bccaeee754d08ab55501e40c804ea",
      "c1614b2739dd4f44b5ad0e4793b7a5d8",
      "58ea7f96451c48db8aacc1479ce5a570",
      "d9f1b39155c64eb6a33d745a27f940be",
      "b2682540a10b4646ba96e3cc549f2a23",
      "19c8d63413164e4ea00a5c3dbd9f2b15",
      "f1d4dec7f3cf4aa7b321dbdcb49e705a"
     ]
    },
    "id": "VjKWqs2akepH",
    "outputId": "4da32114-194a-4642-8036-3d3e574cf17c"
   },
   "outputs": [
    {
     "name": "stdout",
     "output_type": "stream",
     "text": [
      "Running on cuda\n"
     ]
    }
   ],
   "source": [
    "# 定义一个转换序列，包括缩放、裁剪、转换为张量等操作\n",
    "tp = transforms.Compose([\n",
    "    transforms.Resize(28),\n",
    "    transforms.CenterCrop(28),\n",
    "    transforms.ToTensor()\n",
    "])\n",
    "\n",
    "# 定义一个函数，用于将张量转换为PIL图像\n",
    "tt = transforms.ToPILImage()\n",
    "\n",
    "# 检测是否有可用的GPU，如果有则使用GPU，否则使用CPU\n",
    "device = \"cpu\"\n",
    "if torch.cuda.is_available():\n",
    "    device = \"cuda\"\n",
    "print(\"Running on %s\" % device)"
   ]
  },
  {
   "cell_type": "code",
   "execution_count": 23,
   "metadata": {
    "ExecuteTime": {
     "end_time": "2024-02-22T09:31:24.790655Z",
     "start_time": "2024-02-22T09:31:24.786035Z"
    },
    "colab": {
     "base_uri": "https://localhost:8080/",
     "height": 99,
     "referenced_widgets": [
      "c3ca367dae49422fac361cb0b12604c7",
      "648bccaeee754d08ab55501e40c804ea",
      "c1614b2739dd4f44b5ad0e4793b7a5d8",
      "58ea7f96451c48db8aacc1479ce5a570",
      "d9f1b39155c64eb6a33d745a27f940be",
      "b2682540a10b4646ba96e3cc549f2a23",
      "19c8d63413164e4ea00a5c3dbd9f2b15",
      "f1d4dec7f3cf4aa7b321dbdcb49e705a"
     ]
    },
    "id": "VjKWqs2akepH",
    "outputId": "4da32114-194a-4642-8036-3d3e574cf17c"
   },
   "outputs": [],
   "source": [
    "# 定义一个函数，用于将标签转换为one-hot编码的张量\n",
    "def label_to_onehot(target, num_classes=10):\n",
    "    # 在第一个维度上增加一个维度，使得target的形状为(N, 1)\n",
    "    target = torch.unsqueeze(target, 1)\n",
    "    # 创建一个全零的张量，形状为(N, num_classes)，设备与target相同\n",
    "    onehot_target = torch.zeros(target.size(0), num_classes, device=target.device)\n",
    "    # 在第二个维度上根据target的值将onehot_target的对应位置设为1\n",
    "    onehot_target.scatter_(1, target, 1)\n",
    "    # 返回onehot_target\n",
    "    return onehot_target\n",
    "\n",
    "# 定义一个函数，用于计算one-hot编码的标签和预测值之间的交叉熵损失\n",
    "def cross_entropy_for_onehot(pred, target):\n",
    "    # 对预测值进行log_softmax操作，然后与目标值相乘，再求和，最后求平均\n",
    "    return torch.mean(torch.sum(- target * F.log_softmax(pred, dim=-1), 1))"
   ]
  },
  {
   "cell_type": "markdown",
   "metadata": {},
   "source": [
    "# LeNet"
   ]
  },
  {
   "cell_type": "code",
   "execution_count": 24,
   "metadata": {
    "ExecuteTime": {
     "end_time": "2024-02-22T09:31:25.402946Z",
     "start_time": "2024-02-22T09:31:25.396317Z"
    },
    "code_folding": [
     0
    ],
    "id": "AorI020iVjjS"
   },
   "outputs": [],
   "source": [
    "# # 定义一个类，继承自nn.Module，表示LeNet模型\n",
    "# class LeNet(nn.Module):\n",
    "#     # 定义模型的构造函数\n",
    "#     def __init__(self):\n",
    "#         # 调用父类的构造函数\n",
    "#         super(LeNet, self).__init__()\n",
    "#         # 定义激活函数为Sigmoid\n",
    "#         act = nn.Sigmoid\n",
    "#         # 定义模型的卷积部分，包括四个卷积层和两个池化层，以及Sigmoid激活函数\n",
    "#         self.body = nn.Sequential(\n",
    "#             # 第一个卷积层，输入通道为3，输出通道为12，卷积核大小为5，填充为2，步长为2\n",
    "#             nn.Conv2d(3, 12, kernel_size=5, padding=5//2, stride=2),\n",
    "#             # 第一个激活层，使用Sigmoid函数\n",
    "#             act(),\n",
    "#             # 第二个卷积层，输入通道为12，输出通道为12，卷积核大小为5，填充为2，步长为2\n",
    "#             nn.Conv2d(12, 12, kernel_size=5, padding=5//2, stride=2),\n",
    "#             # 第二个激活层，使用Sigmoid函数\n",
    "#             act(),\n",
    "#             # 第三个卷积层，输入通道为12，输出通道为12，卷积核大小为5，填充为2，步长为1\n",
    "#             nn.Conv2d(12, 12, kernel_size=5, padding=5//2, stride=1),\n",
    "#             # 第三个激活层，使用Sigmoid函数\n",
    "#             act(),\n",
    "#             # 第四个卷积层，输入通道为12，输出通道为12，卷积核大小为5，填充为2，步长为1\n",
    "#             nn.Conv2d(12, 12, kernel_size=5, padding=5//2, stride=1),\n",
    "#             # 第四个激活层，使用Sigmoid函数\n",
    "#             act(),\n",
    "#         )\n",
    "#         # 定义模型的全连接部分，包括一个线性层\n",
    "#         self.fc = nn.Sequential(\n",
    "#             # 第一个线性层，输入特征为768，输出特征为10，表示10个类别\n",
    "#             nn.Linear(768, 5749),\n",
    "#             # 注释掉了第二个激活层和第二个线性层，可能是为了简化模型\n",
    "#             #act(),\n",
    "#             #nn.Linear(256, 10)\n",
    "#         )\n",
    "        \n",
    "#     # 定义模型的前向传播函数\n",
    "#     def forward(self, x):\n",
    "#         # 将输入数据通过卷积部分，得到输出\n",
    "#         out = self.body(x)\n",
    "#         # 将输出展平为一维向量，形状为(N, 768)，其中N是批量大小\n",
    "#         feature = out.view(out.size(0), -1)\n",
    "#         # 打印特征的形状，用于调试\n",
    "#         #print(feature.size())\n",
    "#         # 将特征通过全连接部分，得到最终的输出\n",
    "#         out = self.fc(feature)\n",
    "#         # 返回输出和特征\n",
    "#         return out, feature"
   ]
  },
  {
   "cell_type": "code",
   "execution_count": 25,
   "metadata": {
    "ExecuteTime": {
     "end_time": "2024-02-22T09:31:25.602286Z",
     "start_time": "2024-02-22T09:31:25.599241Z"
    },
    "code_folding": [
     0
    ]
   },
   "outputs": [],
   "source": [
    "# class LeNet(nn.Module):\n",
    "#     # 定义模型的构造函数\n",
    "#     def __init__(self):\n",
    "#         # 调用父类的构造函数\n",
    "#         super(LeNet, self).__init__()\n",
    "#         # 定义激活函数为Sigmoid\n",
    "#         act = nn.Sigmoid\n",
    "#         # 定义模型的卷积部分，包括四个卷积层和两个池化层，以及Sigmoid激活函数\n",
    "#         self.body = nn.Sequential(\n",
    "#             # 第一个卷积层，输入通道为3，输出通道为12，卷积核大小为5，填充为2，步长为2\n",
    "#             nn.Conv2d(3, 12, kernel_size=5, padding=5//2, stride=2),\n",
    "#             # 第一个激活层，使用Sigmoid函数\n",
    "#             act(),\n",
    "#             # 第二个卷积层，输入通道为12，输出通道为24，卷积核大小为5，填充为2，步长为2\n",
    "#             nn.Conv2d(12, 24, kernel_size=5, padding=5//2, stride=2),\n",
    "#             # 第二个激活层，使用Sigmoid函数\n",
    "#             act(),\n",
    "#             # 第三个卷积层，输入通道为24，输出通道为48，卷积核大小为5，填充为2，步长为2\n",
    "#             nn.Conv2d(24, 48, kernel_size=5, padding=5//2, stride=2),\n",
    "#             # 第三个激活层，使用Sigmoid函数\n",
    "#             act(),\n",
    "#             # 第四个卷积层，输入通道为48，输出通道为96，卷积核大小为5，填充为2，步长为2\n",
    "#             nn.Conv2d(48, 96, kernel_size=5, padding=5//2, stride=2),\n",
    "#             # 第四个激活层，使用Sigmoid函数\n",
    "#             act(),\n",
    "#         )\n",
    "#         # 定义模型的全连接部分，包括一个线性层\n",
    "#         self.fc = nn.Sequential(\n",
    "#             # 第一个线性层，输入特征为96*4*4，输出特征为5749，表示5749个类别\n",
    "#             nn.Linear(24576, 5749),\n",
    "#             # 注释掉了第二个激活层和第二个线性层，可能是为了简化模型\n",
    "#             #act(),\n",
    "#             #nn.Linear(256, 10)\n",
    "#         )\n",
    "        \n",
    "#     # 定义模型的前向传播函数\n",
    "#     def forward(self, x):\n",
    "#         # 将输入数据通过卷积部分，得到输出\n",
    "#         out = self.body(x)\n",
    "#         # 将输出展平为一维向量，形状为(N, 96*4*4)，其中N是批量大小\n",
    "#         feature = out.view(out.size(0), -1)\n",
    "#         # 打印特征的形状，用于调试\n",
    "#         #print(feature.size())\n",
    "#         # 将特征通过全连接部分，得到最终的输出\n",
    "#         out = self.fc(feature)\n",
    "#         # 返回输出和特征\n",
    "#         return out, feature"
   ]
  },
  {
   "cell_type": "code",
   "execution_count": 26,
   "metadata": {
    "ExecuteTime": {
     "end_time": "2024-02-22T09:31:25.831202Z",
     "start_time": "2024-02-22T09:31:25.805365Z"
    }
   },
   "outputs": [],
   "source": [
    "# 定义一个类，继承自nn.Module，表示LeNet模型\n",
    "class D_CNN(nn.Module):\n",
    "        def __init__(self):\n",
    "            super(D_CNN, self).__init__()\n",
    "            self.conv1 = nn.Conv2d(1, 32, kernel_size=(5, 5), stride=(1, 1), padding=(2, 2))\n",
    "            self.pool1 = nn.MaxPool2d(kernel_size=(2, 2), stride=(2, 2), padding=0)\n",
    "            self.conv2 = nn.Conv2d(32, 64, kernel_size=(5, 5), stride=(1, 1), padding=(2, 2))\n",
    "            self.pool2 = nn.MaxPool2d(kernel_size=(2, 2), stride=(2, 2), padding=0)\n",
    "            self.fc1 = nn.Linear(64 * 7 * 7, 1000)\n",
    "            self.fc2 = nn.Linear(1000, 10)\n",
    "\n",
    "        def forward(self, x):\n",
    "            x = self.conv1(x)\n",
    "            x = nn.functional.relu(x)\n",
    "            x = self.pool1(x)\n",
    "            x = self.conv2(x)\n",
    "            x = nn.functional.relu(x)\n",
    "            x = self.pool2(x)\n",
    "            x = x.view(-1, 64 * 7 * 7)\n",
    "            x = self.fc1(x)\n",
    "            feature = nn.functional.relu(x)\n",
    "            out = self.fc2(feature)\n",
    "#             x = nn.functional.softmax(feature, dim=1)\n",
    "            return out,feature\n",
    "    \n",
    "# 创建一个LeNet模型的实例，并将其移动到设备上，可以是CPU或GPU\n",
    "net = D_CNN().to(device)"
   ]
  },
  {
   "cell_type": "code",
   "execution_count": 27,
   "metadata": {
    "ExecuteTime": {
     "end_time": "2024-02-22T09:31:25.954269Z",
     "start_time": "2024-02-22T09:31:25.948319Z"
    },
    "code_folding": [
     0
    ],
    "id": "AorI020iVjjS"
   },
   "outputs": [],
   "source": [
    "# 定义一个函数，用于初始化模型的权重和偏置\n",
    "def weights_init(m):\n",
    "    # 如果模型有权重属性，就将其均匀分布在[-0.5, 0.5]之间\n",
    "    if hasattr(m, \"weight\"):\n",
    "        m.weight.data.uniform_(-0.5, 0.5)\n",
    "    # 如果模型有偏置属性，也将其均匀分布在[-0.5, 0.5]之间\n",
    "    if hasattr(m, \"bias\"):\n",
    "        m.bias.data.uniform_(-0.5, 0.5)\n",
    "        \n",
    "    \n",
    "# 调用weights_init函数，对模型的参数进行初始化\n",
    "net.apply(weights_init)\n",
    "# 定义损失函数为one-hot编码的交叉熵损失\n",
    "criterion = cross_entropy_for_onehot"
   ]
  },
  {
   "cell_type": "markdown",
   "metadata": {},
   "source": [
    "# 图像索引"
   ]
  },
  {
   "cell_type": "code",
   "execution_count": 28,
   "metadata": {
    "ExecuteTime": {
     "end_time": "2024-02-22T09:31:26.320967Z",
     "start_time": "2024-02-22T09:31:26.317297Z"
    },
    "colab": {
     "base_uri": "https://localhost:8080/",
     "height": 579
    },
    "id": "8mSgR4GClV-8",
    "outputId": "8061397f-186d-4627-a61c-dd13dfcbfaad"
   },
   "outputs": [],
   "source": [
    "# 定义一个图像索引，表示要显示的图像在数据集中的位置\n",
    "img_index = 2"
   ]
  },
  {
   "cell_type": "code",
   "execution_count": 29,
   "metadata": {
    "ExecuteTime": {
     "end_time": "2024-02-22T09:31:26.651187Z",
     "start_time": "2024-02-22T09:31:26.522405Z"
    },
    "colab": {
     "base_uri": "https://localhost:8080/",
     "height": 579
    },
    "id": "8mSgR4GClV-8",
    "outputId": "8061397f-186d-4627-a61c-dd13dfcbfaad"
   },
   "outputs": [
    {
     "name": "stdout",
     "output_type": "stream",
     "text": [
      "GT label is 4. \n",
      "Onehot label is 4.\n"
     ]
    },
    {
     "data": {
      "image/png": "[encoded data removed]",
      "text/plain": [
       "<Figure size 640x480 with 1 Axes>"
      ]
     },
     "metadata": {},
     "output_type": "display_data"
    }
   ],
   "source": [
    "# 从数据集中获取图像，并使用之前定义的转换序列处理图像\n",
    "gt_data = tp(dst[img_index][0]).to(device)\n",
    "# 将图像的形状调整为(1, 3, 32, 32)，表示批量大小为1，通道数为3，高度和宽度为32\n",
    "gt_data = gt_data.view(1, *gt_data.size())\n",
    "# 从数据集中获取图像的标签，并转换为长整型张量\n",
    "gt_label = torch.Tensor([dst[img_index][1]]).long().to(device)\n",
    "# 将标签的形状调整为(1,)，表示批量大小为1\n",
    "gt_label = gt_label.view(1, )\n",
    "# 将标签转换为one-hot编码的张量，形状为(1, 10)，表示批量大小为1，类别数为10\n",
    "gt_onehot_label = label_to_onehot(gt_label, num_classes=10)\n",
    "\n",
    "# 设置图像的梯度属性为True，表示可以对图像进行梯度计算\n",
    "gt_data.requires_grad = True\n",
    "\n",
    "# 将图像从张量转换为PIL图像，并使用matplotlib显示图像\n",
    "plt.imshow(tt(gt_data[0].cpu()))\n",
    "# 设置图像的标题为\"Ground truth image\"\n",
    "plt.title(\"Ground truth image\")\n",
    "# 打印图像的标签和one-hot编码的标签\n",
    "print(\"GT label is %d.\" % gt_label.item(), \"\\nOnehot label is %d.\" % torch.argmax(gt_onehot_label, dim=-1).item())"
   ]
  },
  {
   "cell_type": "code",
   "execution_count": 30,
   "metadata": {
    "ExecuteTime": {
     "end_time": "2024-02-22T09:31:27.262143Z",
     "start_time": "2024-02-22T09:31:26.726651Z"
    },
    "colab": {
     "base_uri": "https://localhost:8080/",
     "height": 579
    },
    "id": "8mSgR4GClV-8",
    "outputId": "8061397f-186d-4627-a61c-dd13dfcbfaad"
   },
   "outputs": [],
   "source": [
    "# 计算输出和特征向量相对于输入的导数的范数与特征向量的范数的比值，即||dr/dX||/||r||\n",
    "out,feature_fc1_graph = net(gt_data) # 通过网络得到输出和特征向量\n",
    "deviation_f1_target = torch.zeros_like(feature_fc1_graph) # 创建一个全零的张量，用于存储目标梯度\n",
    "deviation_f1_x_norm = torch.zeros_like(feature_fc1_graph) # 创建一个全零的张量，用于存储导数的范数\n",
    "for f in range(deviation_f1_x_norm.size(1)): # 对于每个特征向量的维度\n",
    "    deviation_f1_target[:,f] = 1 # 将目标梯度的对应位置设为1\n",
    "    feature_fc1_graph.backward(deviation_f1_target, retain_graph=True) # 对特征向量进行反向传播，计算梯度\n",
    "    deviation_f1_x = gt_data.grad.data # 获取输入的梯度\n",
    "    deviation_f1_x_norm[:,f] = torch.norm(deviation_f1_x.view(deviation_f1_x.size(0), -1), dim=1)/(feature_fc1_graph.data[:,f]) # 计算梯度的范数与特征向量的比值\n",
    "    net.zero_grad() # 清零网络的梯度\n",
    "    gt_data.grad.data.zero_() # 清零输入的梯度\n",
    "    deviation_f1_target[:,f] = 0 # 将目标梯度的对应位置设为0"
   ]
  },
  {
   "cell_type": "code",
   "execution_count": 31,
   "metadata": {
    "ExecuteTime": {
     "end_time": "2024-02-22T09:31:27.275515Z",
     "start_time": "2024-02-22T09:31:27.264426Z"
    },
    "colab": {
     "base_uri": "https://localhost:8080/",
     "height": 579
    },
    "id": "8mSgR4GClV-8",
    "outputId": "8061397f-186d-4627-a61c-dd13dfcbfaad"
   },
   "outputs": [
    {
     "name": "stdout",
     "output_type": "stream",
     "text": [
      "1000.0\n"
     ]
    }
   ],
   "source": [
    "# 根据最小的||dr_i/dX||/||r_i||来剪枝特征向量\n",
    "deviation_f1_x_norm_sum = deviation_f1_x_norm.sum(axis=0) # 对每个维度求和\n",
    "thresh = np.percentile(deviation_f1_x_norm_sum.flatten().cpu().numpy(), 1) # 根据百分位数确定阈值\n",
    "mask = np.where(abs(deviation_f1_x_norm_sum.cpu()) < thresh, 0, 1).astype(np.float32) # 根据阈值生成掩码，小于阈值的为0，大于阈值的为1\n",
    "print(sum(mask)) # 打印掩码的和，即保留的特征向量的数量"
   ]
  },
  {
   "cell_type": "code",
   "execution_count": 32,
   "metadata": {
    "ExecuteTime": {
     "end_time": "2024-02-22T09:31:27.284907Z",
     "start_time": "2024-02-22T09:31:27.276586Z"
    },
    "colab": {
     "base_uri": "https://localhost:8080/",
     "height": 579
    },
    "id": "8mSgR4GClV-8",
    "outputId": "8061397f-186d-4627-a61c-dd13dfcbfaad"
   },
   "outputs": [],
   "source": [
    "y = criterion(out, gt_onehot_label) # 计算输出和标签之间的损失\n",
    "dy_dx = torch.autograd.grad(y, net.parameters()) # 计算损失对网络参数的梯度"
   ]
  },
  {
   "cell_type": "code",
   "execution_count": 33,
   "metadata": {
    "ExecuteTime": {
     "end_time": "2024-02-22T09:31:27.446476Z",
     "start_time": "2024-02-22T09:31:27.443582Z"
    },
    "colab": {
     "base_uri": "https://localhost:8080/",
     "height": 579
    },
    "id": "8mSgR4GClV-8",
    "outputId": "8061397f-186d-4627-a61c-dd13dfcbfaad"
   },
   "outputs": [],
   "source": [
    "# 与其他客户端共享梯度\n",
    "original_dy_dx = list((_.detach().clone() for _ in dy_dx)) # 复制梯度"
   ]
  },
  {
   "cell_type": "code",
   "execution_count": 34,
   "metadata": {
    "ExecuteTime": {
     "end_time": "2024-02-22T09:31:27.651844Z",
     "start_time": "2024-02-22T09:31:27.648750Z"
    },
    "colab": {
     "base_uri": "https://localhost:8080/",
     "height": 579
    },
    "id": "8mSgR4GClV-8",
    "outputId": "8061397f-186d-4627-a61c-dd13dfcbfaad"
   },
   "outputs": [],
   "source": [
    "# original_dy_dx[-2] = original_dy_dx[-2] * torch.Tensor(mask).to(device)# 将梯度乘以掩码，实现剪枝"
   ]
  },
  {
   "cell_type": "code",
   "execution_count": 35,
   "metadata": {
    "ExecuteTime": {
     "end_time": "2024-02-22T09:31:27.941488Z",
     "start_time": "2024-02-22T09:31:27.792207Z"
    }
   },
   "outputs": [],
   "source": [
    "# differential privacy (DP)\n",
    "for i in range(len(original_dy_dx)):\n",
    "    grad_tensor = original_dy_dx[i].cpu().numpy() # 将梯度转换为numpy数组\n",
    "    # 生成高斯噪声\n",
    "    # mean是高斯分布的均值，std是高斯分布的标准差\n",
    "    mean = 0\n",
    "    std = 0.1\n",
    "    noise = np.random.normal(mean, std, size=grad_tensor.shape)\n",
    "#     noise = np.random.laplace(0,1e-1, size=grad_tensor.shape) # 生成拉普拉斯噪声DP-Laplace\n",
    "    grad_tensor = grad_tensor + noise # 将梯度加上噪声\n",
    "    original_dy_dx[i] = torch.Tensor(grad_tensor).to(device) # 将梯度转换为张量"
   ]
  },
  {
   "cell_type": "markdown",
   "metadata": {
    "colab": {
     "base_uri": "https://localhost:8080/",
     "height": 579
    },
    "id": "8mSgR4GClV-8",
    "outputId": "8061397f-186d-4627-a61c-dd13dfcbfaad"
   },
   "source": [
    "# 绘制导数的范数和特征向量的曲线"
   ]
  },
  {
   "cell_type": "code",
   "execution_count": 36,
   "metadata": {
    "ExecuteTime": {
     "end_time": "2024-02-22T09:31:28.291934Z",
     "start_time": "2024-02-22T09:31:28.160688Z"
    },
    "colab": {
     "base_uri": "https://localhost:8080/",
     "height": 579
    },
    "id": "8mSgR4GClV-8",
    "outputId": "8061397f-186d-4627-a61c-dd13dfcbfaad"
   },
   "outputs": [
    {
     "data": {
      "image/png": "[encoded data removed]",
      "text/plain": [
       "<Figure size 640x480 with 1 Axes>"
      ]
     },
     "metadata": {},
     "output_type": "display_data"
    }
   ],
   "source": [
    "plt.figure() # 创建一个图形\n",
    "plt.plot(feature_fc1_graph.cpu().detach().numpy().flatten(),alpha=0.5,color=\"orange\", label='||r||') # 绘制特征向量的曲线\n",
    "plt.plot(deviation_f1_x_norm_sum.cpu().numpy(),alpha=0.5,color=\"blue\", label='||dev r||') # 绘制导数的范数的曲线\n",
    "plt.legend() # 显示图例\n",
    "plt.show() # 显示图'形"
   ]
  },
  {
   "cell_type": "code",
   "execution_count": 37,
   "metadata": {
    "ExecuteTime": {
     "end_time": "2024-02-22T09:31:28.509152Z",
     "start_time": "2024-02-22T09:31:28.386126Z"
    },
    "id": "BVQN0Jxc0iHm"
   },
   "outputs": [
    {
     "name": "stdout",
     "output_type": "stream",
     "text": [
      "Dummy label is 4.\n"
     ]
    },
    {
     "data": {
      "image/png": "[encoded data removed]",
      "text/plain": [
       "<Figure size 640x480 with 1 Axes>"
      ]
     },
     "metadata": {},
     "output_type": "display_data"
    }
   ],
   "source": [
    "# 生成一些随机的数据和标签，形状与真实的数据和标签相同\n",
    "dummy_data_init = torch.randn(gt_data.size()) # 使用torch.randn()函数[^1^][1]生成一个服从标准正态分布的张量\n",
    "dummy_label_init = torch.randn(gt_onehot_label.size()) # 同上\n",
    "\n",
    "# 将随机的数据和标签转换为张量，并移动到设备上，可以是CPU或GPU\n",
    "dummy_data = torch.Tensor(dummy_data_init).to(device).requires_grad_(True) # 使用torch.Tensor()函数将numpy数组转换为张量，并设置requires_grad属性为True，表示可以对数据进行梯度计算\n",
    "dummy_label = torch.Tensor(dummy_label_init).to(device).requires_grad_(True) # 同上\n",
    "\n",
    "# 使用plt.imshow()函数将数据的第一张图像显示出来，需要先将张量转换为numpy数组，并使用tt()函数将其转换为PIL图像\n",
    "plt.imshow(tt(dummy_data[0].cpu())) # 使用cpu()函数将张量从GPU移动到CPU，否则无法转换为numpy数组\n",
    "# 设置图像的标题为\"Dummy data\"\n",
    "plt.title(\"Dummy data\")\n",
    "# 打印标签的最大值的索引，即虚拟的类别\n",
    "print(\"Dummy label is %d.\" % torch.argmax(dummy_label, dim=-1).item()) # 使用torch.argmax()函数获取张量在指定维度上的最大值的索引，使用item()函数[^6^][6]获取张量中的元素值"
   ]
  },
  {
   "cell_type": "code",
   "execution_count": 38,
   "metadata": {
    "ExecuteTime": {
     "end_time": "2024-02-22T09:31:29.730751Z",
     "start_time": "2024-02-22T09:31:28.605548Z"
    },
    "colab": {
     "base_uri": "https://localhost:8080/",
     "height": 491
    },
    "id": "NZNuuwTFlYr0",
    "outputId": "54d9a994-26a2-433b-fb71-1b0e31e5d3a5"
   },
   "outputs": [
    {
     "name": "stdout",
     "output_type": "stream",
     "text": [
      "0, loss: 8773146.0, MSE: 0.475986510515213, MSE_min: 0.475986510515213\n",
      "10, loss: 8773146.0, MSE: 0.475986510515213, MSE_min: 0.475986510515213\n",
      "20, loss: 8773146.0, MSE: 0.475986510515213, MSE_min: 0.475986510515213\n",
      "30, loss: 8773146.0, MSE: 0.475986510515213, MSE_min: 0.475986510515213\n",
      "40, loss: 8773146.0, MSE: 0.475986510515213, MSE_min: 0.475986510515213\n",
      "50, loss: 8773146.0, MSE: 0.475986510515213, MSE_min: 0.475986510515213\n",
      "60, loss: 8773146.0, MSE: 0.475986510515213, MSE_min: 0.475986510515213\n",
      "70, loss: 8773146.0, MSE: 0.475986510515213, MSE_min: 0.475986510515213\n",
      "80, loss: 8773146.0, MSE: 0.475986510515213, MSE_min: 0.475986510515213\n",
      "90, loss: 8773146.0, MSE: 0.475986510515213, MSE_min: 0.475986510515213\n",
      "100, loss: 8773146.0, MSE: 0.475986510515213, MSE_min: 0.475986510515213\n",
      "110, loss: 8773146.0, MSE: 0.475986510515213, MSE_min: 0.475986510515213\n",
      "120, loss: 8773146.0, MSE: 0.475986510515213, MSE_min: 0.475986510515213\n",
      "130, loss: 8773146.0, MSE: 0.475986510515213, MSE_min: 0.475986510515213\n",
      "140, loss: 8773146.0, MSE: 0.475986510515213, MSE_min: 0.475986510515213\n",
      "150, loss: 8773146.0, MSE: 0.475986510515213, MSE_min: 0.475986510515213\n",
      "160, loss: 8773146.0, MSE: 0.475986510515213, MSE_min: 0.475986510515213\n",
      "170, loss: 8773146.0, MSE: 0.475986510515213, MSE_min: 0.475986510515213\n",
      "180, loss: 8773146.0, MSE: 0.475986510515213, MSE_min: 0.475986510515213\n",
      "190, loss: 8773146.0, MSE: 0.475986510515213, MSE_min: 0.475986510515213\n",
      "200, loss: 8773146.0, MSE: 0.475986510515213, MSE_min: 0.475986510515213\n",
      "210, loss: 8773146.0, MSE: 0.475986510515213, MSE_min: 0.475986510515213\n",
      "220, loss: 8773146.0, MSE: 0.475986510515213, MSE_min: 0.475986510515213\n",
      "230, loss: 8773146.0, MSE: 0.475986510515213, MSE_min: 0.475986510515213\n",
      "240, loss: 8773146.0, MSE: 0.475986510515213, MSE_min: 0.475986510515213\n",
      "250, loss: 8773146.0, MSE: 0.475986510515213, MSE_min: 0.475986510515213\n",
      "260, loss: 8773146.0, MSE: 0.475986510515213, MSE_min: 0.475986510515213\n",
      "270, loss: 8773146.0, MSE: 0.475986510515213, MSE_min: 0.475986510515213\n",
      "280, loss: 8773146.0, MSE: 0.475986510515213, MSE_min: 0.475986510515213\n",
      "290, loss: 8773146.0, MSE: 0.475986510515213, MSE_min: 0.475986510515213\n"
     ]
    }
   ],
   "source": [
    "# 定义一个LBFGS优化器，将虚拟的数据和标签作为需要优化的参数\n",
    "optimizer = torch.optim.LBFGS([dummy_data, dummy_label] )\n",
    "# 注释掉了另一个优化器，SGD，可能是为了比较效果\n",
    "#optimizer = torch.optim.SGD([dummy_data, dummy_label], lr=0.1, momentum=0.9 )\n",
    "\n",
    "# 创建一个空列表，用于存储优化过程中的虚拟数据\n",
    "history = []\n",
    "# 定义一个变量，用于存储虚拟数据和真实数据之间的最小均方误差\n",
    "MSE_min = 100\n",
    "# 进行300次迭代优化\n",
    "for iters in range(300):\n",
    "    # 定义一个闭包函数，用于计算虚拟数据和标签的梯度差\n",
    "    def closure():\n",
    "        # 清零优化器的梯度\n",
    "        optimizer.zero_grad()\n",
    "        # 通过网络得到虚拟数据的预测和特征向量\n",
    "        #out, [feature_fc1_graph, feature_fc2_graph, feature_fc3_graph] = net(gt_data)\n",
    "        pred, f1 = net(dummy_data) \n",
    "        # 对虚拟标签进行softmax操作，得到one-hot编码的张量\n",
    "        dummy_onehot_label = F.softmax(dummy_label, dim=-1)\n",
    "        # 计算预测和虚拟标签之间的损失，使用之前定义的交叉熵损失函数\n",
    "        dummy_loss = criterion(pred, dummy_onehot_label) # TODO: fix the gt_label to dummy_label in both code and slides.\n",
    "        # 计算损失对网络参数的梯度，创建计算图\n",
    "        dummy_dy_dx = torch.autograd.grad(dummy_loss, net.parameters(), create_graph=True)\n",
    "        \n",
    "        # 初始化梯度差和梯度数量为0\n",
    "        grad_diff = 0\n",
    "        grad_count = 0\n",
    "        \n",
    "        # 设置一个计数器\n",
    "        i = 0\n",
    "        # 对于虚拟数据和真实数据的梯度，逐个计算它们的差的平方和\n",
    "        for gx, gy in zip(dummy_dy_dx, original_dy_dx): # TODO: fix the variablas here\n",
    "            # 只计算前100个参数的梯度差，可能是为了节省计算资源\n",
    "            if i <=100:\n",
    "                grad_diff += ((gx - gy) ** 2).sum()\n",
    "                grad_count += gx.nelement()\n",
    "            i += 1\n",
    "        # 计算梯度差的平均值，乘以一个系数，可能是为了调整梯度的大小\n",
    "        #grad_diff = grad_diff / grad_count * 1000\n",
    "        \n",
    "        # 计算特征向量和真实数据的差的平方和，可能是另一种计算梯度差的方法\n",
    "        #grad_diff = ((feature_fc1_graph - f1) ** 2).sum()\n",
    "        # 对梯度差进行反向传播，计算虚拟数据和标签的梯度\n",
    "        grad_diff.backward()\n",
    "        \n",
    "        # 返回梯度差\n",
    "        return grad_diff\n",
    "    \n",
    "    # 调用优化器的step()方法，使用闭包函数进行一步优化\n",
    "    optimizer.step(closure)\n",
    "    # 如果当前的均方误差小于之前的最小值，就更新最小值\n",
    "    if MSE_min > (gt_data[0] - dummy_data[0]).pow(2).mean().item():\n",
    "        MSE_min = (gt_data[0] - dummy_data[0]).pow(2).mean().item()\n",
    "    # 每隔10次迭代，打印当前的迭代次数，梯度差，均方误差和最小均方误差\n",
    "    if iters % 10 == 0: \n",
    "        current_loss = closure()\n",
    "        print(\"{}, loss: {}, MSE: {}, MSE_min: {}\".format(iters, current_loss.item(), (gt_data[0] - dummy_data[0]).pow(2).mean().item(), MSE_min))\n",
    "    # 将当前的虚拟数据添加到历史列表中\n",
    "    history.append(tt(dummy_data[0].cpu()))"
   ]
  },
  {
   "cell_type": "markdown",
   "metadata": {},
   "source": [
    "# 画图"
   ]
  },
  {
   "cell_type": "code",
   "execution_count": 39,
   "metadata": {
    "ExecuteTime": {
     "end_time": "2024-02-22T09:31:30.699956Z",
     "start_time": "2024-02-22T09:31:29.732521Z"
    },
    "colab": {
     "base_uri": "https://localhost:8080/",
     "height": 428
    },
    "id": "aokP-jhal96-",
    "outputId": "efd8da2e-ed64-490d-b5ae-e4ce0192e186",
    "scrolled": false
   },
   "outputs": [
    {
     "name": "stdout",
     "output_type": "stream",
     "text": [
      "Dummy label is 4.\n"
     ]
    },
    {
     "data": {
      "image/png": "[encoded data removed]",
      "text/plain": [
       "<Figure size 1200x800 with 30 Axes>"
      ]
     },
     "metadata": {},
     "output_type": "display_data"
    }
   ],
   "source": [
    "plt.figure(figsize=(12, 8))\n",
    "for i in range(30):\n",
    "    plt.subplot(3, 10, i + 1)\n",
    "    plt.imshow(history[i * 10])\n",
    "    plt.title(\"iter=%d\" % (i * 10))\n",
    "    plt.axis('off')\n",
    "print(\"Dummy label is %d.\" % torch.argmax(dummy_label, dim=-1).item())"
   ]
  },
  {
   "cell_type": "code",
   "execution_count": 40,
   "metadata": {
    "ExecuteTime": {
     "end_time": "2024-02-22T09:31:30.880040Z",
     "start_time": "2024-02-22T09:31:30.702541Z"
    }
   },
   "outputs": [
    {
     "data": {
      "text/plain": [
       "5.23872570535619"
      ]
     },
     "execution_count": 40,
     "metadata": {},
     "output_type": "execute_result"
    }
   ],
   "source": [
    "from skimage.metrics import peak_signal_noise_ratio as psnr\n",
    "psnr(np.array(dst[img_index][0]), np.array(history[-1]))"
   ]
  },
  {
   "cell_type": "code",
   "execution_count": 43,
   "metadata": {
    "ExecuteTime": {
     "end_time": "2024-02-22T10:57:58.401207Z",
     "start_time": "2024-02-22T10:57:58.351871Z"
    }
   },
   "outputs": [
    {
     "data": {
      "image/png": "[encoded data removed]",
      "text/plain": [
       "<Figure size 640x480 with 1 Axes>"
      ]
     },
     "metadata": {},
     "output_type": "display_data"
    }
   ],
   "source": [
    "plt.imshow(history[0])\n",
    "plt.axis('off')\n",
    "plt.savefig('mnist_dpG_{}.png'.format(0), bbox_inches='tight')"
   ]
  },
  {
   "cell_type": "code",
   "execution_count": null,
   "metadata": {
    "ExecuteTime": {
     "end_time": "2024-02-22T06:24:20.806184Z",
     "start_time": "2024-02-22T06:24:20.806176Z"
    }
   },
   "outputs": [],
   "source": [
    "# # 导入必要的库\n",
    "# from skimage.metrics import structural_similarity as ssim # 使用skimage库中的SSIM函数\n",
    "# import numpy as np # 使用numpy库进行数组操作\n",
    "\n",
    "# # 定义SSIM计算函数\n",
    "# def compare_ssim(img1, img2, maxvalue=255):\n",
    "#     # 将图像转换为浮点数类型\n",
    "#     img1 = np.array(img1).astype(np.float64)\n",
    "#     img2 = np.array(img2).astype(np.float64)\n",
    "#     # 调用skimage库中的SSIM函数，指定数据范围为maxvalue\n",
    "#     return ssim(img1, img2, data_range=maxvalue,win_size=3)"
   ]
  },
  {
   "cell_type": "code",
   "execution_count": null,
   "metadata": {
    "ExecuteTime": {
     "end_time": "2024-02-22T06:24:20.806965Z",
     "start_time": "2024-02-22T06:24:20.806957Z"
    }
   },
   "outputs": [],
   "source": [
    "# compare_ssim(dst[img_index][0], history[-1], maxvalue=255)"
   ]
  },
  {
   "cell_type": "code",
   "execution_count": null,
   "metadata": {},
   "outputs": [],
   "source": [
    "plt.imshow(history[i * 10])"
   ]
  }
 ],
 "metadata": {
  "accelerator": "GPU",
  "colab": {
   "collapsed_sections": [],
   "name": "Deep Leakage from Gradients.ipynb",
   "provenance": []
  },
  "hide_input": false,
  "kernelspec": {
   "display_name": "Python [conda env:breaching]",
   "language": "python",
   "name": "conda-env-breaching-py"
  },
  "language_info": {
   "codemirror_mode": {
    "name": "ipython",
    "version": 3
   },
   "file_extension": ".py",
   "mimetype": "text/x-python",
   "name": "python",
   "nbconvert_exporter": "python",
   "pygments_lexer": "ipython3",
   "version": "3.9.18"
  },
  "latex_envs": {
   "LaTeX_envs_menu_present": true,
   "autoclose": false,
   "autocomplete": true,
   "bibliofile": "biblio.bib",
   "cite_by": "apalike",
   "current_citInitial": 1,
   "eqLabelWithNumbers": true,
   "eqNumInitial": 1,
   "hotkeys": {
    "equation": "Ctrl-E",
    "itemize": "Ctrl-I"
   },
   "labels_anchors": false,
   "latex_user_defs": false,
   "report_style_numbering": false,
   "user_envs_cfg": false
  },
  "toc": {
   "base_numbering": 1,
   "nav_menu": {},
   "number_sections": true,
   "sideBar": true,
   "skip_h1_title": false,
   "title_cell": "Table of Contents",
   "title_sidebar": "Contents",
   "toc_cell": false,
   "toc_position": {
    "height": "calc(100% - 180px)",
    "left": "10px",
    "top": "150px",
    "width": "209.391px"
   },
   "toc_section_display": true,
   "toc_window_display": true
  },
  "widgets": {
   "application/vnd.jupyter.widget-state+json": {
    "19c8d63413164e4ea00a5c3dbd9f2b15": {
     "model_module": "@jupyter-widgets/controls",
     "model_name": "DescriptionStyleModel",
     "state": {
      "_model_module": "@jupyter-widgets/controls",
      "_model_module_version": "1.5.0",
      "_model_name": "DescriptionStyleModel",
      "_view_count": null,
      "_view_module": "@jupyter-widgets/base",
      "_view_module_version": "1.2.0",
      "_view_name": "StyleView",
      "description_width": ""
     }
    },
    "58ea7f96451c48db8aacc1479ce5a570": {
     "model_module": "@jupyter-widgets/controls",
     "model_name": "HTMLModel",
     "state": {
      "_dom_classes": [],
      "_model_module": "@jupyter-widgets/controls",
      "_model_module_version": "1.5.0",
      "_model_name": "HTMLModel",
      "_view_count": null,
      "_view_module": "@jupyter-widgets/controls",
      "_view_module_version": "1.5.0",
      "_view_name": "HTMLView",
      "description": "",
      "description_tooltip": null,
      "layout": "IPY_MODEL_f1d4dec7f3cf4aa7b321dbdcb49e705a",
      "placeholder": "​",
      "style": "IPY_MODEL_19c8d63413164e4ea00a5c3dbd9f2b15",
      "value": " 170500096/? [00:19&lt;00:00, 75905876.79it/s]"
     }
    },
    "648bccaeee754d08ab55501e40c804ea": {
     "model_module": "@jupyter-widgets/base",
     "model_name": "LayoutModel",
     "state": {
      "_model_module": "@jupyter-widgets/base",
      "_model_module_version": "1.2.0",
      "_model_name": "LayoutModel",
      "_view_count": null,
      "_view_module": "@jupyter-widgets/base",
      "_view_module_version": "1.2.0",
      "_view_name": "LayoutView",
      "align_content": null,
      "align_items": null,
      "align_self": null,
      "border": null,
      "bottom": null,
      "display": null,
      "flex": null,
      "flex_flow": null,
      "grid_area": null,
      "grid_auto_columns": null,
      "grid_auto_flow": null,
      "grid_auto_rows": null,
      "grid_column": null,
      "grid_gap": null,
      "grid_row": null,
      "grid_template_areas": null,
      "grid_template_columns": null,
      "grid_template_rows": null,
      "height": null,
      "justify_content": null,
      "justify_items": null,
      "left": null,
      "margin": null,
      "max_height": null,
      "max_width": null,
      "min_height": null,
      "min_width": null,
      "object_fit": null,
      "object_position": null,
      "order": null,
      "overflow": null,
      "overflow_x": null,
      "overflow_y": null,
      "padding": null,
      "right": null,
      "top": null,
      "visibility": null,
      "width": null
     }
    },
    "b2682540a10b4646ba96e3cc549f2a23": {
     "model_module": "@jupyter-widgets/base",
     "model_name": "LayoutModel",
     "state": {
      "_model_module": "@jupyter-widgets/base",
      "_model_module_version": "1.2.0",
      "_model_name": "LayoutModel",
      "_view_count": null,
      "_view_module": "@jupyter-widgets/base",
      "_view_module_version": "1.2.0",
      "_view_name": "LayoutView",
      "align_content": null,
      "align_items": null,
      "align_self": null,
      "border": null,
      "bottom": null,
      "display": null,
      "flex": null,
      "flex_flow": null,
      "grid_area": null,
      "grid_auto_columns": null,
      "grid_auto_flow": null,
      "grid_auto_rows": null,
      "grid_column": null,
      "grid_gap": null,
      "grid_row": null,
      "grid_template_areas": null,
      "grid_template_columns": null,
      "grid_template_rows": null,
      "height": null,
      "justify_content": null,
      "justify_items": null,
      "left": null,
      "margin": null,
      "max_height": null,
      "max_width": null,
      "min_height": null,
      "min_width": null,
      "object_fit": null,
      "object_position": null,
      "order": null,
      "overflow": null,
      "overflow_x": null,
      "overflow_y": null,
      "padding": null,
      "right": null,
      "top": null,
      "visibility": null,
      "width": null
     }
    },
    "c1614b2739dd4f44b5ad0e4793b7a5d8": {
     "model_module": "@jupyter-widgets/controls",
     "model_name": "FloatProgressModel",
     "state": {
      "_dom_classes": [],
      "_model_module": "@jupyter-widgets/controls",
      "_model_module_version": "1.5.0",
      "_model_name": "FloatProgressModel",
      "_view_count": null,
      "_view_module": "@jupyter-widgets/controls",
      "_view_module_version": "1.5.0",
      "_view_name": "ProgressView",
      "bar_style": "info",
      "description": "",
      "description_tooltip": null,
      "layout": "IPY_MODEL_b2682540a10b4646ba96e3cc549f2a23",
      "max": 1,
      "min": 0,
      "orientation": "horizontal",
      "style": "IPY_MODEL_d9f1b39155c64eb6a33d745a27f940be",
      "value": 1
     }
    },
    "c3ca367dae49422fac361cb0b12604c7": {
     "model_module": "@jupyter-widgets/controls",
     "model_name": "HBoxModel",
     "state": {
      "_dom_classes": [],
      "_model_module": "@jupyter-widgets/controls",
      "_model_module_version": "1.5.0",
      "_model_name": "HBoxModel",
      "_view_count": null,
      "_view_module": "@jupyter-widgets/controls",
      "_view_module_version": "1.5.0",
      "_view_name": "HBoxView",
      "box_style": "",
      "children": [
       "IPY_MODEL_c1614b2739dd4f44b5ad0e4793b7a5d8",
       "IPY_MODEL_58ea7f96451c48db8aacc1479ce5a570"
      ],
      "layout": "IPY_MODEL_648bccaeee754d08ab55501e40c804ea"
     }
    },
    "d9f1b39155c64eb6a33d745a27f940be": {
     "model_module": "@jupyter-widgets/controls",
     "model_name": "ProgressStyleModel",
     "state": {
      "_model_module": "@jupyter-widgets/controls",
      "_model_module_version": "1.5.0",
      "_model_name": "ProgressStyleModel",
      "_view_count": null,
      "_view_module": "@jupyter-widgets/base",
      "_view_module_version": "1.2.0",
      "_view_name": "StyleView",
      "bar_color": null,
      "description_width": "initial"
     }
    },
    "f1d4dec7f3cf4aa7b321dbdcb49e705a": {
     "model_module": "@jupyter-widgets/base",
     "model_name": "LayoutModel",
     "state": {
      "_model_module": "@jupyter-widgets/base",
      "_model_module_version": "1.2.0",
      "_model_name": "LayoutModel",
      "_view_count": null,
      "_view_module": "@jupyter-widgets/base",
      "_view_module_version": "1.2.0",
      "_view_name": "LayoutView",
      "align_content": null,
      "align_items": null,
      "align_self": null,
      "border": null,
      "bottom": null,
      "display": null,
      "flex": null,
      "flex_flow": null,
      "grid_area": null,
      "grid_auto_columns": null,
      "grid_auto_flow": null,
      "grid_auto_rows": null,
      "grid_column": null,
      "grid_gap": null,
      "grid_row": null,
      "grid_template_areas": null,
      "grid_template_columns": null,
      "grid_template_rows": null,
      "height": null,
      "justify_content": null,
      "justify_items": null,
      "left": null,
      "margin": null,
      "max_height": null,
      "max_width": null,
      "min_height": null,
      "min_width": null,
      "object_fit": null,
      "object_position": null,
      "order": null,
      "overflow": null,
      "overflow_x": null,
      "overflow_y": null,
      "padding": null,
      "right": null,
      "top": null,
      "visibility": null,
      "width": null
     }
    }
   }
  }
 },
 "nbformat": 4,
 "nbformat_minor": 4
}
