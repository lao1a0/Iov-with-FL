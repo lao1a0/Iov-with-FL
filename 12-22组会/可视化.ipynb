{
 "cells": [
  {
   "cell_type": "code",
   "execution_count": 7,
   "id": "78df1995",
   "metadata": {},
   "outputs": [
    {
     "name": "stdout",
     "output_type": "stream",
     "text": [
      "test_data_x.shape: torch.Size([10000, 1, 28, 28])\n",
      "test_data_y.shape: torch.Size([10000])\n"
     ]
    }
   ],
   "source": [
    "import torchvision\n",
    "import torch.utils.data as Data\n",
    "# 准备训练用的MNIST数据集\n",
    "train_data = torchvision.datasets.MNIST(\n",
    " root = \"./data/MNIST\",  # 提取数据的路径\n",
    " train=True, # 使用MNIST内的训练数据\n",
    " transform=torchvision.transforms.ToTensor(),    # 转换成torch.tensor\n",
    " download=True   # 如果是第一次运行的话，置为True，表示下载数据集到root目录\n",
    ")\n",
    "# 定义loader\n",
    "train_loader = Data.DataLoader(\n",
    " dataset=train_data,\n",
    " batch_size=128,\n",
    " shuffle=True,\n",
    " num_workers=0\n",
    ")\n",
    "\n",
    "test_data = torchvision.datasets.MNIST(\n",
    " root=\"./data/MNIST\",\n",
    " train=False,    # 使用测试数据\n",
    " download=False\n",
    ")\n",
    "\n",
    "# 将测试数据压缩到0-1\n",
    "test_data_x = test_data.data.type(torch.FloatTensor) / 255.0\n",
    "test_data_x = torch.unsqueeze(test_data_x, dim=1)\n",
    "test_data_y = test_data.targets\n",
    "\n",
    "# 打印一下测试数据和训练数据的shape\n",
    "print(\"test_data_x.shape:\", test_data_x.shape)\n",
    "print(\"test_data_y.shape:\", test_data_y.shape)"
   ]
  },
  {
   "cell_type": "code",
   "execution_count": 9,
   "id": "5bc78936",
   "metadata": {
    "code_folding": []
   },
   "outputs": [],
   "source": [
    "import torch\n",
    "import torch.nn as nn\n",
    "\n",
    "class ConvNet(nn.Module):\n",
    "    def __init__(self):\n",
    "        super(ConvNet, self).__init__()\n",
    "        \n",
    "        self.conv1 = nn.Sequential(\n",
    "         nn.Conv2d(1, 16, 3, 1, 1),\n",
    "         nn.ReLU(),\n",
    "         nn.AvgPool2d(2, 2)\n",
    "        )\n",
    "        \n",
    "        self.conv2 = nn.Sequential(\n",
    "         nn.Conv2d(16, 32, 3, 1, 1),\n",
    "         nn.ReLU(),\n",
    "         nn.MaxPool2d(2, 2)\n",
    "        )\n",
    "        \n",
    "        self.fc = nn.Sequential(\n",
    "         nn.Linear(32 * 7 * 7, 128),\n",
    "         nn.ReLU(),\n",
    "         nn.Linear(128, 64),\n",
    "         nn.ReLU()\n",
    "        )\n",
    "        \n",
    "        self.out = nn.Linear(64, 10)\n",
    "        \n",
    "    def forward(self, x):\n",
    "        x = self.conv1(x)\n",
    "        x = self.conv2(x)\n",
    "        x = x.view(x.size(0), -1)\n",
    "        x = self.fc(x)\n",
    "        output = self.out(x)\n",
    "        return output"
   ]
  },
  {
   "cell_type": "code",
   "execution_count": 10,
   "id": "74218623",
   "metadata": {},
   "outputs": [
    {
     "name": "stdout",
     "output_type": "stream",
     "text": [
      "ConvNet(\n",
      "  (conv1): Sequential(\n",
      "    (0): Conv2d(1, 16, kernel_size=(3, 3), stride=(1, 1), padding=(1, 1))\n",
      "    (1): ReLU()\n",
      "    (2): AvgPool2d(kernel_size=2, stride=2, padding=0)\n",
      "  )\n",
      "  (conv2): Sequential(\n",
      "    (0): Conv2d(16, 32, kernel_size=(3, 3), stride=(1, 1), padding=(1, 1))\n",
      "    (1): ReLU()\n",
      "    (2): MaxPool2d(kernel_size=2, stride=2, padding=0, dilation=1, ceil_mode=False)\n",
      "  )\n",
      "  (fc): Sequential(\n",
      "    (0): Linear(in_features=1568, out_features=128, bias=True)\n",
      "    (1): ReLU()\n",
      "    (2): Linear(in_features=128, out_features=64, bias=True)\n",
      "    (3): ReLU()\n",
      "  )\n",
      "  (out): Linear(in_features=64, out_features=10, bias=True)\n",
      ")\n"
     ]
    }
   ],
   "source": [
    "MyConvNet = ConvNet()\n",
    "print(MyConvNet)"
   ]
  },
  {
   "cell_type": "code",
   "execution_count": 11,
   "id": "2e83dfd7",
   "metadata": {},
   "outputs": [
    {
     "name": "stdout",
     "output_type": "stream",
     "text": [
      "epoch: 0\n",
      "global_step:100, loss:0.76\n"
     ]
    },
    {
     "ename": "NameError",
     "evalue": "name 'accuracy_score' is not defined",
     "output_type": "error",
     "traceback": [
      "\u001b[0;31m---------------------------------------------------------------------------\u001b[0m",
      "\u001b[0;31mNameError\u001b[0m                                 Traceback (most recent call last)",
      "\u001b[0;32m<ipython-input-11-53751ff86eb7>\u001b[0m in \u001b[0;36m<module>\u001b[0;34m\u001b[0m\n\u001b[1;32m     26\u001b[0m             \u001b[0mtest_predict\u001b[0m \u001b[0;34m=\u001b[0m \u001b[0mMyConvNet\u001b[0m\u001b[0;34m(\u001b[0m\u001b[0mtest_data_x\u001b[0m\u001b[0;34m)\u001b[0m\u001b[0;34m\u001b[0m\u001b[0m\n\u001b[1;32m     27\u001b[0m             \u001b[0m_\u001b[0m\u001b[0;34m,\u001b[0m \u001b[0mpredict_idx\u001b[0m \u001b[0;34m=\u001b[0m \u001b[0mtorch\u001b[0m\u001b[0;34m.\u001b[0m\u001b[0mmax\u001b[0m\u001b[0;34m(\u001b[0m\u001b[0mtest_predict\u001b[0m\u001b[0;34m,\u001b[0m \u001b[0;36m1\u001b[0m\u001b[0;34m)\u001b[0m     \u001b[0;31m# 计算softmax后的最大值的索引，即预测结果\u001b[0m\u001b[0;34m\u001b[0m\u001b[0m\n\u001b[0;32m---> 28\u001b[0;31m             \u001b[0macc\u001b[0m \u001b[0;34m=\u001b[0m \u001b[0maccuracy_score\u001b[0m\u001b[0;34m(\u001b[0m\u001b[0mtest_data_y\u001b[0m\u001b[0;34m,\u001b[0m \u001b[0mpredict_idx\u001b[0m\u001b[0;34m)\u001b[0m\u001b[0;34m\u001b[0m\u001b[0m\n\u001b[0m\u001b[1;32m     29\u001b[0m             \u001b[0;31m# 添加第二条日志：正确率-全局迭代次数\u001b[0m\u001b[0;34m\u001b[0m\u001b[0;34m\u001b[0m\u001b[0m\n\u001b[1;32m     30\u001b[0m             \u001b[0mlogger\u001b[0m\u001b[0;34m.\u001b[0m\u001b[0madd_scalar\u001b[0m\u001b[0;34m(\u001b[0m\u001b[0;34m\"test accuary\"\u001b[0m\u001b[0;34m,\u001b[0m \u001b[0macc\u001b[0m\u001b[0;34m.\u001b[0m\u001b[0mitem\u001b[0m\u001b[0;34m(\u001b[0m\u001b[0;34m)\u001b[0m\u001b[0;34m,\u001b[0m \u001b[0mglobal_step\u001b[0m\u001b[0;34m=\u001b[0m\u001b[0mglobal_iter_num\u001b[0m\u001b[0;34m)\u001b[0m\u001b[0;34m\u001b[0m\u001b[0m\n",
      "\u001b[0;31mNameError\u001b[0m: name 'accuracy_score' is not defined"
     ]
    }
   ],
   "source": [
    "from tensorboardX import SummaryWriter\n",
    "logger = SummaryWriter(log_dir=\"data/log\")\n",
    "\n",
    "# 获取优化器和损失函数\n",
    "optimizer = torch.optim.Adam(MyConvNet.parameters(), lr=3e-4)\n",
    "loss_func = nn.CrossEntropyLoss()\n",
    "log_step_interval = 100      # 记录的步数间隔\n",
    "\n",
    "for epoch in range(5):\n",
    "    print(\"epoch:\", epoch)\n",
    "    # 每一轮都遍历一遍数据加载器\n",
    "    for step, (x, y) in enumerate(train_loader):\n",
    "        # 前向计算->计算损失函数->(从损失函数)反向传播->更新网络\n",
    "        predict = MyConvNet(x)\n",
    "        loss = loss_func(predict, y)\n",
    "        optimizer.zero_grad()   # 清空梯度（可以不写）\n",
    "        loss.backward()     # 反向传播计算梯度\n",
    "        optimizer.step()    # 更新网络\n",
    "        global_iter_num = epoch * len(train_loader) + step + 1  # 计算当前是从训练开始时的第几步(全局迭代次数)\n",
    "        if global_iter_num % log_step_interval == 0:\n",
    "            # 控制台输出一下\n",
    "            print(\"global_step:{}, loss:{:.2}\".format(global_iter_num, loss.item()))\n",
    "            # 添加的第一条日志：损失函数-全局迭代次数\n",
    "            logger.add_scalar(\"train loss\", loss.item() ,global_step=global_iter_num)\n",
    "            # 在测试集上预测并计算正确率\n",
    "            test_predict = MyConvNet(test_data_x)\n",
    "            _, predict_idx = torch.max(test_predict, 1)     # 计算softmax后的最大值的索引，即预测结果\n",
    "            acc = accuracy_score(test_data_y, predict_idx)\n",
    "            # 添加第二条日志：正确率-全局迭代次数\n",
    "            logger.add_scalar(\"test accuary\", acc.item(), global_step=global_iter_num)\n",
    "            # 添加第三条日志：这个batch下的128张图像\n",
    "            img = vutils.make_grid(x, nrow=12)\n",
    "            logger.add_image(\"train image sample\", img, global_step=global_iter_num)\n",
    "            # 添加第三条日志：网络中的参数分布直方图\n",
    "            for name, param in MyConvNet.named_parameters():\n",
    "                logger.add_histogram(name, param.data.numpy(), global_step=global_iter_num)"
   ]
  },
  {
   "cell_type": "code",
   "execution_count": null,
   "id": "ad9c42c1",
   "metadata": {},
   "outputs": [],
   "source": [
    "# train with tensorboard\n",
    "from torch.utils.tensorboard import SummaryWriter"
   ]
  },
  {
   "cell_type": "code",
   "execution_count": null,
   "id": "4ecaa246",
   "metadata": {},
   "outputs": [],
   "source": [
    "writer = SummaryWriter(\"runs/linear_experiment\") # default at runs folder if not sepecify path"
   ]
  }
 ],
 "metadata": {
  "hide_input": false,
  "kernelspec": {
   "display_name": "Python [conda env:pysyft]",
   "language": "python",
   "name": "conda-env-pysyft-py"
  },
  "language_info": {
   "codemirror_mode": {
    "name": "ipython",
    "version": 3
   },
   "file_extension": ".py",
   "mimetype": "text/x-python",
   "name": "python",
   "nbconvert_exporter": "python",
   "pygments_lexer": "ipython3",
   "version": "3.7.0"
  },
  "latex_envs": {
   "LaTeX_envs_menu_present": true,
   "autoclose": false,
   "autocomplete": true,
   "bibliofile": "biblio.bib",
   "cite_by": "apalike",
   "current_citInitial": 1,
   "eqLabelWithNumbers": true,
   "eqNumInitial": 1,
   "hotkeys": {
    "equation": "Ctrl-E",
    "itemize": "Ctrl-I"
   },
   "labels_anchors": false,
   "latex_user_defs": false,
   "report_style_numbering": false,
   "user_envs_cfg": false
  },
  "toc": {
   "base_numbering": 1,
   "nav_menu": {},
   "number_sections": true,
   "sideBar": true,
   "skip_h1_title": false,
   "title_cell": "Table of Contents",
   "title_sidebar": "Contents",
   "toc_cell": false,
   "toc_position": {},
   "toc_section_display": true,
   "toc_window_display": false
  }
 },
 "nbformat": 4,
 "nbformat_minor": 5
}
