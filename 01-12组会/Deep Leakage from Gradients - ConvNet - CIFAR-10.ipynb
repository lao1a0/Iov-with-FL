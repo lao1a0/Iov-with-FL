{
 "cells": [
  {
   "cell_type": "markdown",
   "id": "3ebef44a",
   "metadata": {
    "id": "3ebef44a"
   },
   "source": [
    "# Deep Leakage from Gradients"
   ]
  },
  {
   "cell_type": "markdown",
   "id": "a756fc5f",
   "metadata": {
    "id": "a756fc5f"
   },
   "source": [
    "梯度的深度泄漏\n",
    "本笔记本显示了“梯度深度泄漏”中描述的攻击示例。\n",
    "\n",
    "论文网址：https://papers.nips.cc/paper/2019/hash/60a6c4002cc7b29142def8871531281a-Abstract.html"
   ]
  },
  {
   "cell_type": "code",
   "execution_count": 1,
   "id": "CPN3fCVroUUh",
   "metadata": {
    "executionInfo": {
     "elapsed": 326,
     "status": "ok",
     "timestamp": 1704543297240,
     "user": {
      "displayName": "lao lao",
      "userId": "11034711047506173733"
     },
     "user_tz": -480
    },
    "id": "CPN3fCVroUUh"
   },
   "outputs": [],
   "source": [
    "# from google.colab import drive\n",
    "# drive.mount('/content/drive')"
   ]
  },
  {
   "cell_type": "markdown",
   "id": "b5ae947b",
   "metadata": {
    "id": "b5ae947b"
   },
   "source": [
    "# 摘要\n",
    "\n",
    "传递梯度是现代多节点学习系统中广泛使用的方案（例如分布式训练、协作学习）。 长期以来，人们曾经相信梯度共享是安全的：即训练集不会因梯度共享而泄漏。 然而，在本文中，我们证明我们可以从公开共享的梯度中获得私人训练集。 泄漏只需要几个梯度步骤来处理，并且可以获得原始训练集而不是相似的替代方案。 我们将这种泄漏命名为 \\textit{梯度深度泄漏}，并在计算机视觉和自然语言处理任务上实际验证了我们的算法的有效性。 我们根据经验表明，我们的攻击比以前的方法要强大得多，从而提高了人们重新考虑梯度安全性的意识。 我们还讨论了一些可能的策略来防止这种深度泄漏。"
   ]
  },
  {
   "cell_type": "code",
   "execution_count": 2,
   "id": "UQE81LQEpQ3Q",
   "metadata": {
    "id": "UQE81LQEpQ3Q"
   },
   "outputs": [],
   "source": [
    "# !pip install breaching"
   ]
  },
  {
   "cell_type": "markdown",
   "id": "881166e1",
   "metadata": {
    "id": "881166e1"
   },
   "source": [
    "# **启动**"
   ]
  },
  {
   "cell_type": "code",
   "execution_count": 4,
   "id": "b850eabf",
   "metadata": {
    "colab": {
     "base_uri": "https://localhost:8080/"
    },
    "executionInfo": {
     "elapsed": 16,
     "status": "ok",
     "timestamp": 1704543298008,
     "user": {
      "displayName": "lao lao",
      "userId": "11034711047506173733"
     },
     "user_tz": -480
    },
    "id": "b850eabf",
    "outputId": "9e8f866d-413e-470a-b84e-2c81af4a2232"
   },
   "outputs": [
    {
     "name": "stdout",
     "output_type": "stream",
     "text": [
      "The autoreload extension is already loaded. To reload it, use:\n",
      "  %reload_ext autoreload\n"
     ]
    }
   ],
   "source": [
    "# try:\n",
    "#     import breaching\n",
    "# except ModuleNotFoundError:\n",
    "#     # You only really need this safety net if you want to run these notebooks directly in the examples directory\n",
    "#     # Don't worry about this if you installed the package or moved the notebook to the main directory.\n",
    "#     import os; os.chdir(\"..\")\n",
    "import breaching\n",
    "\n",
    "import torch\n",
    "%load_ext autoreload\n",
    "%autoreload 2\n",
    "\n",
    "# Redirects logs directly into the jupyter notebook\n",
    "import logging, sys\n",
    "logging.basicConfig(level=logging.INFO, handlers=[logging.StreamHandler(sys.stdout)], format='%(message)s')\n",
    "logger = logging.getLogger()"
   ]
  },
  {
   "cell_type": "markdown",
   "id": "88d5e214",
   "metadata": {
    "id": "88d5e214"
   },
   "source": [
    "# 初始化 cfg 对象和系统设置："
   ]
  },
  {
   "cell_type": "markdown",
   "id": "56bd663b",
   "metadata": {
    "id": "56bd663b"
   },
   "source": [
    "这将加载完整的配置对象。 这包括用例和威胁模型的配置（如 cfg.case）以及超参数和攻击的实施（如 cfg.attack）。 所有参数都可以在下面修改，或者使用 overrides= 覆盖，就像它们是命令行参数一样。"
   ]
  },
  {
   "cell_type": "code",
   "execution_count": 5,
   "id": "a7dc3a48",
   "metadata": {
    "colab": {
     "base_uri": "https://localhost:8080/"
    },
    "executionInfo": {
     "elapsed": 12,
     "status": "ok",
     "timestamp": 1704543298008,
     "user": {
      "displayName": "lao lao",
      "userId": "11034711047506173733"
     },
     "user_tz": -480
    },
    "id": "a7dc3a48",
    "outputId": "c273c6f3-2d01-4e31-adf5-62bdbc41e383"
   },
   "outputs": [
    {
     "name": "stderr",
     "output_type": "stream",
     "text": [
      "/root/miniconda3/lib/python3.8/site-packages/breaching/__init__.py:18: UserWarning: \n",
      "The version_base parameter is not specified.\n",
      "Please specify a compatability version level, or None.\n",
      "Will assume defaults for version 1.1\n",
      "  with hydra.initialize(config_path=\"config\"):\n"
     ]
    },
    {
     "name": "stdout",
     "output_type": "stream",
     "text": [
      "Investigating use case single_image_small with server type honest_but_curious.\n"
     ]
    },
    {
     "data": {
      "text/plain": [
       "{'device': device(type='cuda'), 'dtype': torch.float32}"
      ]
     },
     "execution_count": 5,
     "metadata": {},
     "output_type": "execute_result"
    }
   ],
   "source": [
    "cfg = breaching.get_config(overrides=[\"case=1_single_image_small\", \"attack=deepleakage\"])\n",
    "\n",
    "device = torch.device(f'cuda') if torch.cuda.is_available() else torch.device('cpu')\n",
    "torch.backends.cudnn.benchmark = cfg.case.impl.benchmark\n",
    "setup = dict(device=device, dtype=getattr(torch, cfg.case.impl.dtype))\n",
    "setup"
   ]
  },
  {
   "cell_type": "markdown",
   "id": "203c5fb1",
   "metadata": {
    "id": "203c5fb1"
   },
   "source": [
    "# 此处修改配置选项"
   ]
  },
  {
   "cell_type": "markdown",
   "id": "6e0764ef",
   "metadata": {
    "id": "6e0764ef"
   },
   "source": [
    "您可以使用 .attribute 访问权限来修改攻击的任何配置，或以下情况："
   ]
  },
  {
   "cell_type": "code",
   "execution_count": 6,
   "id": "ac118ea0",
   "metadata": {
    "executionInfo": {
     "elapsed": 8,
     "status": "ok",
     "timestamp": 1704543298008,
     "user": {
      "displayName": "lao lao",
      "userId": "11034711047506173733"
     },
     "user_tz": -480
    },
    "id": "ac118ea0"
   },
   "outputs": [],
   "source": [
    "cfg.case.data.partition=\"unique-class\"\n",
    "cfg.case.user.user_idx = 1\n",
    "cfg.case.user.provide_labels=False # 这种攻击可以通过优化重建标签信息。"
   ]
  },
  {
   "cell_type": "markdown",
   "id": "76f64389",
   "metadata": {
    "id": "76f64389"
   },
   "source": [
    "# 实例化所有参与者"
   ]
  },
  {
   "cell_type": "markdown",
   "id": "8b17f0e2",
   "metadata": {
    "id": "8b17f0e2"
   },
   "source": [
    "\n",
    "以下行生成“服务器”、“用户”和“攻击者”对象并打印其配置的概述。"
   ]
  },
  {
   "cell_type": "code",
   "execution_count": 7,
   "id": "d3abd955",
   "metadata": {
    "colab": {
     "base_uri": "https://localhost:8080/"
    },
    "executionInfo": {
     "elapsed": 951,
     "status": "ok",
     "timestamp": 1704543298951,
     "user": {
      "displayName": "lao lao",
      "userId": "11034711047506173733"
     },
     "user_tz": -480
    },
    "id": "d3abd955",
    "outputId": "6ea9e22e-4e2e-4cca-a2de-120864983c62"
   },
   "outputs": [
    {
     "name": "stdout",
     "output_type": "stream",
     "text": [
      "Files already downloaded and verified\n",
      "Model architecture ConvNet loaded with 2,904,970 parameters and 3,208 buffers.\n",
      "Overall this is a data ratio of     946:1 for target shape [1, 3, 32, 32] given that num_queries=1.\n",
      "User (of type UserSingleStep) with settings:\n",
      "    Number of data points: 1\n",
      "\n",
      "    Threat model:\n",
      "    User provides labels: False\n",
      "    User provides buffers: False\n",
      "    User provides number of data points: True\n",
      "\n",
      "    Data:\n",
      "    Dataset: CIFAR10\n",
      "    user: 1\n",
      "    \n",
      "        \n",
      "Server (of type HonestServer) with settings:\n",
      "    Threat model: Honest-but-curious\n",
      "    Number of planned queries: 1\n",
      "    Has external/public data: False\n",
      "\n",
      "    Model:\n",
      "        model specification: ConvNet\n",
      "        model state: default\n",
      "        public buffers: True\n",
      "\n",
      "    Secrets: {}\n",
      "    \n",
      "Attacker (of type OptimizationJointAttacker) with settings:\n",
      "    Hyperparameter Template: deep-leakage\n",
      "\n",
      "    Objective: Euclidean loss with scale=1.0 and task reg=0.0\n",
      "    Regularizers: \n",
      "    Augmentations: \n",
      "\n",
      "    Optimization Setup:\n",
      "        optimizer: L-BFGS\n",
      "        signed: None\n",
      "        step_size: 1.0\n",
      "        boxed: False\n",
      "        max_iterations: 1200\n",
      "        step_size_decay: None\n",
      "        langevin_noise: 0.0\n",
      "        warmup: 0\n",
      "        grad_clip: None\n",
      "        callback: 100\n",
      "        \n"
     ]
    }
   ],
   "source": [
    "user, server, model, loss_fn = breaching.cases.construct_case(cfg.case, setup)\n",
    "attacker = breaching.attacks.prepare_attack(server.model, server.loss, cfg.attack, setup)\n",
    "breaching.utils.overview(server, user, attacker)"
   ]
  },
  {
   "cell_type": "markdown",
   "id": "3v_kYQuhvYRo",
   "metadata": {
    "id": "3v_kYQuhvYRo"
   },
   "source": [
    "这段配置描述了一个机器学习模型的训练和评估过程，其中涉及到用户、服务器以及攻击者三个主要角色。以下是对配置中各部分的解释：\n",
    "\n",
    "1. **数据信息:**\n",
    "   - 已下载和验证的文件。\n",
    "   - 模型期望的输入形状为 [1, 3, 32, 32]，表示每个数据点是一个3通道的32x32图像。\n",
    "   - 数据点的数量为1，对应于`num_queries=1`。\n",
    "\n",
    "2. **用户 (UserSingleStep) 配置:**\n",
    "   - 用户提供的数据点数目为1。\n",
    "   - 用户不提供标签（False）。\n",
    "   - 用户不提供缓冲区（False）。\n",
    "   - <span class=\"mark\">数据集：CIFAR10\n",
    "   - <span class=\"mark\">用户数量：1</span></span>\n",
    "\n",
    "3. **服务器 (HonestServer) 配置:**\n",
    "   - 服务器是一个Honest-but-curious模型，即它会按照规定执行任务，但有可能会探查数据。\n",
    "   - 计划进行1次查询。\n",
    "   - 模型采用<span class=\"mark\">ConvNet</span>结构，参数数量为2,904,970。\n",
    "   - 有3,208个缓冲区。\n",
    "   - 服务器不具备外部或公共数据。\n",
    "\n",
    "4. **攻击者 (OptimizationJointAttacker) 配置:**\n",
    "   - 使用深度泄漏（deep-leakage）的超参数模板。\n",
    "   - 优化目标是欧几里得损失，比例为1.0，任务正则化项为0.0。\n",
    "   - 没有使用正则化项。\n",
    "   - 采用L-BFGS优化器。\n",
    "   - 最大迭代次数为1200。\n",
    "   - 优化步长为1.0。\n",
    "   - 未进行有符号（signed）处理。\n",
    "   - 未限制参数在某个范围内（boxed为False）。\n",
    "   - 没有步长衰减。\n",
    "   - 拉格朗日噪声为0.0。\n",
    "   - 没有预热期。\n",
    "   - 没有梯度剪裁。\n",
    "   - 每100次迭代进行一次回调。"
   ]
  },
  {
   "cell_type": "markdown",
   "id": "548c0ad6",
   "metadata": {
    "id": "548c0ad6"
   },
   "source": [
    "# 模拟一个受到攻击的 FL 协议\n",
    "\n",
    "这个交换是一个联邦学习协议中的单个查询的模拟。服务器发送一个 server_payload，用户根据他们的私有本地数据计算一个更新。这个用户更新是 shared_data，包含了例如在最简单的情况下模型的参数梯度。true_user_data 也被 .compute_local_updates 返回，但是当然不会被转发给服务器或者攻击者，只用于（我们的）分析。"
   ]
  },
  {
   "cell_type": "code",
   "execution_count": 8,
   "id": "b0dbd868",
   "metadata": {
    "executionInfo": {
     "elapsed": 9,
     "status": "ok",
     "timestamp": 1704543298952,
     "user": {
      "displayName": "lao lao",
      "userId": "11034711047506173733"
     },
     "user_tz": -480
    },
    "id": "b0dbd868"
   },
   "outputs": [
    {
     "name": "stdout",
     "output_type": "stream",
     "text": [
      "Computing user update on user 1 in model mode: eval.\n"
     ]
    }
   ],
   "source": [
    "server_payload = server.distribute_payload()\n",
    "shared_data, true_user_data = user.compute_local_updates(server_payload)"
   ]
  },
  {
   "cell_type": "code",
   "execution_count": 9,
   "id": "49c68628",
   "metadata": {
    "colab": {
     "base_uri": "https://localhost:8080/",
     "height": 406
    },
    "executionInfo": {
     "elapsed": 765,
     "status": "ok",
     "timestamp": 1704543299710,
     "user": {
      "displayName": "lao lao",
      "userId": "11034711047506173733"
     },
     "user_tz": -480
    },
    "id": "49c68628",
    "outputId": "364231ea-c1a9-4fa6-b9ed-197258b976ef"
   },
   "outputs": [
    {
     "data": {
      "image/png": "[encoded data removed]",
      "text/plain": [
       "<Figure size 432x288 with 1 Axes>"
      ]
     },
     "metadata": {
      "needs_background": "light"
     },
     "output_type": "display_data"
    }
   ],
   "source": [
    "user.plot(true_user_data)"
   ]
  },
  {
   "cell_type": "markdown",
   "id": "17255c5a",
   "metadata": {
    "id": "17255c5a"
   },
   "source": [
    "# 重构用户数据：\n",
    "现在我们发起攻击，只根据 server_payload 和 shared_data 重构用户数据。\n",
    "\n",
    "对于这种攻击，我们还与攻击者共享来自恶意服务器的秘密信息（server.secrets），这里是印记模块的位置和结构。"
   ]
  },
  {
   "cell_type": "code",
   "execution_count": 10,
   "id": "c9a32fd7",
   "metadata": {
    "executionInfo": {
     "elapsed": 674331,
     "status": "ok",
     "timestamp": 1704543974036,
     "user": {
      "displayName": "lao lao",
      "userId": "11034711047506173733"
     },
     "user_tz": -480
    },
    "id": "c9a32fd7"
   },
   "outputs": [
    {
     "name": "stdout",
     "output_type": "stream",
     "text": [
      "| It: 1 | Rec. loss: 1.1087 |  Task loss: 2.3259 | T: 8.68s |  Label Entropy: 0.0000.\n",
      "| It: 101 | Rec. loss: 0.0027 |  Task loss: 2.3258 | T: 67.59s |  Label Entropy: 0.0000.\n",
      "| It: 201 | Rec. loss: 0.0017 |  Task loss: 2.3258 | T: 67.56s |  Label Entropy: 0.0000.\n",
      "| It: 301 | Rec. loss: 0.0018 |  Task loss: 2.3258 | T: 66.16s |  Label Entropy: 0.0000.\n",
      "| It: 401 | Rec. loss: 0.0020 |  Task loss: 2.3258 | T: 66.75s |  Label Entropy: 0.0000.\n",
      "| It: 501 | Rec. loss: 0.0020 |  Task loss: 2.3258 | T: 66.50s |  Label Entropy: 0.0000.\n",
      "| It: 601 | Rec. loss: 0.0021 |  Task loss: 2.3258 | T: 66.50s |  Label Entropy: 0.0000.\n",
      "| It: 701 | Rec. loss: 0.0017 |  Task loss: 2.3258 | T: 65.95s |  Label Entropy: 0.0000.\n",
      "| It: 801 | Rec. loss: 0.0018 |  Task loss: 2.3258 | T: 66.28s |  Label Entropy: 0.0000.\n",
      "| It: 901 | Rec. loss: 0.0021 |  Task loss: 2.3258 | T: 66.90s |  Label Entropy: 0.0000.\n",
      "| It: 1101 | Rec. loss: 0.0019 |  Task loss: 2.3258 | T: 66.16s |  Label Entropy: 0.0000.\n",
      "| It: 1200 | Rec. loss: 0.0017 |  Task loss: 2.3258 | T: 65.66s |  Label Entropy: 0.0000.\n",
      "Optimal candidate solution with rec. loss 1.6980 selected.\n"
     ]
    }
   ],
   "source": [
    "reconstructed_user_data, stats = attacker.reconstruct([server_payload], [shared_data], {}, dryrun=cfg.dryrun)"
   ]
  },
  {
   "cell_type": "code",
   "execution_count": 11,
   "id": "51d7998d-7ca7-4ab0-a36e-dbfcfa430d40",
   "metadata": {},
   "outputs": [
    {
     "name": "stdout",
     "output_type": "stream",
     "text": [
      "Looking in indexes: http://mirrors.aliyun.com/pypi/simple\n",
      "Collecting kornia\n",
      "  Downloading http://mirrors.aliyun.com/pypi/packages/34/5b/f1ee7ec4826cdd34f95f822c975f5a889c99dfd29491cebfc71db03b40e8/kornia-0.7.1-py2.py3-none-any.whl (756 kB)\n",
      "\u001b[K     |████████████████████████████████| 756 kB 4.4 MB/s eta 0:00:01\n",
      "\u001b[?25hRequirement already satisfied: torch>=1.9.1 in /root/miniconda3/lib/python3.8/site-packages (from kornia) (1.10.0+cu113)\n",
      "Requirement already satisfied: packaging in /root/miniconda3/lib/python3.8/site-packages (from kornia) (21.3)\n",
      "Requirement already satisfied: typing-extensions in /root/miniconda3/lib/python3.8/site-packages (from torch>=1.9.1->kornia) (4.0.0)\n",
      "Requirement already satisfied: pyparsing!=3.0.5,>=2.0.2 in /root/miniconda3/lib/python3.8/site-packages (from packaging->kornia) (3.0.6)\n",
      "Installing collected packages: kornia\n",
      "Successfully installed kornia-0.7.1\n",
      "\u001b[33mWARNING: Running pip as the 'root' user can result in broken permissions and conflicting behaviour with the system package manager. It is recommended to use a virtual environment instead: https://pip.pypa.io/warnings/venv\u001b[0m\n"
     ]
    }
   ],
   "source": [
    "!pip install kornia"
   ]
  },
  {
   "cell_type": "code",
   "execution_count": 12,
   "id": "5e1746c1-2c09-474e-898f-673cfdc118af",
   "metadata": {},
   "outputs": [
    {
     "name": "stdout",
     "output_type": "stream",
     "text": [
      "Looking in indexes: http://mirrors.aliyun.com/pypi/simple\n",
      "Collecting pytorch_wavelets\n",
      "  Downloading http://mirrors.aliyun.com/pypi/packages/8d/65/b7da80705dc679999ef77c06ded71e060d4ea14ed80111c104223e130cc1/pytorch_wavelets-1.3.0-py3-none-any.whl (54 kB)\n",
      "\u001b[K     |████████████████████████████████| 54 kB 2.9 MB/s eta 0:00:011\n",
      "\u001b[?25hRequirement already satisfied: numpy in /root/miniconda3/lib/python3.8/site-packages (from pytorch_wavelets) (1.21.4)\n",
      "Requirement already satisfied: six in /root/miniconda3/lib/python3.8/site-packages (from pytorch_wavelets) (1.16.0)\n",
      "Requirement already satisfied: torch in /root/miniconda3/lib/python3.8/site-packages (from pytorch_wavelets) (1.10.0+cu113)\n",
      "Requirement already satisfied: typing-extensions in /root/miniconda3/lib/python3.8/site-packages (from torch->pytorch_wavelets) (4.0.0)\n",
      "Installing collected packages: pytorch-wavelets\n",
      "Successfully installed pytorch-wavelets-1.3.0\n",
      "\u001b[33mWARNING: Running pip as the 'root' user can result in broken permissions and conflicting behaviour with the system package manager. It is recommended to use a virtual environment instead: https://pip.pypa.io/warnings/venv\u001b[0m\n"
     ]
    }
   ],
   "source": [
    "!pip install pytorch_wavelets"
   ]
  },
  {
   "cell_type": "markdown",
   "id": "bd349f13",
   "metadata": {
    "id": "bd349f13"
   },
   "source": [
    "Next we'll evaluate metrics, comparing the `reconstructed_user_data` to the `true_user_data`."
   ]
  },
  {
   "cell_type": "code",
   "execution_count": 15,
   "id": "31f2685a",
   "metadata": {
    "colab": {
     "base_uri": "https://localhost:8080/"
    },
    "executionInfo": {
     "elapsed": 2703,
     "status": "ok",
     "timestamp": 1704543976720,
     "user": {
      "displayName": "lao lao",
      "userId": "11034711047506173733"
     },
     "user_tz": -480
    },
    "id": "31f2685a",
    "outputId": "fe003087-1539-41fa-b39c-4debacdf1255"
   },
   "outputs": [
    {
     "name": "stdout",
     "output_type": "stream",
     "text": [
      "Files already downloaded and verified\n",
      "METRICS: | MSE: 0.0046 | PSNR: 23.34 | FMSE: 6.5023e-12 | LPIPS: 0.00|\n",
      " R-PSNR: 23.34 | IIP-pixel: 100.00% | SSIM: nan | max R-PSNR: 23.34 | max SSIM: nan | Label Acc: 0.00%\n"
     ]
    }
   ],
   "source": [
    "metrics = breaching.analysis.report(reconstructed_user_data, true_user_data, [server_payload],\n",
    "                                    server.model, order_batch=True, compute_full_iip=False,\n",
    "                                    cfg_case=cfg.case, setup=setup)"
   ]
  },
  {
   "cell_type": "markdown",
   "id": "09fdbee0",
   "metadata": {
    "id": "09fdbee0"
   },
   "source": [
    "And finally, we also plot the reconstructed data:"
   ]
  },
  {
   "cell_type": "code",
   "execution_count": 16,
   "id": "631f4a84",
   "metadata": {
    "colab": {
     "base_uri": "https://localhost:8080/",
     "height": 406
    },
    "executionInfo": {
     "elapsed": 13,
     "status": "ok",
     "timestamp": 1704543976721,
     "user": {
      "displayName": "lao lao",
      "userId": "11034711047506173733"
     },
     "user_tz": -480
    },
    "id": "631f4a84",
    "outputId": "a9c52ffc-87ba-44d1-935e-ba9358fe2ddc"
   },
   "outputs": [
    {
     "data": {
      "image/png": "[encoded data removed]",
      "text/plain": [
       "<Figure size 432x288 with 1 Axes>"
      ]
     },
     "metadata": {
      "needs_background": "light"
     },
     "output_type": "display_data"
    }
   ],
   "source": [
    "user.plot(reconstructed_user_data)"
   ]
  },
  {
   "cell_type": "markdown",
   "id": "0db83498",
   "metadata": {
    "id": "0db83498"
   },
   "source": [
    "# 注释\n",
    "\n",
    "* 可以用 `case.model=lenet_zhu` 获取原始论文中的模型\n",
    "* 这种攻击通常有效，但对于更具挑战性的模型可能会陷入不良的局部最小值。多次重启攻击，（例如，通过设置 `attack.restarts.num_trials=16`）可以帮助解决这个问题。"
   ]
  }
 ],
 "metadata": {
  "accelerator": "GPU",
  "colab": {
   "gpuType": "T4",
   "provenance": [],
   "toc_visible": true
  },
  "hide_input": false,
  "kernelspec": {
   "display_name": "Python 3 (ipykernel)",
   "language": "python",
   "name": "python3"
  },
  "language_info": {
   "codemirror_mode": {
    "name": "ipython",
    "version": 3
   },
   "file_extension": ".py",
   "mimetype": "text/x-python",
   "name": "python",
   "nbconvert_exporter": "python",
   "pygments_lexer": "ipython3",
   "version": "3.8.10"
  },
  "latex_envs": {
   "LaTeX_envs_menu_present": true,
   "autoclose": false,
   "autocomplete": true,
   "bibliofile": "biblio.bib",
   "cite_by": "apalike",
   "current_citInitial": 1,
   "eqLabelWithNumbers": true,
   "eqNumInitial": 1,
   "hotkeys": {
    "equation": "Ctrl-E",
    "itemize": "Ctrl-I"
   },
   "labels_anchors": false,
   "latex_user_defs": false,
   "report_style_numbering": false,
   "user_envs_cfg": false
  },
  "toc": {
   "base_numbering": 1,
   "nav_menu": {},
   "number_sections": true,
   "sideBar": true,
   "skip_h1_title": false,
   "title_cell": "Table of Contents",
   "title_sidebar": "Contents",
   "toc_cell": false,
   "toc_position": {
    "height": "786px",
    "left": "41px",
    "top": "333px",
    "width": "293.388px"
   },
   "toc_section_display": true,
   "toc_window_display": true
  }
 },
 "nbformat": 4,
 "nbformat_minor": 5
}
