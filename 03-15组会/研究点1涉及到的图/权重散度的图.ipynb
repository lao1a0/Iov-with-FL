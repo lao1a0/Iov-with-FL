{
 "cells": [
  {
   "cell_type": "markdown",
   "id": "219a3013",
   "metadata": {},
   "source": [
    "# EMD介绍\n",
    "\n",
    "https://blog.csdn.net/qq_38130747/article/details/135057322\n",
    "\n",
    "wasserstein_distance\n",
    "所属模块：scipy\n",
    "\n",
    "功能：衡量两个分布之间的相似性"
   ]
  },
  {
   "cell_type": "code",
   "execution_count": 4,
   "id": "81838143",
   "metadata": {
    "ExecuteTime": {
     "end_time": "2024-03-24T11:42:01.917133Z",
     "start_time": "2024-03-24T11:42:01.910576Z"
    }
   },
   "outputs": [
    {
     "name": "stdout",
     "output_type": "stream",
     "text": [
      "x0 =  0.0\n",
      "x1 =  0.0\n",
      "x2 =  0.33333333333333337\n",
      "x3 =  3.6666666666666665\n"
     ]
    }
   ],
   "source": [
    "# 实例1：计算EMD距离值\n",
    "\n",
    "from scipy.stats import wasserstein_distance\n",
    "x0 = wasserstein_distance([0, 1, 3], [0, 1, 3])#相同的分布，分布的差异为0\n",
    "x1 = wasserstein_distance([3, 1, 0], [0, 1, 3])#相同分布，但元素顺序打乱，分布的差异值仍然为0\n",
    "x2 = wasserstein_distance([0, 1, 2], [0, 1, 3])#分布中只有部分值相同，分布的差异值仍然为0.3\n",
    "x3 = wasserstein_distance([4, 5, 6], [0, 1, 3])#分布完全不同，分布的差异值为3.6\n",
    "print(\"x0 = \",x0)\n",
    "print(\"x1 = \",x1)\n",
    "print(\"x2 = \",x2)\n",
    "print(\"x3 = \",x3)"
   ]
  },
  {
   "cell_type": "markdown",
   "id": "2f24c486",
   "metadata": {},
   "source": [
    "函数说明\n",
    "```\n",
    "scipy.stats.wasserstein_distance(u_values, v_values, u_weights=None, v_weights=None)\n",
    "```\n",
    "返回值说明 ``返回一个浮点数float，返回值越大，两个分布的距离差别越大``"
   ]
  },
  {
   "cell_type": "code",
   "execution_count": null,
   "id": "4113cb8e",
   "metadata": {},
   "outputs": [],
   "source": [
    "实例2:分布中每个点的权重不同\n",
    "\n",
    "#code-python(3.6)\n",
    "from scipy.stats import wasserstein_distance\n",
    "x = wasserstein_distance([3.4, 3.9, 7.5, 7.8], [4.5, 1.4],[1.4, 0.9, 3.1, 7.2], [3.2, 3.5])\n",
    "#分布1是[3.4, 3.9, 7.5, 7.8]，每个点的权重是[1.4, 0.9, 3.1, 7.2]；\n",
    "#分布2是[4.5, 1.4]，每个点的权重是[3.2, 3.5]；\n",
    "print(\"x = \",x)"
   ]
  },
  {
   "cell_type": "code",
   "execution_count": 3,
   "id": "1f6a6659",
   "metadata": {
    "ExecuteTime": {
     "end_time": "2024-03-24T11:39:20.094814Z",
     "start_time": "2024-03-24T11:39:20.089055Z"
    },
    "scrolled": true
   },
   "outputs": [],
   "source": [
    "from scipy.stats import wasserstein_distance\n",
    "# 对权重未归一化\n",
    "wd1 = wasserstein_distance([0,1,2,3],[0,1,2,3], [4,2,1,3],[3,1,2,4])\n",
    "# wd1 = 0.4\n",
    "# 前面两个u_values,v_value值不同\n",
    "wd2 = wasserstein_distance([1,2,3,4],[1,2,3,4], [4,2,1,3],[3,1,2,4])\n",
    "# wd2 = 0.4\n",
    "# u_values,v_value 值变化\n",
    "wd3 = wasserstein_distance([0,1,3,4],[0,1,3,4], [4,2,1,3],[3,1,2,4])\n",
    "# wd3 = 0.6\n",
    "# 对示例中的进行归一化处理\n",
    "wd4 = wasserstein_distance([0,1,2,3],[0,1,2,3], [4/10,2/10,1/10,3/10],[3/10,1/10,2/10,4/10])\n",
    "# wd4 = 0.4"
   ]
  },
  {
   "cell_type": "code",
   "execution_count": 5,
   "id": "e22345b2",
   "metadata": {
    "ExecuteTime": {
     "end_time": "2024-03-24T13:34:04.506635Z",
     "start_time": "2024-03-24T13:34:04.489872Z"
    }
   },
   "outputs": [
    {
     "data": {
      "text/plain": [
       "(0.39999999999999997,\n",
       " 0.39999999999999997,\n",
       " 0.5999999999999999,\n",
       " 0.4000000000000001)"
      ]
     },
     "execution_count": 5,
     "metadata": {},
     "output_type": "execute_result"
    }
   ],
   "source": [
    "wd1,wd2,wd3,wd4"
   ]
  },
  {
   "cell_type": "markdown",
   "id": "c6025881",
   "metadata": {},
   "source": [
    "# 用EMD衡量全局模型和局部模型的距离"
   ]
  },
  {
   "cell_type": "code",
   "execution_count": 4,
   "id": "34162ded",
   "metadata": {
    "ExecuteTime": {
     "end_time": "2024-03-24T13:47:17.635628Z",
     "start_time": "2024-03-24T13:47:17.616577Z"
    },
    "code_folding": []
   },
   "outputs": [
    {
     "data": {
      "text/plain": [
       "<All keys matched successfully>"
      ]
     },
     "execution_count": 4,
     "metadata": {},
     "output_type": "execute_result"
    }
   ],
   "source": [
    "import torch\n",
    "from torch import nn\n",
    "from matplotlib import pyplot as plt\n",
    "# 设置全局字体大小为12\n",
    "plt.rcParams['font.size'] = 16\n",
    "# 设置全局字体加粗\n",
    "# plt.rcParams['font.weight'] = 'bold'\n",
    "# 设置全局字体为SimSun和Times New Roman\n",
    "plt.rcParams['font.family'] = ['SimHei','SimSun']\n",
    "plt.rcParams['figure.dpi'] = 500\n",
    "\n",
    "class Args:\n",
    "    def __init__(self):\n",
    "        self.B = 200\n",
    "        self.root = '/home/raoxy/data/carhacking_dirichlet_05/'\n",
    "        self.optimizer = \"adam\"\n",
    "        self.lr = 0.05\n",
    "        self.device = torch.device('cuda' if torch.cuda.is_available() else 'cpu')\n",
    "        self.weight_decay = 0.0001\n",
    "        self.E = 1\n",
    "        self.gamma = 0.1\n",
    "        self.step_size = 100\n",
    "\n",
    "\n",
    "args = Args()\n",
    "\n",
    "class CNN(nn.Module):\n",
    "    def __init__(self, num_class, name):\n",
    "        super(CNN, self).__init__()\n",
    "        self.name = name\n",
    "        self.block1 = nn.Sequential(\n",
    "            nn.Conv2d(in_channels=3, out_channels=64, kernel_size=5),\n",
    "            nn.ReLU(),\n",
    "            nn.AdaptiveAvgPool2d(5),\n",
    "            nn.Dropout(p=0.5)\n",
    "\n",
    "        )\n",
    "        self.block2 = nn.Sequential(\n",
    "            nn.Conv2d(64, 32, 5, padding=1),\n",
    "            nn.ReLU(),\n",
    "            nn.MaxPool2d(2),\n",
    "        )\n",
    "        self.block3 = nn.Sequential(\n",
    "            nn.Linear(32, num_class),\n",
    "            nn.LogSoftmax(dim=1)\n",
    "        )\n",
    "\n",
    "    def forward(self, x):\n",
    "        x = self.block1(x)\n",
    "        x = self.block2(x)\n",
    "        x = x.view(x.shape[0], -1)  # torch.Size([128, 32])\n",
    "        x = self.block3(x)\n",
    "        return x\n",
    "    \n",
    "m_global = CNN(num_class=5,name=\"car_11\").to(args.device)\n",
    "m_car1 = CNN(num_class=5,name=\"car_1\").to(args.device)\n",
    "m_global.load_state_dict(torch.load(r'D:\\Desktop\\Iov-with-FL\\03-15组会\\研究点1涉及到的图\\experimental_result\\EMD\\CNN\\pth\\CNN.pth'))\n",
    "m_car1.load_state_dict(torch.load(r'D:\\Desktop\\Iov-with-FL\\03-15组会\\研究点1涉及到的图\\experimental_result\\EMD\\CNN\\pth\\car_1.pth'))\n",
    "# Dtr, Dte = carHacking_Data(file_name=m.name, args=args)"
   ]
  },
  {
   "cell_type": "code",
   "execution_count": null,
   "id": "f7ceed95",
   "metadata": {},
   "outputs": [],
   "source": [
    "wasserstein_distance([0,1,2,3],[0,1,2,3],m_global.parameters()[0],m_car1.parameters()[0])"
   ]
  },
  {
   "cell_type": "code",
   "execution_count": 5,
   "id": "e7d03288",
   "metadata": {
    "ExecuteTime": {
     "end_time": "2024-03-24T13:42:28.232837Z",
     "start_time": "2024-03-24T13:42:27.694361Z"
    }
   },
   "outputs": [
    {
     "name": "stdout",
     "output_type": "stream",
     "text": [
      "Train set: Average loss: 1.6477, Accuracy: 33.0/200 (17.36842105%)\n"
     ]
    }
   ],
   "source": [
    "optimizer = torch.optim.Adam(m.parameters(), lr=0.001)\n",
    "pm = My_Train(args.device)\n",
    "\n",
    "for epoch in range(args.E):\n",
    "    pm.train(args.device,m, Dtr, optimizer, batch_size=args.B)\n",
    "#     pm.test(args.device,m, Dte, batch_size=args.B)"
   ]
  },
  {
   "cell_type": "markdown",
   "id": "e9cb9c22",
   "metadata": {},
   "source": [
    "## 封装的函数"
   ]
  },
  {
   "cell_type": "code",
   "execution_count": 10,
   "id": "3e9c469b",
   "metadata": {
    "ExecuteTime": {
     "end_time": "2024-03-27T10:01:43.753623Z",
     "start_time": "2024-03-27T10:01:43.540660Z"
    },
    "code_folding": [
     12,
     16,
     25
    ],
    "scrolled": true
   },
   "outputs": [],
   "source": [
    "from scipy.stats import wasserstein_distance\n",
    "import torch\n",
    "from torch import nn\n",
    "from matplotlib import pyplot as plt\n",
    "# 设置全局字体大小为12\n",
    "\n",
    "# 设置全局字体加粗\n",
    "# plt.rcParams['font.weight'] = 'bold'\n",
    "# 设置全局字体为SimSun和Times New Roman\n",
    "\n",
    "# plt.rcParams['figure.dpi'] = 500\n",
    "# 加载模型权重\n",
    "def load_model_weights(model_path):\n",
    "    return torch.load(model_path)\n",
    "\n",
    "# 计算两个张量之间的EMD距离\n",
    "def calculate_emd_distance(tensor_a, tensor_b):\n",
    "    # 将张量移动到CPU并展平\n",
    "    from scipy.stats import wasserstein_distance\n",
    "    flattened_a = tensor_a.view(-1).cpu().detach().numpy()\n",
    "    flattened_b = tensor_b.view(-1).cpu().detach().numpy()\n",
    "\n",
    "    # 计算EMD距离\n",
    "    emd = wasserstein_distance(flattened_a, flattened_b)\n",
    "    return torch.tensor(emd)\n",
    "def get_emd(model_path_2):\n",
    "    # 加载模型权重\n",
    "    model_path_1 = r'D:\\Desktop\\Iov-with-FL\\03-15组会\\研究点1涉及到的图\\experimental_result\\EMD\\CNN\\pth\\CNN.pth'#'/home/raoxy/FedAvg_BT/model/CNN.pth'\n",
    "    weights_1 = load_model_weights(model_path_1)\n",
    "    weights_2 = load_model_weights(model_path_2)\n",
    "\n",
    "    ed=[]\n",
    "    # 假设我们比较第一层的权重\n",
    "    for layer_name in weights_1.keys():\n",
    "        emd_distance = calculate_emd_distance(weights_1[layer_name], weights_2[layer_name])\n",
    "        ed.append(emd_distance.item())\n",
    "#         print(f'{layer_name} EMD距离为: {emd_distance}')\n",
    "    return ed\n",
    "\n",
    "data={}\n",
    "for i in range(10):\n",
    "    data[\"RSU \"+str(i+1)]=get_emd(r'D:\\Desktop\\Iov-with-FL\\03-15组会\\研究点1涉及到的图\\experimental_result\\EMD\\CNN\\pth\\car_'+str(i+1)+'.pth')\n",
    "#     data[\"RSU \"+str(i)]=get_emd('/home/raoxy/FedAvg_BT/model/car_'+str(i+1)+'.pth')"
   ]
  },
  {
   "cell_type": "code",
   "execution_count": 11,
   "id": "7114f9e8",
   "metadata": {
    "ExecuteTime": {
     "end_time": "2024-03-27T10:01:51.865844Z",
     "start_time": "2024-03-27T10:01:51.859794Z"
    }
   },
   "outputs": [],
   "source": [
    "import pandas as pd\n",
    "\n",
    "df=pd.DataFrame(data).T"
   ]
  },
  {
   "cell_type": "code",
   "execution_count": 12,
   "id": "4aeab7fc",
   "metadata": {
    "ExecuteTime": {
     "end_time": "2024-03-27T10:01:52.870969Z",
     "start_time": "2024-03-27T10:01:52.865896Z"
    }
   },
   "outputs": [],
   "source": [
    "df.columns=['block1.w', 'block1.b', 'block2.w', 'block2.b', 'block3.w', 'block3.b']"
   ]
  },
  {
   "cell_type": "code",
   "execution_count": 16,
   "id": "bad3c995",
   "metadata": {
    "ExecuteTime": {
     "end_time": "2024-03-27T10:01:53.800012Z",
     "start_time": "2024-03-27T10:01:53.591511Z"
    }
   },
   "outputs": [
    {
     "data": {
      "image/png": "[encoded data removed]",
      "text/plain": [
       "<Figure size 864x576 with 1 Axes>"
      ]
     },
     "metadata": {
      "needs_background": "light"
     },
     "output_type": "display_data"
    }
   ],
   "source": [
    "# plt.figure(f)\n",
    "plt.rcParams['font.family'] = ['SimHei','Times New Roman']\n",
    "plt.rcParams['font.size'] = 20\n",
    "df.T.plot(kind=\"bar\",figsize=(12, 8))\n",
    "plt.xticks(rotation=360)\n",
    "plt.xlabel('Layers')\n",
    "plt.ylabel('权重散度')\n",
    "plt.grid()\n",
    "plt.show()"
   ]
  },
  {
   "cell_type": "markdown",
   "id": "546317d0",
   "metadata": {},
   "source": [
    "## 分析"
   ]
  },
  {
   "cell_type": "code",
   "execution_count": 30,
   "id": "8ef71154",
   "metadata": {
    "ExecuteTime": {
     "end_time": "2024-03-25T03:01:47.864257Z",
     "start_time": "2024-03-25T03:01:47.840438Z"
    },
    "code_folding": []
   },
   "outputs": [
    {
     "name": "stdout",
     "output_type": "stream",
     "text": [
      "tensor(0.0159, device='cuda:0')\n",
      "tensor(0.0013, device='cuda:0')\n",
      "tensor(0.0108, device='cuda:0')\n",
      "tensor(4.7750e-05, device='cuda:0')\n",
      "tensor(0.0041, device='cuda:0')\n",
      "tensor(4.5048e-05, device='cuda:0')\n"
     ]
    }
   ],
   "source": [
    "def FedProx():\n",
    "    weights_1 = load_model_weights('model/CNN.pth')\n",
    "    weights_2 = load_model_weights('model/car_1.pth')\n",
    "    for layer_name in weights_1.keys():\n",
    "        w = weights_2[layer_name]\n",
    "        w_t = weights_1[layer_name] \n",
    "        print((w - w_t).norm(2)) \n",
    "FedProx()"
   ]
  },
  {
   "cell_type": "code",
   "execution_count": 35,
   "id": "8d865b9f",
   "metadata": {
    "ExecuteTime": {
     "end_time": "2024-03-25T03:05:12.891808Z",
     "start_time": "2024-03-25T03:05:12.852064Z"
    }
   },
   "outputs": [
    {
     "name": "stdout",
     "output_type": "stream",
     "text": [
      "tensor(8.4334e-05, device='cuda:0', dtype=torch.float64)\n",
      "tensor(0.0001, device='cuda:0', dtype=torch.float64)\n",
      "tensor(8.2193e-06, device='cuda:0', dtype=torch.float64)\n",
      "tensor(6.5783e-06, device='cuda:0', dtype=torch.float64)\n",
      "tensor(0.0002, device='cuda:0', dtype=torch.float64)\n",
      "tensor(1.6423e-05, device='cuda:0', dtype=torch.float64)\n"
     ]
    }
   ],
   "source": [
    "def FedCan():\n",
    "    weights_1 = load_model_weights('model/CNN.pth')\n",
    "    weights_2 = load_model_weights('model/car_1.pth')\n",
    "    for layer_name in weights_1.keys():\n",
    "        w = weights_2[layer_name]\n",
    "        w_t = weights_1[layer_name] \n",
    "        print(calculate_emd_distance(w, w_t).to('cuda')) \n",
    "FedCan()"
   ]
  }
 ],
 "metadata": {
  "hide_input": false,
  "kernelspec": {
   "display_name": "Python 3",
   "language": "python",
   "name": "python3"
  },
  "language_info": {
   "codemirror_mode": {
    "name": "ipython",
    "version": 3
   },
   "file_extension": ".py",
   "mimetype": "text/x-python",
   "name": "python",
   "nbconvert_exporter": "python",
   "pygments_lexer": "ipython3",
   "version": "3.7.6"
  },
  "latex_envs": {
   "LaTeX_envs_menu_present": true,
   "autoclose": false,
   "autocomplete": true,
   "bibliofile": "biblio.bib",
   "cite_by": "apalike",
   "current_citInitial": 1,
   "eqLabelWithNumbers": true,
   "eqNumInitial": 1,
   "hotkeys": {
    "equation": "Ctrl-E",
    "itemize": "Ctrl-I"
   },
   "labels_anchors": false,
   "latex_user_defs": false,
   "report_style_numbering": false,
   "user_envs_cfg": false
  },
  "toc": {
   "base_numbering": 1,
   "nav_menu": {},
   "number_sections": true,
   "sideBar": true,
   "skip_h1_title": false,
   "title_cell": "Table of Contents",
   "title_sidebar": "Contents",
   "toc_cell": false,
   "toc_position": {
    "height": "calc(100% - 180px)",
    "left": "10px",
    "top": "150px",
    "width": "165px"
   },
   "toc_section_display": true,
   "toc_window_display": true
  }
 },
 "nbformat": 4,
 "nbformat_minor": 5
}
