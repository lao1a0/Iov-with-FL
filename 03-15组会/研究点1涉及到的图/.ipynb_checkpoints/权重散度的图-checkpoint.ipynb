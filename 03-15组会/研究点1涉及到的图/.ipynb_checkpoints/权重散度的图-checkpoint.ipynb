{
 "cells": [
  {
   "cell_type": "markdown",
   "id": "219a3013",
   "metadata": {},
   "source": [
    "# EMD介绍\n",
    "\n",
    "https://blog.csdn.net/qq_38130747/article/details/135057322\n",
    "\n",
    "wasserstein_distance\n",
    "所属模块：scipy\n",
    "\n",
    "功能：衡量两个分布之间的相似性"
   ]
  },
  {
   "cell_type": "code",
   "execution_count": 4,
   "id": "81838143",
   "metadata": {
    "ExecuteTime": {
     "end_time": "2024-03-24T11:42:01.917133Z",
     "start_time": "2024-03-24T11:42:01.910576Z"
    }
   },
   "outputs": [
    {
     "name": "stdout",
     "output_type": "stream",
     "text": [
      "x0 =  0.0\n",
      "x1 =  0.0\n",
      "x2 =  0.33333333333333337\n",
      "x3 =  3.6666666666666665\n"
     ]
    }
   ],
   "source": [
    "# 实例1：计算EMD距离值\n",
    "\n",
    "from scipy.stats import wasserstein_distance\n",
    "x0 = wasserstein_distance([0, 1, 3], [0, 1, 3])#相同的分布，分布的差异为0\n",
    "x1 = wasserstein_distance([3, 1, 0], [0, 1, 3])#相同分布，但元素顺序打乱，分布的差异值仍然为0\n",
    "x2 = wasserstein_distance([0, 1, 2], [0, 1, 3])#分布中只有部分值相同，分布的差异值仍然为0.3\n",
    "x3 = wasserstein_distance([4, 5, 6], [0, 1, 3])#分布完全不同，分布的差异值为3.6\n",
    "print(\"x0 = \",x0)\n",
    "print(\"x1 = \",x1)\n",
    "print(\"x2 = \",x2)\n",
    "print(\"x3 = \",x3)"
   ]
  },
  {
   "cell_type": "markdown",
   "id": "2f24c486",
   "metadata": {},
   "source": [
    "函数说明\n",
    "```\n",
    "scipy.stats.wasserstein_distance(u_values, v_values, u_weights=None, v_weights=None)\n",
    "```\n",
    "返回值说明 ``返回一个浮点数float，返回值越大，两个分布的距离差别越大``"
   ]
  },
  {
   "cell_type": "code",
   "execution_count": null,
   "id": "4113cb8e",
   "metadata": {},
   "outputs": [],
   "source": [
    "实例2:分布中每个点的权重不同\n",
    "\n",
    "#code-python(3.6)\n",
    "from scipy.stats import wasserstein_distance\n",
    "x = wasserstein_distance([3.4, 3.9, 7.5, 7.8], [4.5, 1.4],[1.4, 0.9, 3.1, 7.2], [3.2, 3.5])\n",
    "#分布1是[3.4, 3.9, 7.5, 7.8]，每个点的权重是[1.4, 0.9, 3.1, 7.2]；\n",
    "#分布2是[4.5, 1.4]，每个点的权重是[3.2, 3.5]；\n",
    "print(\"x = \",x)"
   ]
  },
  {
   "cell_type": "code",
   "execution_count": 3,
   "id": "1f6a6659",
   "metadata": {
    "ExecuteTime": {
     "end_time": "2024-03-24T11:39:20.094814Z",
     "start_time": "2024-03-24T11:39:20.089055Z"
    },
    "scrolled": true
   },
   "outputs": [],
   "source": [
    "from scipy.stats import wasserstein_distance\n",
    "# 对权重未归一化\n",
    "wd1 = wasserstein_distance([0,1,2,3],[0,1,2,3], [4,2,1,3],[3,1,2,4])\n",
    "# wd1 = 0.4\n",
    "# 前面两个u_values,v_value值不同\n",
    "wd2 = wasserstein_distance([1,2,3,4],[1,2,3,4], [4,2,1,3],[3,1,2,4])\n",
    "# wd2 = 0.4\n",
    "# u_values,v_value 值变化\n",
    "wd3 = wasserstein_distance([0,1,3,4],[0,1,3,4], [4,2,1,3],[3,1,2,4])\n",
    "# wd3 = 0.6\n",
    "# 对示例中的进行归一化处理\n",
    "wd4 = wasserstein_distance([0,1,2,3],[0,1,2,3], [4/10,2/10,1/10,3/10],[3/10,1/10,2/10,4/10])\n",
    "# wd4 = 0.4"
   ]
  },
  {
   "cell_type": "code",
   "execution_count": 5,
   "id": "e22345b2",
   "metadata": {
    "ExecuteTime": {
     "end_time": "2024-03-24T13:34:04.506635Z",
     "start_time": "2024-03-24T13:34:04.489872Z"
    }
   },
   "outputs": [
    {
     "data": {
      "text/plain": [
       "(0.39999999999999997,\n",
       " 0.39999999999999997,\n",
       " 0.5999999999999999,\n",
       " 0.4000000000000001)"
      ]
     },
     "execution_count": 5,
     "metadata": {},
     "output_type": "execute_result"
    }
   ],
   "source": [
    "wd1,wd2,wd3,wd4"
   ]
  },
  {
   "cell_type": "markdown",
   "id": "c6025881",
   "metadata": {},
   "source": [
    "# 用EMD衡量全局模型和局部模型的距离"
   ]
  },
  {
   "cell_type": "code",
   "execution_count": 2,
   "id": "34162ded",
   "metadata": {
    "ExecuteTime": {
     "end_time": "2024-03-24T13:47:17.635628Z",
     "start_time": "2024-03-24T13:47:17.616577Z"
    },
    "code_folding": []
   },
   "outputs": [
    {
     "ename": "ModuleNotFoundError",
     "evalue": "No module named 'model'",
     "output_type": "error",
     "traceback": [
      "\u001b[1;31m---------------------------------------------------------------------------\u001b[0m",
      "\u001b[1;31mModuleNotFoundError\u001b[0m                       Traceback (most recent call last)",
      "\u001b[1;32m<ipython-input-2-63b80fa8fb18>\u001b[0m in \u001b[0;36m<module>\u001b[1;34m\u001b[0m\n\u001b[0;32m      1\u001b[0m \u001b[1;31m# from pretraining_model import My_Train\u001b[0m\u001b[1;33m\u001b[0m\u001b[1;33m\u001b[0m\u001b[1;33m\u001b[0m\u001b[0m\n\u001b[1;32m----> 2\u001b[1;33m \u001b[1;32mfrom\u001b[0m \u001b[0mmodel\u001b[0m \u001b[1;32mimport\u001b[0m \u001b[0mCNN\u001b[0m\u001b[1;33m\u001b[0m\u001b[1;33m\u001b[0m\u001b[0m\n\u001b[0m\u001b[0;32m      3\u001b[0m \u001b[1;32mfrom\u001b[0m \u001b[0mget_data\u001b[0m \u001b[1;32mimport\u001b[0m \u001b[0mcarHacking_Data\u001b[0m\u001b[1;33m\u001b[0m\u001b[1;33m\u001b[0m\u001b[0m\n\u001b[0;32m      4\u001b[0m \u001b[1;32mimport\u001b[0m \u001b[0mtorch\u001b[0m\u001b[1;33m\u001b[0m\u001b[1;33m\u001b[0m\u001b[0m\n\u001b[0;32m      5\u001b[0m \u001b[1;32mfrom\u001b[0m \u001b[0mmatplotlib\u001b[0m \u001b[1;32mimport\u001b[0m \u001b[0mpyplot\u001b[0m \u001b[1;32mas\u001b[0m \u001b[0mplt\u001b[0m\u001b[1;33m\u001b[0m\u001b[1;33m\u001b[0m\u001b[0m\n",
      "\u001b[1;31mModuleNotFoundError\u001b[0m: No module named 'model'"
     ]
    }
   ],
   "source": [
    "# from pretraining_model import My_Train\n",
    "from model import CNN\n",
    "from get_data import carHacking_Data\n",
    "import torch\n",
    "from matplotlib import pyplot as plt\n",
    "# 设置全局字体大小为12\n",
    "plt.rcParams['font.size'] = 16\n",
    "# 设置全局字体加粗\n",
    "# plt.rcParams['font.weight'] = 'bold'\n",
    "# 设置全局字体为SimSun和Times New Roman\n",
    "plt.rcParams['font.family'] = ['SimHei','SimSun']\n",
    "plt.rcParams['figure.dpi'] = 500\n",
    "\n",
    "class Args:\n",
    "    def __init__(self):\n",
    "        self.B = 200\n",
    "        self.root = '/home/raoxy/data/carhacking_dirichlet_05/'\n",
    "        self.optimizer = \"adam\"\n",
    "        self.lr = 0.05\n",
    "        self.device = torch.device('cuda' if torch.cuda.is_available() else 'cpu')\n",
    "        self.weight_decay = 0.0001\n",
    "        self.E = 1\n",
    "        self.gamma = 0.1\n",
    "        self.step_size = 100\n",
    "\n",
    "\n",
    "args = Args()\n",
    "m_global = CNN(num_class=5,name=\"car_11\").to(args.device)\n",
    "m_car1 = CNN(num_class=5,name=\"car_1\").to(args.device)\n",
    "m_global.load_state_dict(torch.load(r'D:\\Desktop\\Iov-with-FL\\03-15组会\\研究点1涉及到的图\\experimental_result\\EMD\\CNN\\pth\\CNN.pth'))\n",
    "m_car1.load_state_dict(torch.load(r'D:\\Desktop\\Iov-with-FL\\03-15组会\\研究点1涉及到的图\\experimental_result\\EMD\\CNN\\pth\\car_1.pth'))\n",
    "# Dtr, Dte = carHacking_Data(file_name=m.name, args=args)"
   ]
  },
  {
   "cell_type": "code",
   "execution_count": null,
   "id": "f7ceed95",
   "metadata": {},
   "outputs": [],
   "source": [
    "wasserstein_distance([0,1,2,3],[0,1,2,3],m_global.parameters()[0],m_car1.parameters()[0])"
   ]
  },
  {
   "cell_type": "code",
   "execution_count": 5,
   "id": "e7d03288",
   "metadata": {
    "ExecuteTime": {
     "end_time": "2024-03-24T13:42:28.232837Z",
     "start_time": "2024-03-24T13:42:27.694361Z"
    }
   },
   "outputs": [
    {
     "name": "stdout",
     "output_type": "stream",
     "text": [
      "Train set: Average loss: 1.6477, Accuracy: 33.0/200 (17.36842105%)\n"
     ]
    }
   ],
   "source": [
    "optimizer = torch.optim.Adam(m.parameters(), lr=0.001)\n",
    "pm = My_Train(args.device)\n",
    "\n",
    "for epoch in range(args.E):\n",
    "    pm.train(args.device,m, Dtr, optimizer, batch_size=args.B)\n",
    "#     pm.test(args.device,m, Dte, batch_size=args.B)"
   ]
  },
  {
   "cell_type": "markdown",
   "id": "e9cb9c22",
   "metadata": {},
   "source": [
    "## 封装的函数"
   ]
  },
  {
   "cell_type": "code",
   "execution_count": 63,
   "id": "3e9c469b",
   "metadata": {
    "ExecuteTime": {
     "end_time": "2024-03-27T10:01:43.753623Z",
     "start_time": "2024-03-27T10:01:43.540660Z"
    },
    "scrolled": true
   },
   "outputs": [],
   "source": [
    "import matplotlib.pyplot as plt\n",
    "import torch\n",
    "from scipy.stats import wasserstein_distance\n",
    "\n",
    "# 加载模型权重\n",
    "def load_model_weights(model_path):\n",
    "    return torch.load(model_path)\n",
    "\n",
    "# 计算两个张量之间的EMD距离\n",
    "def calculate_emd_distance(tensor_a, tensor_b):\n",
    "    # 将张量移动到CPU并展平\n",
    "    from scipy.stats import wasserstein_distance\n",
    "    flattened_a = tensor_a.view(-1).cpu().detach().numpy()\n",
    "    flattened_b = tensor_b.view(-1).cpu().detach().numpy()\n",
    "\n",
    "    # 计算EMD距离\n",
    "    emd = wasserstein_distance(flattened_a, flattened_b)\n",
    "    return torch.tensor(emd)\n",
    "def get_emd(model_path_2):\n",
    "    # 加载模型权重\n",
    "    model_path_1 = '/home/raoxy/experimental_result/EMD/CNN/pth/CNN.pth'#'/home/raoxy/FedAvg_BT/model/CNN.pth'\n",
    "    weights_1 = load_model_weights(model_path_1)\n",
    "    weights_2 = load_model_weights(model_path_2)\n",
    "\n",
    "    ed=[]\n",
    "    # 假设我们比较第一层的权重\n",
    "    for layer_name in weights_1.keys():\n",
    "        emd_distance = calculate_emd_distance(weights_1[layer_name], weights_2[layer_name])\n",
    "        ed.append(emd_distance.item())\n",
    "#         print(f'{layer_name} EMD距离为: {emd_distance}')\n",
    "    return ed\n",
    "\n",
    "data={}\n",
    "for i in range(10):\n",
    "    data[\"RSU \"+str(i+1)]=get_emd('/home/raoxy/experimental_result/EMD/CNN/pth/car_'+str(i+1)+'.pth')\n",
    "#     data[\"RSU \"+str(i)]=get_emd('/home/raoxy/FedAvg_BT/model/car_'+str(i+1)+'.pth')"
   ]
  },
  {
   "cell_type": "code",
   "execution_count": 66,
   "id": "7114f9e8",
   "metadata": {
    "ExecuteTime": {
     "end_time": "2024-03-27T10:01:51.865844Z",
     "start_time": "2024-03-27T10:01:51.859794Z"
    }
   },
   "outputs": [],
   "source": [
    "import pandas as pd\n",
    "\n",
    "df=pd.DataFrame(data).T"
   ]
  },
  {
   "cell_type": "code",
   "execution_count": 67,
   "id": "c337733b",
   "metadata": {
    "ExecuteTime": {
     "end_time": "2024-03-27T10:01:52.361142Z",
     "start_time": "2024-03-27T10:01:52.347007Z"
    }
   },
   "outputs": [
    {
     "data": {
      "text/html": [
       "<div>\n",
       "<style scoped>\n",
       "    .dataframe tbody tr th:only-of-type {\n",
       "        vertical-align: middle;\n",
       "    }\n",
       "\n",
       "    .dataframe tbody tr th {\n",
       "        vertical-align: top;\n",
       "    }\n",
       "\n",
       "    .dataframe thead th {\n",
       "        text-align: right;\n",
       "    }\n",
       "</style>\n",
       "<table border=\"1\" class=\"dataframe\">\n",
       "  <thead>\n",
       "    <tr style=\"text-align: right;\">\n",
       "      <th></th>\n",
       "      <th>0</th>\n",
       "      <th>1</th>\n",
       "      <th>2</th>\n",
       "      <th>3</th>\n",
       "      <th>4</th>\n",
       "      <th>5</th>\n",
       "    </tr>\n",
       "  </thead>\n",
       "  <tbody>\n",
       "    <tr>\n",
       "      <th>RSU 1</th>\n",
       "      <td>0.013204</td>\n",
       "      <td>0.024864</td>\n",
       "      <td>0.014261</td>\n",
       "      <td>0.038344</td>\n",
       "      <td>0.025884</td>\n",
       "      <td>0.037966</td>\n",
       "    </tr>\n",
       "    <tr>\n",
       "      <th>RSU 2</th>\n",
       "      <td>0.038707</td>\n",
       "      <td>0.031594</td>\n",
       "      <td>0.005832</td>\n",
       "      <td>0.018213</td>\n",
       "      <td>0.053165</td>\n",
       "      <td>0.064348</td>\n",
       "    </tr>\n",
       "    <tr>\n",
       "      <th>RSU 3</th>\n",
       "      <td>0.007353</td>\n",
       "      <td>0.014672</td>\n",
       "      <td>0.017664</td>\n",
       "      <td>0.040691</td>\n",
       "      <td>0.022255</td>\n",
       "      <td>0.032887</td>\n",
       "    </tr>\n",
       "    <tr>\n",
       "      <th>RSU 4</th>\n",
       "      <td>0.011577</td>\n",
       "      <td>0.012721</td>\n",
       "      <td>0.010425</td>\n",
       "      <td>0.031369</td>\n",
       "      <td>0.015554</td>\n",
       "      <td>0.024890</td>\n",
       "    </tr>\n",
       "    <tr>\n",
       "      <th>RSU 5</th>\n",
       "      <td>0.012873</td>\n",
       "      <td>0.015132</td>\n",
       "      <td>0.006914</td>\n",
       "      <td>0.027574</td>\n",
       "      <td>0.020032</td>\n",
       "      <td>0.047070</td>\n",
       "    </tr>\n",
       "    <tr>\n",
       "      <th>RSU 6</th>\n",
       "      <td>0.011683</td>\n",
       "      <td>0.009442</td>\n",
       "      <td>0.015477</td>\n",
       "      <td>0.027346</td>\n",
       "      <td>0.019309</td>\n",
       "      <td>0.039436</td>\n",
       "    </tr>\n",
       "    <tr>\n",
       "      <th>RSU 7</th>\n",
       "      <td>0.012853</td>\n",
       "      <td>0.030897</td>\n",
       "      <td>0.010890</td>\n",
       "      <td>0.024771</td>\n",
       "      <td>0.034343</td>\n",
       "      <td>0.029042</td>\n",
       "    </tr>\n",
       "    <tr>\n",
       "      <th>RSU 8</th>\n",
       "      <td>0.011475</td>\n",
       "      <td>0.028133</td>\n",
       "      <td>0.008419</td>\n",
       "      <td>0.042058</td>\n",
       "      <td>0.025434</td>\n",
       "      <td>0.070864</td>\n",
       "    </tr>\n",
       "    <tr>\n",
       "      <th>RSU 9</th>\n",
       "      <td>0.014032</td>\n",
       "      <td>0.038298</td>\n",
       "      <td>0.011532</td>\n",
       "      <td>0.039095</td>\n",
       "      <td>0.022280</td>\n",
       "      <td>0.024812</td>\n",
       "    </tr>\n",
       "    <tr>\n",
       "      <th>RSU 10</th>\n",
       "      <td>0.013808</td>\n",
       "      <td>0.027839</td>\n",
       "      <td>0.018982</td>\n",
       "      <td>0.026029</td>\n",
       "      <td>0.029523</td>\n",
       "      <td>0.031530</td>\n",
       "    </tr>\n",
       "  </tbody>\n",
       "</table>\n",
       "</div>"
      ],
      "text/plain": [
       "               0         1         2         3         4         5\n",
       "RSU 1   0.013204  0.024864  0.014261  0.038344  0.025884  0.037966\n",
       "RSU 2   0.038707  0.031594  0.005832  0.018213  0.053165  0.064348\n",
       "RSU 3   0.007353  0.014672  0.017664  0.040691  0.022255  0.032887\n",
       "RSU 4   0.011577  0.012721  0.010425  0.031369  0.015554  0.024890\n",
       "RSU 5   0.012873  0.015132  0.006914  0.027574  0.020032  0.047070\n",
       "RSU 6   0.011683  0.009442  0.015477  0.027346  0.019309  0.039436\n",
       "RSU 7   0.012853  0.030897  0.010890  0.024771  0.034343  0.029042\n",
       "RSU 8   0.011475  0.028133  0.008419  0.042058  0.025434  0.070864\n",
       "RSU 9   0.014032  0.038298  0.011532  0.039095  0.022280  0.024812\n",
       "RSU 10  0.013808  0.027839  0.018982  0.026029  0.029523  0.031530"
      ]
     },
     "execution_count": 67,
     "metadata": {},
     "output_type": "execute_result"
    }
   ],
   "source": [
    "df"
   ]
  },
  {
   "cell_type": "code",
   "execution_count": 68,
   "id": "4aeab7fc",
   "metadata": {
    "ExecuteTime": {
     "end_time": "2024-03-27T10:01:52.870969Z",
     "start_time": "2024-03-27T10:01:52.865896Z"
    }
   },
   "outputs": [],
   "source": [
    "df.columns=['block1.w', 'block1.b', 'block2.w', 'block2.b', 'block3.w', 'block3.b']\n",
    "# df.columns=['block1', 'block2', 'block3', 'block4']"
   ]
  },
  {
   "cell_type": "code",
   "execution_count": 69,
   "id": "bad3c995",
   "metadata": {
    "ExecuteTime": {
     "end_time": "2024-03-27T10:01:53.800012Z",
     "start_time": "2024-03-27T10:01:53.591511Z"
    }
   },
   "outputs": [
    {
     "data": {
      "image/png": "[encoded data removed]",
      "text/plain": [
       "<Figure size 640x480 with 1 Axes>"
      ]
     },
     "metadata": {},
     "output_type": "display_data"
    }
   ],
   "source": [
    "df.T.plot(kind=\"bar\")\n",
    "plt.xticks(rotation=360)\n",
    "plt.xlabel('Layers')\n",
    "plt.ylabel('Weight divergence')\n",
    "plt.grid()"
   ]
  },
  {
   "cell_type": "markdown",
   "id": "546317d0",
   "metadata": {},
   "source": [
    "## 分析"
   ]
  },
  {
   "cell_type": "code",
   "execution_count": 30,
   "id": "8ef71154",
   "metadata": {
    "ExecuteTime": {
     "end_time": "2024-03-25T03:01:47.864257Z",
     "start_time": "2024-03-25T03:01:47.840438Z"
    },
    "code_folding": []
   },
   "outputs": [
    {
     "name": "stdout",
     "output_type": "stream",
     "text": [
      "tensor(0.0159, device='cuda:0')\n",
      "tensor(0.0013, device='cuda:0')\n",
      "tensor(0.0108, device='cuda:0')\n",
      "tensor(4.7750e-05, device='cuda:0')\n",
      "tensor(0.0041, device='cuda:0')\n",
      "tensor(4.5048e-05, device='cuda:0')\n"
     ]
    }
   ],
   "source": [
    "def FedProx():\n",
    "    weights_1 = load_model_weights('model/CNN.pth')\n",
    "    weights_2 = load_model_weights('model/car_1.pth')\n",
    "    for layer_name in weights_1.keys():\n",
    "        w = weights_2[layer_name]\n",
    "        w_t = weights_1[layer_name] \n",
    "        print((w - w_t).norm(2)) \n",
    "FedProx()"
   ]
  },
  {
   "cell_type": "code",
   "execution_count": 35,
   "id": "8d865b9f",
   "metadata": {
    "ExecuteTime": {
     "end_time": "2024-03-25T03:05:12.891808Z",
     "start_time": "2024-03-25T03:05:12.852064Z"
    }
   },
   "outputs": [
    {
     "name": "stdout",
     "output_type": "stream",
     "text": [
      "tensor(8.4334e-05, device='cuda:0', dtype=torch.float64)\n",
      "tensor(0.0001, device='cuda:0', dtype=torch.float64)\n",
      "tensor(8.2193e-06, device='cuda:0', dtype=torch.float64)\n",
      "tensor(6.5783e-06, device='cuda:0', dtype=torch.float64)\n",
      "tensor(0.0002, device='cuda:0', dtype=torch.float64)\n",
      "tensor(1.6423e-05, device='cuda:0', dtype=torch.float64)\n"
     ]
    }
   ],
   "source": [
    "def FedCan():\n",
    "    weights_1 = load_model_weights('model/CNN.pth')\n",
    "    weights_2 = load_model_weights('model/car_1.pth')\n",
    "    for layer_name in weights_1.keys():\n",
    "        w = weights_2[layer_name]\n",
    "        w_t = weights_1[layer_name] \n",
    "        print(calculate_emd_distance(w, w_t).to('cuda')) \n",
    "FedCan()"
   ]
  }
 ],
 "metadata": {
  "hide_input": false,
  "kernelspec": {
   "display_name": "Python 3",
   "language": "python",
   "name": "python3"
  },
  "language_info": {
   "codemirror_mode": {
    "name": "ipython",
    "version": 3
   },
   "file_extension": ".py",
   "mimetype": "text/x-python",
   "name": "python",
   "nbconvert_exporter": "python",
   "pygments_lexer": "ipython3",
   "version": "3.7.6"
  },
  "latex_envs": {
   "LaTeX_envs_menu_present": true,
   "autoclose": false,
   "autocomplete": true,
   "bibliofile": "biblio.bib",
   "cite_by": "apalike",
   "current_citInitial": 1,
   "eqLabelWithNumbers": true,
   "eqNumInitial": 1,
   "hotkeys": {
    "equation": "Ctrl-E",
    "itemize": "Ctrl-I"
   },
   "labels_anchors": false,
   "latex_user_defs": false,
   "report_style_numbering": false,
   "user_envs_cfg": false
  },
  "toc": {
   "base_numbering": 1,
   "nav_menu": {},
   "number_sections": true,
   "sideBar": true,
   "skip_h1_title": false,
   "title_cell": "Table of Contents",
   "title_sidebar": "Contents",
   "toc_cell": false,
   "toc_position": {
    "height": "calc(100% - 180px)",
    "left": "10px",
    "top": "150px",
    "width": "165px"
   },
   "toc_section_display": true,
   "toc_window_display": true
  }
 },
 "nbformat": 4,
 "nbformat_minor": 5
}
