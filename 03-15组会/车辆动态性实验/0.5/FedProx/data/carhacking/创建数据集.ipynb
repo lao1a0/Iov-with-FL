{
 "cells": [
  {
   "cell_type": "markdown",
   "id": "9c833d60",
   "metadata": {},
   "source": [
    "这里的数据集 car_X.csv 的都是病态数据集，pre_的是病态+FedCan的处理"
   ]
  },
  {
   "cell_type": "code",
   "execution_count": 52,
   "id": "9b31faa7",
   "metadata": {
    "ExecuteTime": {
     "end_time": "2024-03-20T02:59:55.751475Z",
     "start_time": "2024-03-20T02:59:47.010835Z"
    }
   },
   "outputs": [
    {
     "data": {
      "text/plain": [
       "0    11392949\n",
       "1      654897\n",
       "2      597252\n",
       "3      587521\n",
       "4      491847\n",
       "Name: Label, dtype: int64"
      ]
     },
     "execution_count": 52,
     "metadata": {},
     "output_type": "execute_result"
    }
   ],
   "source": [
    "import pandas as pd\n",
    "\n",
    "df=pd.read_csv(\"/home/raoxy/data/Car_Hacking_100.csv\")\n",
    "numeric_features=['DATA[0]', 'DATA[1]', 'DATA[2]', 'DATA[3]', 'DATA[4]', 'DATA[5]', 'DATA[6]', 'DATA[7]']\n",
    "\n",
    "# 定义替换规则，将字符串映射为数字\n",
    "replacement_dict = {\n",
    "    'R': 0,\n",
    "    'RPM': 1,\n",
    "    'gear': 2,\n",
    "    'DoS': 3,\n",
    "    'Fuzzy': 4\n",
    "}\n",
    "\n",
    "# 使用 .replace() 方法替换最后一列的值\n",
    "df['Label'] = df['Label'].replace(replacement_dict)\n",
    "df.Label.value_counts()"
   ]
  },
  {
   "cell_type": "code",
   "execution_count": 53,
   "id": "9877b8cd",
   "metadata": {
    "ExecuteTime": {
     "end_time": "2024-03-20T03:00:00.431925Z",
     "start_time": "2024-03-20T02:59:55.752798Z"
    }
   },
   "outputs": [],
   "source": [
    "def shuffle_dataframe(df):\n",
    "    # 打乱DataFrame的行\n",
    "    shuffled_df = df.sample(frac=1).reset_index(drop=True)\n",
    "    return shuffled_df\n",
    "df=shuffle_dataframe(df).iloc[:, 1:]"
   ]
  },
  {
   "cell_type": "code",
   "execution_count": 54,
   "id": "e76357a2",
   "metadata": {
    "ExecuteTime": {
     "end_time": "2024-03-20T03:00:00.437290Z",
     "start_time": "2024-03-20T03:00:00.433818Z"
    }
   },
   "outputs": [
    {
     "data": {
      "text/plain": [
       "914965"
      ]
     },
     "execution_count": 54,
     "metadata": {},
     "output_type": "execute_result"
    }
   ],
   "source": [
    "import pandas as pd\n",
    "from math import ceil\n",
    "\n",
    "overlap=2\n",
    "num_splits=15\n",
    "split_size = ceil(len(df) / num_splits)\n",
    "split_dfs = []\n",
    "split_size"
   ]
  },
  {
   "cell_type": "code",
   "execution_count": 55,
   "id": "bcdb4f45",
   "metadata": {
    "ExecuteTime": {
     "end_time": "2024-03-20T03:00:42.852991Z",
     "start_time": "2024-03-20T03:00:26.646433Z"
    }
   },
   "outputs": [],
   "source": [
    "for i in range(num_splits):\n",
    "    start_idx = i * split_size\n",
    "    end_idx = start_idx + split_size\n",
    "\n",
    "    if i > 0:\n",
    "        start_idx = max(0, start_idx - overlap)\n",
    "    end_idx = min(len(df), end_idx)\n",
    "\n",
    "    split_dfs.append(df.iloc[start_idx:end_idx])\n",
    "    split_dfs[i].to_csv(f'car_{i+1}.csv', index=False)"
   ]
  },
  {
   "cell_type": "code",
   "execution_count": 119,
   "id": "de3c946e",
   "metadata": {
    "ExecuteTime": {
     "end_time": "2024-03-21T08:30:24.952344Z",
     "start_time": "2024-03-21T08:30:24.678412Z"
    }
   },
   "outputs": [
    {
     "data": {
      "text/plain": [
       "0    759582\n",
       "2     39806\n",
       "4     32979\n",
       "Name: Label, dtype: int64"
      ]
     },
     "execution_count": 119,
     "metadata": {},
     "output_type": "execute_result"
    }
   ],
   "source": [
    "import pandas as pd\n",
    "\n",
    "name=\"car_9.csv\"\n",
    "df=pd.read_csv(name)\n",
    "df.Label.value_counts()"
   ]
  },
  {
   "cell_type": "code",
   "execution_count": 116,
   "id": "5fac1135",
   "metadata": {
    "ExecuteTime": {
     "end_time": "2024-03-20T03:04:48.174102Z",
     "start_time": "2024-03-20T03:04:48.137207Z"
    }
   },
   "outputs": [
    {
     "data": {
      "text/html": [
       "<div>\n",
       "<style scoped>\n",
       "    .dataframe tbody tr th:only-of-type {\n",
       "        vertical-align: middle;\n",
       "    }\n",
       "\n",
       "    .dataframe tbody tr th {\n",
       "        vertical-align: top;\n",
       "    }\n",
       "\n",
       "    .dataframe thead th {\n",
       "        text-align: right;\n",
       "    }\n",
       "</style>\n",
       "<table border=\"1\" class=\"dataframe\">\n",
       "  <thead>\n",
       "    <tr style=\"text-align: right;\">\n",
       "      <th></th>\n",
       "      <th>DATA[0]</th>\n",
       "      <th>DATA[1]</th>\n",
       "      <th>DATA[2]</th>\n",
       "      <th>DATA[3]</th>\n",
       "      <th>DATA[4]</th>\n",
       "      <th>DATA[5]</th>\n",
       "      <th>DATA[6]</th>\n",
       "      <th>DATA[7]</th>\n",
       "      <th>Label</th>\n",
       "    </tr>\n",
       "  </thead>\n",
       "  <tbody>\n",
       "    <tr>\n",
       "      <th>0</th>\n",
       "      <td>247</td>\n",
       "      <td>127</td>\n",
       "      <td>0</td>\n",
       "      <td>0</td>\n",
       "      <td>26</td>\n",
       "      <td>127</td>\n",
       "      <td>2</td>\n",
       "      <td>33</td>\n",
       "      <td>0</td>\n",
       "    </tr>\n",
       "    <tr>\n",
       "      <th>1</th>\n",
       "      <td>255</td>\n",
       "      <td>0</td>\n",
       "      <td>0</td>\n",
       "      <td>0</td>\n",
       "      <td>255</td>\n",
       "      <td>125</td>\n",
       "      <td>9</td>\n",
       "      <td>0</td>\n",
       "      <td>0</td>\n",
       "    </tr>\n",
       "    <tr>\n",
       "      <th>2</th>\n",
       "      <td>25</td>\n",
       "      <td>35</td>\n",
       "      <td>35</td>\n",
       "      <td>48</td>\n",
       "      <td>8</td>\n",
       "      <td>142</td>\n",
       "      <td>124</td>\n",
       "      <td>23</td>\n",
       "      <td>0</td>\n",
       "    </tr>\n",
       "    <tr>\n",
       "      <th>3</th>\n",
       "      <td>64</td>\n",
       "      <td>0</td>\n",
       "      <td>151</td>\n",
       "      <td>29</td>\n",
       "      <td>151</td>\n",
       "      <td>2</td>\n",
       "      <td>189</td>\n",
       "      <td>0</td>\n",
       "      <td>0</td>\n",
       "    </tr>\n",
       "    <tr>\n",
       "      <th>4</th>\n",
       "      <td>5</td>\n",
       "      <td>32</td>\n",
       "      <td>68</td>\n",
       "      <td>104</td>\n",
       "      <td>121</td>\n",
       "      <td>0</td>\n",
       "      <td>0</td>\n",
       "      <td>112</td>\n",
       "      <td>0</td>\n",
       "    </tr>\n",
       "    <tr>\n",
       "      <th>...</th>\n",
       "      <td>...</td>\n",
       "      <td>...</td>\n",
       "      <td>...</td>\n",
       "      <td>...</td>\n",
       "      <td>...</td>\n",
       "      <td>...</td>\n",
       "      <td>...</td>\n",
       "      <td>...</td>\n",
       "      <td>...</td>\n",
       "    </tr>\n",
       "    <tr>\n",
       "      <th>875883</th>\n",
       "      <td>1</td>\n",
       "      <td>69</td>\n",
       "      <td>96</td>\n",
       "      <td>255</td>\n",
       "      <td>107</td>\n",
       "      <td>0</td>\n",
       "      <td>0</td>\n",
       "      <td>0</td>\n",
       "      <td>2</td>\n",
       "    </tr>\n",
       "    <tr>\n",
       "      <th>875884</th>\n",
       "      <td>1</td>\n",
       "      <td>69</td>\n",
       "      <td>96</td>\n",
       "      <td>255</td>\n",
       "      <td>107</td>\n",
       "      <td>0</td>\n",
       "      <td>0</td>\n",
       "      <td>0</td>\n",
       "      <td>2</td>\n",
       "    </tr>\n",
       "    <tr>\n",
       "      <th>875885</th>\n",
       "      <td>254</td>\n",
       "      <td>80</td>\n",
       "      <td>0</td>\n",
       "      <td>0</td>\n",
       "      <td>0</td>\n",
       "      <td>60</td>\n",
       "      <td>0</td>\n",
       "      <td>0</td>\n",
       "      <td>0</td>\n",
       "    </tr>\n",
       "    <tr>\n",
       "      <th>875886</th>\n",
       "      <td>0</td>\n",
       "      <td>0</td>\n",
       "      <td>0</td>\n",
       "      <td>0</td>\n",
       "      <td>0</td>\n",
       "      <td>0</td>\n",
       "      <td>2</td>\n",
       "      <td>48</td>\n",
       "      <td>0</td>\n",
       "    </tr>\n",
       "    <tr>\n",
       "      <th>875887</th>\n",
       "      <td>216</td>\n",
       "      <td>85</td>\n",
       "      <td>0</td>\n",
       "      <td>140</td>\n",
       "      <td>0</td>\n",
       "      <td>0</td>\n",
       "      <td>0</td>\n",
       "      <td>0</td>\n",
       "      <td>0</td>\n",
       "    </tr>\n",
       "  </tbody>\n",
       "</table>\n",
       "<p>832367 rows × 9 columns</p>\n",
       "</div>"
      ],
      "text/plain": [
       "        DATA[0]  DATA[1]  DATA[2]  DATA[3]  DATA[4]  DATA[5]  DATA[6]  \\\n",
       "0           247      127        0        0       26      127        2   \n",
       "1           255        0        0        0      255      125        9   \n",
       "2            25       35       35       48        8      142      124   \n",
       "3            64        0      151       29      151        2      189   \n",
       "4             5       32       68      104      121        0        0   \n",
       "...         ...      ...      ...      ...      ...      ...      ...   \n",
       "875883        1       69       96      255      107        0        0   \n",
       "875884        1       69       96      255      107        0        0   \n",
       "875885      254       80        0        0        0       60        0   \n",
       "875886        0        0        0        0        0        0        2   \n",
       "875887      216       85        0      140        0        0        0   \n",
       "\n",
       "        DATA[7]  Label  \n",
       "0            33      0  \n",
       "1             0      0  \n",
       "2            23      0  \n",
       "3             0      0  \n",
       "4           112      0  \n",
       "...         ...    ...  \n",
       "875883        0      2  \n",
       "875884        0      2  \n",
       "875885        0      0  \n",
       "875886       48      0  \n",
       "875887        0      0  \n",
       "\n",
       "[832367 rows x 9 columns]"
      ]
     },
     "execution_count": 116,
     "metadata": {},
     "output_type": "execute_result"
    }
   ],
   "source": [
    "# 过滤掉标签列值为“gear”的行\n",
    "df_filtered = df[df[\"Label\"] !=1]\n",
    "df_filtered"
   ]
  },
  {
   "cell_type": "code",
   "execution_count": 117,
   "id": "8a82c922",
   "metadata": {
    "ExecuteTime": {
     "end_time": "2024-03-20T03:04:48.749760Z",
     "start_time": "2024-03-20T03:04:48.741706Z"
    }
   },
   "outputs": [
    {
     "data": {
      "text/plain": [
       "0    759582\n",
       "2     39806\n",
       "4     32979\n",
       "Name: Label, dtype: int64"
      ]
     },
     "execution_count": 117,
     "metadata": {},
     "output_type": "execute_result"
    }
   ],
   "source": [
    "df_filtered.Label.value_counts()"
   ]
  },
  {
   "cell_type": "code",
   "execution_count": 118,
   "id": "853de2da",
   "metadata": {
    "ExecuteTime": {
     "end_time": "2024-03-20T03:04:50.559296Z",
     "start_time": "2024-03-20T03:04:49.562522Z"
    }
   },
   "outputs": [],
   "source": [
    "df_filtered.to_csv(name, index=False)"
   ]
  }
 ],
 "metadata": {
  "hide_input": false,
  "kernelspec": {
   "display_name": "Python 3 (ipykernel)",
   "language": "python",
   "name": "python3"
  },
  "language_info": {
   "codemirror_mode": {
    "name": "ipython",
    "version": 3
   },
   "file_extension": ".py",
   "mimetype": "text/x-python",
   "name": "python",
   "nbconvert_exporter": "python",
   "pygments_lexer": "ipython3",
   "version": "3.9.13"
  },
  "latex_envs": {
   "LaTeX_envs_menu_present": true,
   "autoclose": false,
   "autocomplete": true,
   "bibliofile": "biblio.bib",
   "cite_by": "apalike",
   "current_citInitial": 1,
   "eqLabelWithNumbers": true,
   "eqNumInitial": 1,
   "hotkeys": {
    "equation": "Ctrl-E",
    "itemize": "Ctrl-I"
   },
   "labels_anchors": false,
   "latex_user_defs": false,
   "report_style_numbering": false,
   "user_envs_cfg": false
  },
  "toc": {
   "base_numbering": 1,
   "nav_menu": {},
   "number_sections": true,
   "sideBar": true,
   "skip_h1_title": false,
   "title_cell": "Table of Contents",
   "title_sidebar": "Contents",
   "toc_cell": false,
   "toc_position": {},
   "toc_section_display": true,
   "toc_window_display": false
  }
 },
 "nbformat": 4,
 "nbformat_minor": 5
}
