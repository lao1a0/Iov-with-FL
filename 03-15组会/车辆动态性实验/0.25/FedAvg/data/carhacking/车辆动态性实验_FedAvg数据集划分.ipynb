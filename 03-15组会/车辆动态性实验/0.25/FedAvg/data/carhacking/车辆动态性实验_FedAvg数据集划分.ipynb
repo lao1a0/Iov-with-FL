{
 "cells": [
  {
   "cell_type": "code",
   "execution_count": 36,
   "id": "9b31faa7",
   "metadata": {
    "ExecuteTime": {
     "end_time": "2024-03-21T09:04:43.852399Z",
     "start_time": "2024-03-21T09:04:34.809322Z"
    }
   },
   "outputs": [
    {
     "data": {
      "text/plain": [
       "0    11392949\n",
       "1      654897\n",
       "2      597252\n",
       "3      587521\n",
       "4      491847\n",
       "Name: Label, dtype: int64"
      ]
     },
     "execution_count": 36,
     "metadata": {},
     "output_type": "execute_result"
    }
   ],
   "source": [
    "import pandas as pd\n",
    "\n",
    "df=pd.read_csv(\"/home/raoxy/data/Car_Hacking_100.csv\")\n",
    "numeric_features=['DATA[0]', 'DATA[1]', 'DATA[2]', 'DATA[3]', 'DATA[4]', 'DATA[5]', 'DATA[6]', 'DATA[7]']\n",
    "\n",
    "# 定义替换规则，将字符串映射为数字\n",
    "replacement_dict = {\n",
    "    'R': 0,\n",
    "    'RPM': 1,\n",
    "    'gear': 2,\n",
    "    'DoS': 3,\n",
    "    'Fuzzy': 4\n",
    "}\n",
    "\n",
    "# 使用 .replace() 方法替换最后一列的值\n",
    "df['Label'] = df['Label'].replace(replacement_dict)\n",
    "df.Label.value_counts()"
   ]
  },
  {
   "cell_type": "code",
   "execution_count": 37,
   "id": "9877b8cd",
   "metadata": {
    "ExecuteTime": {
     "end_time": "2024-03-21T09:04:48.566758Z",
     "start_time": "2024-03-21T09:04:43.854282Z"
    }
   },
   "outputs": [],
   "source": [
    "def shuffle_dataframe(df):\n",
    "    # 打乱DataFrame的行\n",
    "    shuffled_df = df.sample(frac=1).reset_index(drop=True)\n",
    "    return shuffled_df\n",
    "df=shuffle_dataframe(df).iloc[:, 1:]"
   ]
  },
  {
   "cell_type": "code",
   "execution_count": 38,
   "id": "e76357a2",
   "metadata": {
    "ExecuteTime": {
     "end_time": "2024-03-21T09:04:48.576666Z",
     "start_time": "2024-03-21T09:04:48.569677Z"
    }
   },
   "outputs": [
    {
     "data": {
      "text/plain": [
       "914965"
      ]
     },
     "execution_count": 38,
     "metadata": {},
     "output_type": "execute_result"
    }
   ],
   "source": [
    "import pandas as pd\n",
    "from math import ceil\n",
    "\n",
    "overlap=2\n",
    "num_splits=15\n",
    "split_size = ceil(len(df) / num_splits)\n",
    "split_dfs = []\n",
    "split_size"
   ]
  },
  {
   "cell_type": "code",
   "execution_count": 40,
   "id": "bcdb4f45",
   "metadata": {
    "ExecuteTime": {
     "end_time": "2024-03-21T09:05:37.254589Z",
     "start_time": "2024-03-21T09:05:20.740996Z"
    }
   },
   "outputs": [],
   "source": [
    "for i in range(num_splits):\n",
    "    start_idx = i * split_size\n",
    "    end_idx = start_idx + split_size\n",
    "\n",
    "    if i > 0:\n",
    "        start_idx = max(0, start_idx - overlap)\n",
    "    end_idx = min(len(df), end_idx)\n",
    "\n",
    "    split_dfs.append(df.iloc[start_idx:end_idx])\n",
    "    split_dfs[i].to_csv(f'/home/raoxy/data/carhacking_csv/car_{i+1}.csv', index=False)"
   ]
  }
 ],
 "metadata": {
  "hide_input": false,
  "kernelspec": {
   "display_name": "Python 3 (ipykernel)",
   "language": "python",
   "name": "python3"
  },
  "language_info": {
   "codemirror_mode": {
    "name": "ipython",
    "version": 3
   },
   "file_extension": ".py",
   "mimetype": "text/x-python",
   "name": "python",
   "nbconvert_exporter": "python",
   "pygments_lexer": "ipython3",
   "version": "3.9.13"
  },
  "latex_envs": {
   "LaTeX_envs_menu_present": true,
   "autoclose": false,
   "autocomplete": true,
   "bibliofile": "biblio.bib",
   "cite_by": "apalike",
   "current_citInitial": 1,
   "eqLabelWithNumbers": true,
   "eqNumInitial": 1,
   "hotkeys": {
    "equation": "Ctrl-E",
    "itemize": "Ctrl-I"
   },
   "labels_anchors": false,
   "latex_user_defs": false,
   "report_style_numbering": false,
   "user_envs_cfg": false
  },
  "toc": {
   "base_numbering": 1,
   "nav_menu": {},
   "number_sections": true,
   "sideBar": true,
   "skip_h1_title": false,
   "title_cell": "Table of Contents",
   "title_sidebar": "Contents",
   "toc_cell": false,
   "toc_position": {},
   "toc_section_display": true,
   "toc_window_display": false
  }
 },
 "nbformat": 4,
 "nbformat_minor": 5
}
