{
 "cells": [
  {
   "cell_type": "markdown",
   "id": "5e82e70d",
   "metadata": {
    "hide_input": false
   },
   "source": [
    "运行的环境叫做pysyft，环境安装教程\n",
    "\n",
    "```python\n",
    "conda create -n pysyft python=3.7\n",
    "conda activate pysyft\n",
    "conda install pytorch==1.4.0 torchvision==0.5.0\n",
    "\n",
    "# 方法二：\n",
    "pip install -i https://pypi.tuna.tsinghua.edu.cn/simple --trusted-host pypi.tuna.tsinghua.edu.cn torch==1.4.0 torchvision==0.5.0\n",
    "pip install syft==0.2.4 --no-dependencies\n",
    "pip install lz4~=3.0.2 msgpack~=1.0.0 phe~=1.4.0 scipy~=1.4.1 syft-proto~=0.2.5.a1 tblib~=1.6.0 websocket-client~=0.57.0 pip install websockets~=8.1.0 zstd~=1.4.4.0 Flask~=1.1.1 tornado==4.5.3 flask-socketio~=4.2.1 lz4~=3.0.2 Pillow~=6.2.2 pip install requests~=2.22.0 numpy~=1.18.1\n",
    "pip install protobuf==3.19.0\n",
    "\n",
    "python -c \"import syft,torch\"\n",
    "conda install ipykernel\n",
    "```\n"
   ]
  },
  {
   "cell_type": "code",
   "execution_count": 36,
   "id": "024c5a0f",
   "metadata": {},
   "outputs": [],
   "source": [
    "#!/usr/bin/env py\n",
    "import torchvision\n",
    "from torch.utils.data import DataLoader, random_split\n",
    "import torch\n",
    "import syft as sy\n",
    "import torch.nn as nn\n",
    "import torch.nn.functional as F\n",
    "import torch.optim as optim\n",
    "import time\n",
    "import xlwt\n",
    "\n",
    "# device = torch.device('cuda' if torch.cuda.is_available() else 'cpu')\n",
    "device = 'cpu'"
   ]
  },
  {
   "cell_type": "markdown",
   "id": "ee242ce8",
   "metadata": {},
   "source": [
    "# 定义超参数"
   ]
  },
  {
   "cell_type": "code",
   "execution_count": 37,
   "id": "9b7c5f94",
   "metadata": {},
   "outputs": [],
   "source": [
    "class Arguments():\n",
    "    def __init__(self):\n",
    "        self.batch_size = 32\n",
    "        self.epochs = 50\n",
    "        self.lr = 0.02\n",
    "        self.num_class = 5\n",
    "        self.save_name = 'yeo_cnn_lr0.01_epochs50'\n",
    "        # self.data_train='../data/train_yeo_224/'\n",
    "        # self.data_test='../data/test_yeo_224/'\n",
    "        self.data_train = '/home/raoxy/data/train_yeo'\n",
    "        self.data_test = '/home/raoxy/data/test_yeo'\n",
    "\n",
    "\n",
    "args = Arguments()"
   ]
  },
  {
   "cell_type": "markdown",
   "id": "0440f634",
   "metadata": {},
   "source": [
    "# 定义参与者"
   ]
  },
  {
   "cell_type": "code",
   "execution_count": 38,
   "id": "6cc52a09",
   "metadata": {},
   "outputs": [
    {
     "name": "stderr",
     "output_type": "stream",
     "text": [
      "WARNING:root:Torch was already hooked... skipping hooking process\n"
     ]
    }
   ],
   "source": [
    "hook = sy.TorchHook(torch)\n",
    "bob = sy.VirtualWorker(hook, id=\"bob\")\n",
    "alice = sy.VirtualWorker(hook, id=\"alice\")"
   ]
  },
  {
   "cell_type": "code",
   "execution_count": 39,
   "id": "7dbfaa90",
   "metadata": {
    "scrolled": true
   },
   "outputs": [],
   "source": [
    "federated_train_loader = sy.FederatedDataLoader(\n",
    "    torchvision.datasets.ImageFolder(root=args.data_train,\n",
    "                                     transform=torchvision.transforms.ToTensor()).federate((bob, alice)),\n",
    "    batch_size=args.batch_size,\n",
    "    shuffle=True)"
   ]
  },
  {
   "cell_type": "code",
   "execution_count": 40,
   "id": "00c8b7f7",
   "metadata": {},
   "outputs": [],
   "source": [
    "federated_test_loader = DataLoader(\n",
    "    torchvision.datasets.ImageFolder(root=args.data_test,\n",
    "                                     transform=torchvision.transforms.ToTensor()),\n",
    "    batch_size=args.batch_size,\n",
    "    num_workers=0,\n",
    "    shuffle=False)"
   ]
  },
  {
   "cell_type": "markdown",
   "id": "5560ff89",
   "metadata": {},
   "source": [
    "# 定义训练模型"
   ]
  },
  {
   "cell_type": "code",
   "execution_count": 41,
   "id": "8f8dec00",
   "metadata": {},
   "outputs": [],
   "source": [
    "# class CNN(nn.Module):\n",
    "#     def __init__(self, num_class):\n",
    "#         super(CNN, self).__init__()\n",
    "#         self.conv1 = nn.Conv2d(in_channels=3, out_channels=64, kernel_size=5)\n",
    "#         self.conv2 = nn.Conv2d(64, 32, 5, padding=1)  # 输入通道数为64，输出通道数为64，卷积核大小为3x3，步长为1，填充为1\n",
    "#         self.pool1 = nn.MaxPool2d(2)  # 最大池化层，池化核大小为2x2\n",
    "#         self.gap = nn.AdaptiveAvgPool2d(5)  # 全局平均池化层\n",
    "#         self.fc1 = nn.Linear(32, num_class)  # 全连接层 ，输入特征维度位256 ，输出特征维度位num_class\n",
    "#         self.relu = nn.ReLU()  # 激活函数\n",
    "#         self.dropout = nn.Dropout(p=0.5)  # 随机失活层\n",
    "#         self.softmax = nn.LogSoftmax(dim=1)\n",
    "#\n",
    "#     def forward(self, x):\n",
    "#         x = self.relu(self.conv1(x))\n",
    "#         x = self.gap(x)\n",
    "#         x = self.dropout(x)\n",
    "#         x = self.relu(self.conv2(x))\n",
    "#         x = self.pool1(x)\n",
    "#         x = x.view(x.shape[0], -1)  # torch.Size([128, 32])\n",
    "#         x = self.softmax(self.fc1(x))\n",
    "#         return x\n",
    "class CNN(nn.Module):\n",
    "    def __init__(self, num_class):\n",
    "        super(CNN, self).__init__()\n",
    "        self.block1 = nn.Sequential(\n",
    "            nn.Conv2d(in_channels=3, out_channels=64, kernel_size=5),\n",
    "            nn.ReLU(),\n",
    "            nn.AdaptiveAvgPool2d(5),\n",
    "            nn.Dropout(p=0.5)\n",
    "\n",
    "        )\n",
    "        self.block2 = nn.Sequential(\n",
    "            nn.Conv2d(64, 32, 5, padding=1),\n",
    "            nn.ReLU(),\n",
    "            nn.MaxPool2d(2),\n",
    "        )\n",
    "        self.block3 = nn.Sequential(\n",
    "            nn.Linear(32, num_class),\n",
    "            nn.LogSoftmax(dim=1)\n",
    "        )\n",
    "\n",
    "    def forward(self, x):\n",
    "        x = self.block1(x)\n",
    "        x = self.block2(x)\n",
    "        x = x.view(x.shape[0], -1)  # torch.Size([128, 32])\n",
    "        x = self.block3(x)\n",
    "        return x"
   ]
  },
  {
   "cell_type": "markdown",
   "id": "f159965b",
   "metadata": {},
   "source": [
    "# 定义训练函数和测试函数"
   ]
  },
  {
   "cell_type": "code",
   "execution_count": 42,
   "id": "5fb7bb12",
   "metadata": {},
   "outputs": [],
   "source": [
    "def train(model, device, federated_train_loader, optimizer):\n",
    "    model.train()\n",
    "    correct = 0\n",
    "    sample_num = 0\n",
    "    total_loss = 0\n",
    "    train_batch_num = len(federated_train_loader)\n",
    "\n",
    "    for idx, (data, target) in enumerate(federated_train_loader):\n",
    "        model.send(data.location)\n",
    "        data, target = data.to(device), target.to(device)\n",
    "        optimizer.zero_grad()\n",
    "        output = model(data)\n",
    "        loss = F.cross_entropy(output, target.long())\n",
    "        loss.backward()\n",
    "        optimizer.step()\n",
    "        model.get()\n",
    "\n",
    "        total_loss += loss.get().data\n",
    "        pred = output.argmax(1, keepdim=True)\n",
    "        correct += pred.eq(target.view_as(pred)).sum().get()\n",
    "        sample_num += len(pred)\n",
    "\n",
    "    return total_loss / train_batch_num, correct.cpu().item() / sample_num"
   ]
  },
  {
   "cell_type": "code",
   "execution_count": 43,
   "id": "6eb7faaa",
   "metadata": {},
   "outputs": [],
   "source": [
    "def test(model, device, federated_test_loader):\n",
    "    model.eval()\n",
    "    correct = 0\n",
    "    total_loss = 0\n",
    "    sample_num = 0\n",
    "    test_batch_num = len(federated_test_loader)\n",
    "\n",
    "    with torch.no_grad():\n",
    "        for batch_idx, (data, target) in enumerate(federated_test_loader):\n",
    "            data, target = data.to(device), target.to(device)\n",
    "            output = model(data)\n",
    "\n",
    "            loss = F.cross_entropy(output, target.long())\n",
    "            total_loss += loss.data\n",
    "\n",
    "            pred = output.argmax(1, keepdim=True)\n",
    "            correct += pred.eq(target.view_as(pred)).sum()\n",
    "            sample_num += len(pred)\n",
    "\n",
    "    return total_loss.cpu() / test_batch_num, correct.cpu().item() / sample_num"
   ]
  },
  {
   "cell_type": "markdown",
   "id": "cab1250d",
   "metadata": {},
   "source": [
    "# 模型训练"
   ]
  },
  {
   "cell_type": "code",
   "execution_count": 44,
   "id": "a7baf8ef",
   "metadata": {},
   "outputs": [
    {
     "name": "stdout",
     "output_type": "stream",
     "text": [
      "epoch 1, train_loss 0.055314,test_loss 3.127718,train_acc 0.990948,test_acc 0.598577,time cost 172.316810\n",
      "epoch 2, train_loss 0.008652,test_loss 1.459635,train_acc 0.998842,test_acc 0.798918,time cost 168.841773\n",
      "epoch 3, train_loss 0.007133,test_loss 1.308818,train_acc 0.999260,test_acc 0.798918,time cost 165.686864\n",
      "epoch 4, train_loss 0.005934,test_loss 1.219456,train_acc 0.999203,test_acc 0.798918,time cost 197.987787\n",
      "epoch 5, train_loss 0.004928,test_loss 1.165748,train_acc 0.999165,test_acc 0.798918,time cost 222.740784\n",
      "epoch 6, train_loss 0.003786,test_loss 1.093746,train_acc 0.999336,test_acc 0.798918,time cost 217.180035\n",
      "epoch 7, train_loss 0.004267,test_loss 1.046033,train_acc 0.999222,test_acc 0.798918,time cost 222.918183\n",
      "epoch 8, train_loss 0.004165,test_loss 0.978017,train_acc 0.999450,test_acc 0.798918,time cost 219.429112\n",
      "epoch 9, train_loss 0.003560,test_loss 0.905285,train_acc 0.999374,test_acc 0.798918,time cost 214.658642\n",
      "epoch 10, train_loss 0.002956,test_loss 0.821139,train_acc 0.999488,test_acc 0.798918,time cost 221.246299\n",
      "epoch 11, train_loss 0.002430,test_loss 0.743098,train_acc 0.999564,test_acc 0.798918,time cost 219.299301\n",
      "epoch 12, train_loss 0.002697,test_loss 0.665902,train_acc 0.999450,test_acc 0.798918,time cost 219.664815\n",
      "epoch 13, train_loss 0.002037,test_loss 0.584412,train_acc 0.999526,test_acc 0.798918,time cost 227.274694\n",
      "epoch 14, train_loss 0.002383,test_loss 0.525121,train_acc 0.999393,test_acc 0.798918,time cost 222.277691\n",
      "epoch 15, train_loss 0.002016,test_loss 0.445587,train_acc 0.999488,test_acc 0.798918,time cost 229.503448\n",
      "epoch 16, train_loss 0.001401,test_loss 0.381085,train_acc 0.999564,test_acc 0.798918,time cost 213.778864\n",
      "epoch 17, train_loss 0.001348,test_loss 0.316020,train_acc 0.999601,test_acc 0.802106,time cost 218.545821\n",
      "epoch 18, train_loss 0.000952,test_loss 0.246906,train_acc 0.999715,test_acc 0.823570,time cost 215.805790\n",
      "epoch 19, train_loss 0.000886,test_loss 0.200186,train_acc 0.999753,test_acc 0.866382,time cost 214.617552\n",
      "epoch 20, train_loss 0.000828,test_loss 0.147664,train_acc 0.999772,test_acc 0.915855,time cost 222.671122\n",
      "epoch 21, train_loss 0.000568,test_loss 0.122401,train_acc 0.999924,test_acc 0.923769,time cost 219.060052\n",
      "epoch 22, train_loss 0.000660,test_loss 0.079478,train_acc 0.999848,test_acc 0.978537,time cost 217.565855\n",
      "epoch 23, train_loss 0.000589,test_loss 0.065970,train_acc 0.999791,test_acc 0.990492,time cost 220.459119\n",
      "epoch 24, train_loss 0.000460,test_loss 0.050634,train_acc 0.999848,test_acc 0.994250,time cost 220.691867\n",
      "epoch 25, train_loss 0.000513,test_loss 0.036463,train_acc 0.999848,test_acc 0.996356,time cost 216.499065\n",
      "epoch 26, train_loss 0.000416,test_loss 0.044591,train_acc 0.999905,test_acc 0.995104,time cost 219.620457\n",
      "epoch 27, train_loss 0.000412,test_loss 0.040194,train_acc 0.999886,test_acc 0.995787,time cost 221.733502\n",
      "epoch 28, train_loss 0.000354,test_loss 0.020978,train_acc 0.999924,test_acc 0.998406,time cost 226.963434\n",
      "epoch 29, train_loss 0.000317,test_loss 0.021588,train_acc 0.999943,test_acc 0.997950,time cost 216.897125\n",
      "epoch 30, train_loss 0.000334,test_loss 0.010913,train_acc 0.999924,test_acc 0.999260,time cost 219.806320\n",
      "epoch 31, train_loss 0.000324,test_loss 0.009308,train_acc 0.999962,test_acc 0.999374,time cost 215.927682\n",
      "epoch 32, train_loss 0.000278,test_loss 0.008640,train_acc 0.999962,test_acc 0.999431,time cost 222.006463\n",
      "epoch 33, train_loss 0.000269,test_loss 0.008642,train_acc 0.999962,test_acc 0.999374,time cost 222.234393\n",
      "epoch 34, train_loss 0.000258,test_loss 0.005839,train_acc 0.999962,test_acc 0.999658,time cost 219.307785\n",
      "epoch 35, train_loss 0.000233,test_loss 0.007284,train_acc 0.999943,test_acc 0.999488,time cost 227.737272\n",
      "epoch 36, train_loss 0.000260,test_loss 0.004729,train_acc 0.999943,test_acc 0.999658,time cost 215.906545\n",
      "epoch 37, train_loss 0.000279,test_loss 0.012271,train_acc 0.999943,test_acc 0.998577,time cost 220.822767\n",
      "epoch 38, train_loss 0.000236,test_loss 0.003598,train_acc 0.999943,test_acc 0.999715,time cost 210.080291\n",
      "epoch 39, train_loss 0.000185,test_loss 0.002855,train_acc 1.000000,test_acc 0.999772,time cost 213.671272\n",
      "epoch 40, train_loss 0.000213,test_loss 0.002615,train_acc 0.999962,test_acc 0.999772,time cost 222.410043\n",
      "epoch 41, train_loss 0.000167,test_loss 0.001446,train_acc 1.000000,test_acc 0.999772,time cost 210.764423\n",
      "epoch 42, train_loss 0.000201,test_loss 0.003661,train_acc 0.999924,test_acc 0.999715,time cost 213.648855\n",
      "epoch 43, train_loss 0.000234,test_loss 0.001824,train_acc 0.999962,test_acc 0.999772,time cost 217.740145\n",
      "epoch 44, train_loss 0.000176,test_loss 0.001478,train_acc 0.999981,test_acc 0.999772,time cost 216.052587\n",
      "epoch 45, train_loss 0.000144,test_loss 0.000970,train_acc 0.999981,test_acc 0.999829,time cost 208.864992\n",
      "epoch 46, train_loss 0.000162,test_loss 0.001195,train_acc 0.999981,test_acc 0.999772,time cost 192.760688\n",
      "epoch 47, train_loss 0.000226,test_loss 0.001185,train_acc 0.999962,test_acc 0.999772,time cost 196.590791\n",
      "epoch 48, train_loss 0.000135,test_loss 0.000647,train_acc 0.999981,test_acc 0.999943,time cost 202.833584\n",
      "epoch 49, train_loss 0.000127,test_loss 0.000729,train_acc 1.000000,test_acc 0.999886,time cost 197.541007\n",
      "epoch 50, train_loss 0.000133,test_loss 0.000552,train_acc 0.999981,test_acc 0.999943,time cost 204.354463\n"
     ]
    }
   ],
   "source": [
    "model = CNN(args.num_class).to(device)\n",
    "optims = optim.SGD(model.parameters(), lr=args.lr)\n",
    "\n",
    "train_loss_list = []\n",
    "train_acc_list = []\n",
    "test_loss_list = []\n",
    "test_acc_list = []\n",
    "time_list = []\n",
    "timestart = time.perf_counter()\n",
    "for epoch in range(1, args.epochs + 1):\n",
    "    epochstart = time.perf_counter()  # 每一个epoch的开始时间\n",
    "    train_loss, train_acc = train(model, device, federated_train_loader, optims)\n",
    "    elapsed = (time.perf_counter() - epochstart)  # 每一个epoch的结束时间 记录训练的耗时\n",
    "    test_loss, test_acc = test(model, device, federated_test_loader)\n",
    "    # 保存各个指际\n",
    "    train_loss_list.append(train_loss.cpu())\n",
    "    train_acc_list.append(train_acc)\n",
    "    test_loss_list.append(test_loss.cpu())\n",
    "    test_acc_list.append(test_acc)\n",
    "    time_list.append(elapsed)\n",
    "    print('epoch %d, train_loss %.6f,test_loss %.6f,train_acc %.6f,test_acc %.6f,time cost %.6f' % (\n",
    "        epoch, train_loss, test_loss,\n",
    "        train_acc, test_acc,elapsed))"
   ]
  },
  {
   "cell_type": "markdown",
   "id": "13f67c60",
   "metadata": {},
   "source": [
    "## 评价"
   ]
  },
  {
   "cell_type": "markdown",
   "id": "53c1dd45",
   "metadata": {},
   "source": [
    "- 模型在训练集上的表现非常好，准确率达到了100%，损失降到了0.0002以下。这说明您的模型能够很好地拟合训练数据，没有出现欠拟合的问题。\n",
    "- 您的模型在测试集上的表现也很不错，准确率从0.5986提升到了0.9998，损失从2.4648降到了0.0028。这说明您的模型能够很好地泛化到新的数据，没有出现过拟合的问题。\n",
    "- 您的模型的训练速度较快，每轮训练的平均时间消耗为139.7秒，总共花费了约1.5小时。这说明您的模型的复杂度适中，没有出现计算效率低下的问题。\n"
   ]
  },
  {
   "cell_type": "markdown",
   "id": "83bb0763",
   "metadata": {},
   "source": [
    "# 训练数据保存"
   ]
  },
  {
   "cell_type": "code",
   "execution_count": 45,
   "id": "307a239f",
   "metadata": {},
   "outputs": [
    {
     "name": "stdout",
     "output_type": "stream",
     "text": [
      "保存文件： /home/raoxy/model/yeo_cnn_lr0.01_epochs50.pt\n"
     ]
    }
   ],
   "source": [
    "torch.save(model.state_dict(), \"/home/raoxy/model/{}.pt\".format(args.save_name))\n",
    "print(\"保存文件：\",\"/home/raoxy/model/{}.pt\".format(args.save_name))"
   ]
  },
  {
   "cell_type": "code",
   "execution_count": 46,
   "id": "c1ff047a",
   "metadata": {},
   "outputs": [
    {
     "name": "stdout",
     "output_type": "stream",
     "text": [
      "保存文件： /home/raoxy/model/yeo_cnn_lr0.01_epochs50.h5\n"
     ]
    },
    {
     "name": "stderr",
     "output_type": "stream",
     "text": [
      "/home/raoxy/anaconda3/envs/pysyft/lib/python3.7/site-packages/torch/serialization.py:360: UserWarning: Couldn't retrieve source code for container of type CNN. It won't be checked for correctness upon loading.\n",
      "  \"type \" + obj.__name__ + \". It won't be checked \"\n"
     ]
    }
   ],
   "source": [
    "torch.save(model, \"/home/raoxy/model/{}.h5\".format(args.save_name))\n",
    "print(\"保存文件：\",\"/home/raoxy/model/{}.h5\".format(args.save_name))"
   ]
  },
  {
   "cell_type": "markdown",
   "id": "6c4021a5",
   "metadata": {},
   "source": [
    "## 创建workbook和sheet对象"
   ]
  },
  {
   "cell_type": "code",
   "execution_count": 47,
   "id": "9f19d5b4",
   "metadata": {},
   "outputs": [],
   "source": [
    "def _change(a):\n",
    "    b = []\n",
    "    for i in a:\n",
    "        b.append(float(i))\n",
    "    return b\n",
    "\n",
    "file_name = '/home/raoxy/file/{}.xlsx'.format(args.save_name)"
   ]
  },
  {
   "cell_type": "markdown",
   "id": "d1a11ed6",
   "metadata": {},
   "source": [
    "## 写入Excel标题"
   ]
  },
  {
   "cell_type": "code",
   "execution_count": 48,
   "id": "bef7ac01",
   "metadata": {},
   "outputs": [],
   "source": [
    "workboot = xlwt.Workbook(encoding='utf-8')\n",
    "worksheet = workboot.add_sheet('result')  # 设置工作表的名字"
   ]
  },
  {
   "cell_type": "code",
   "execution_count": 49,
   "id": "a216d0ea",
   "metadata": {},
   "outputs": [],
   "source": [
    "row0 = [\"Train loss\", \"Train acc\", \"Test loss\", 'Test acc', 'Time']\n",
    "for i in range(len(row0)):\n",
    "    worksheet.write(0, i, row0[i])"
   ]
  },
  {
   "cell_type": "code",
   "execution_count": 50,
   "id": "b35ed4c6",
   "metadata": {},
   "outputs": [],
   "source": [
    "test_loss_list = _change(test_loss_list)\n",
    "train_loss_list = _change(train_loss_list)\n",
    "train_acc_list = _change(train_acc_list)\n",
    "test_acc_list = _change(test_acc_list)\n",
    "time_list = _change(time_list)"
   ]
  },
  {
   "cell_type": "code",
   "execution_count": 51,
   "id": "6e59b445",
   "metadata": {},
   "outputs": [],
   "source": [
    "length = len(test_loss_list)"
   ]
  },
  {
   "cell_type": "code",
   "execution_count": 52,
   "id": "280a7ffa",
   "metadata": {},
   "outputs": [
    {
     "name": "stdout",
     "output_type": "stream",
     "text": [
      "保存文件： /home/raoxy/file/yeo_cnn_lr0.01_epochs50.xlsx\n"
     ]
    }
   ],
   "source": [
    "for i in range(1, length + 1):\n",
    "    worksheet.write(i, 0, train_loss_list[i - 1])\n",
    "    worksheet.write(i, 1, train_acc_list[i - 1])\n",
    "    worksheet.write(i, 2, test_loss_list[i - 1])\n",
    "    worksheet.write(i, 3, test_acc_list[i - 1])\n",
    "    worksheet.write(i, 4, time_list[i - 1])\n",
    "workboot.save(file_name)\n",
    "print(\"保存文件：\",file_name)"
   ]
  },
  {
   "cell_type": "code",
   "execution_count": 53,
   "id": "07d340de",
   "metadata": {},
   "outputs": [
    {
     "data": {
      "text/plain": "<Figure size 720x720 with 2 Axes>",
      "image/png": "[encoded data removed]"
     },
     "metadata": {
      "needs_background": "light"
     },
     "output_type": "display_data"
    }
   ],
   "source": [
    "import matplotlib as mpl\n",
    "from matplotlib import pyplot as plt\n",
    "\n",
    "# mpl.use('nbAgg')\n",
    "# mpl.style.use('seaborn-darkgrid')\n",
    "import numpy as np\n",
    "def plotP(test_loss, train_loss, train_acc_list, test_acc_list):\n",
    "    plt.figure(figsize=(10, 10))\n",
    "    x = np.linspace(0, len(train_loss), len(train_loss))\n",
    "    y = np.linspace(0, len(train_acc_list), len(train_acc_list))\n",
    "    plt.subplot(2, 1, 1)\n",
    "    plt.plot(x, train_loss, label=\"train_loss\")\n",
    "    plt.plot(x, test_loss, label=\"test_loss\")\n",
    "    plt.xlabel(\"epoch\")\n",
    "    plt.ylabel(\"loss\")\n",
    "    plt.legend()\n",
    "    plt.subplot(2, 1, 2)\n",
    "    plt.plot(y, train_acc_list, label=\"train_acc\")\n",
    "    plt.plot(y, test_acc_list, label=\"test_acc\")\n",
    "    plt.xlabel(\"epoch\")\n",
    "    plt.ylabel(\"acc\")\n",
    "    plt.legend()\n",
    "    plt.show()\n",
    "\n",
    "plotP(test_loss_list, train_loss_list, train_acc_list, test_acc_list)"
   ]
  },
  {
   "cell_type": "markdown",
   "id": "988d7abe",
   "metadata": {},
   "source": [
    "# 结果分析"
   ]
  },
  {
   "cell_type": "code",
   "execution_count": 54,
   "id": "2872512d",
   "metadata": {},
   "outputs": [],
   "source": [
    "import torch\n",
    "from torch import nn\n",
    "from torch.utils.data import DataLoader\n",
    "from utils import LoadData, write_result\n",
    "import pandas as pd\n",
    "import os\n",
    "# from sklearn.metrics import *  # pip install scikit-learn\n",
    "import matplotlib.pyplot as plt  # pip install matplotlib\n",
    "import numpy as np  # pip install numpy\n",
    "from numpy import interp\n",
    "from sklearn.preprocessing import label_binarize\n",
    "import torchvision\n",
    "from datetime import datetime\n",
    "\n",
    "class Arguments():\n",
    "    def __init__(self):\n",
    "        self.model_name = 'cnn' # cnn vgg16 resnet18\n",
    "        self.data_name = 'yeo' # yeo quantile_ransformer\n",
    "        self.confusion_name = '{}_{}_lr0.01_epoch50_test_confusion'.format(self.model_name, self.data_name)\n",
    "        self.roc_name = '{}_{}_lr0.01_epochs50_test_roc'.format(self.model_name, self.data_name)\n",
    "\n",
    "args = Arguments()"
   ]
  },
  {
   "cell_type": "markdown",
   "id": "fcf88d0b",
   "metadata": {},
   "source": [
    "## 模型预测\n",
    "\n",
    "### 生成预测的配置文件"
   ]
  },
  {
   "cell_type": "code",
   "execution_count": 55,
   "id": "6b5bf49a",
   "metadata": {},
   "outputs": [
    {
     "name": "stdout",
     "output_type": "stream",
     "text": [
      "生成文件成功： /home/raoxy/file/true_label_cnn_yeo.txt\n"
     ]
    }
   ],
   "source": [
    "verify_root='/home/raoxy/data/verify_yeo/'\n",
    "true_label_txt='/home/raoxy/file/true_label_cnn_yeo.txt'\n",
    "\n",
    "def Create_data_dir_with_true_label(_root, save_name):\n",
    "    ''':cvar保存每一张图片的地址+对应的正确的标签'''\n",
    "    _list = []\n",
    "    for a, b, c in os.walk(_root):\n",
    "        for i in range(len(c)):\n",
    "            _list.append(os.path.join(a, c[i]))\n",
    "    with open(save_name, 'w', encoding='UTF-8') as f:\n",
    "        for _img in _list:\n",
    "            f.write(_img + '\\t' + str(_img.split('/')[-2]) + '\\n')\n",
    "    print(\"生成文件成功：\",save_name)\n",
    "\n",
    "Create_data_dir_with_true_label(verify_root, true_label_txt)"
   ]
  },
  {
   "cell_type": "code",
   "execution_count": 56,
   "id": "ab94e1ce",
   "metadata": {},
   "outputs": [
    {
     "name": "stdout",
     "output_type": "stream",
     "text": [
      "生成文件成功： /home/raoxy/file/predicted_label_cnn_yeo.txt\n"
     ]
    }
   ],
   "source": [
    "verify_root='/home/raoxy/data/verify_yeo/'\n",
    "predicted_label_txt='/home/raoxy/file/predicted_label_cnn_yeo.txt'\n",
    "\n",
    "def Create_data_dir_with_no_label(_root, save_name):\n",
    "    _list = []\n",
    "    for a, b, c in os.walk(_root):\n",
    "        for i in range(len(c)):\n",
    "            _list.append(os.path.join(a, c[i]))\n",
    "    # print(_list)\n",
    "    with open(save_name, 'w', encoding='UTF-8') as f:\n",
    "        for _img in _list:\n",
    "            f.write(_img + '\\t' + \"0\" + '\\n')\n",
    "    print(\"生成文件成功：\",save_name)\n",
    "\n",
    "Create_data_dir_with_no_label(verify_root, predicted_label_txt)"
   ]
  },
  {
   "cell_type": "markdown",
   "id": "3013e956",
   "metadata": {},
   "source": [
    "### 加载模型"
   ]
  },
  {
   "cell_type": "code",
   "execution_count": 57,
   "id": "9fc56398",
   "metadata": {},
   "outputs": [
    {
     "name": "stdout",
     "output_type": "stream",
     "text": [
      "Using cpu device\n",
      "加载权重文件： /home/raoxy/model/yeo_cnn_lr0.01_epochs50.pt\n"
     ]
    }
   ],
   "source": [
    "class CNN(nn.Module):\n",
    "    def __init__(self, num_class):\n",
    "        super(CNN, self).__init__()\n",
    "        self.block1 = nn.Sequential(\n",
    "            nn.Conv2d(in_channels=3, out_channels=64, kernel_size=5),\n",
    "            nn.ReLU(),\n",
    "            nn.AdaptiveAvgPool2d(5),\n",
    "            nn.Dropout(p=0.5)\n",
    "\n",
    "        )\n",
    "        self.block2 = nn.Sequential(\n",
    "            nn.Conv2d(64, 32, 5, padding=1),\n",
    "            nn.ReLU(),\n",
    "            nn.MaxPool2d(2),\n",
    "        )\n",
    "        self.block3 = nn.Sequential(\n",
    "            nn.Linear(32, num_class),\n",
    "            nn.LogSoftmax(dim=1)\n",
    "        )\n",
    "\n",
    "    def forward(self, x):\n",
    "        x = self.block1(x)\n",
    "        x = self.block2(x)\n",
    "        x = x.view(x.shape[0], -1)  # torch.Size([128, 32])\n",
    "        x = self.block3(x)\n",
    "        return x\n",
    "    \n",
    "device='cpu'\n",
    "model_loc =\"/home/raoxy/model/yeo_cnn_lr0.01_epochs50.pt\"    \n",
    "model_dict = torch.load(model_loc)\n",
    "# model = model.to(device)\n",
    "model = CNN(5)\n",
    "model.load_state_dict(model_dict)\n",
    "device = \"cuda\" if torch.cuda.is_available() else \"cpu\"\n",
    "print(f\"Using {device} device\")\n",
    "print(\"加载权重文件：\",model_loc)"
   ]
  },
  {
   "cell_type": "markdown",
   "id": "21e0c880",
   "metadata": {},
   "source": [
    "### 预测"
   ]
  },
  {
   "cell_type": "code",
   "execution_count": 58,
   "id": "967de1f3",
   "metadata": {},
   "outputs": [],
   "source": [
    "# true_label_txt='/home/raoxy/file/true_label_cnn_yeo.txt'\n",
    "\n",
    "def eval(dataloader, model):\n",
    "    label_list = []\n",
    "    likelihood_list = []\n",
    "    pred_list = []\n",
    "    model.eval()\n",
    "    with torch.no_grad():\n",
    "        # 加载数据加载器，得到里面的X（图片数据）和y(真实标签）\n",
    "        for idx, (X, y) in enumerate(dataloader):\n",
    "            # 将图片传入到模型当中就，得到预测的值pred\n",
    "            pred = model(X)\n",
    "            pred_softmax = torch.softmax(pred, 1).cpu().numpy()\n",
    "            # 获取可能性最大的标签\n",
    "            label = torch.softmax(pred, 1).cpu().numpy().argmax()\n",
    "            label_list.append(label)\n",
    "            # 获取可能性最大的值（即概率）\n",
    "            likelihood = torch.softmax(pred, 1).cpu().numpy().max()\n",
    "            likelihood_list.append(likelihood)\n",
    "            pred_list.append(pred_softmax.tolist()[0])\n",
    "\n",
    "        return label_list, likelihood_list, pred_list\n",
    "\n",
    "valid_data = LoadData(true_label_txt  , train_flag=False)\n",
    "_dataloader = DataLoader(dataset=valid_data, num_workers=4, pin_memory=True, batch_size=1)\n",
    "\n",
    "label_list, likelihood_list, pred = eval(_dataloader, model)"
   ]
  },
  {
   "cell_type": "markdown",
   "id": "0c46ca2b",
   "metadata": {},
   "source": [
    "### 将输出保存到exel中，方便后续分析"
   ]
  },
  {
   "cell_type": "code",
   "execution_count": 59,
   "id": "91f496ee",
   "metadata": {},
   "outputs": [
    {
     "name": "stdout",
     "output_type": "stream",
     "text": [
      "执行完毕，生成文件：/home/raoxy/file/cnn_yeo_lr0.01_epochs50_verify.csv\n"
     ]
    }
   ],
   "source": [
    "save_name = 'cnn_yeo_lr0.01_epochs50_verify'\n",
    "\n",
    "label_names = ['R', 'RPM', 'gear', 'DoS', 'Fuzzy']\n",
    "df = pd.DataFrame(data=pred, columns=label_names)\n",
    "df.to_csv('/home/raoxy/file/{}.csv'.format(save_name), encoding='utf-8', index=False)\n",
    "print('执行完毕，生成文件：/home/raoxy/file/{}.csv'.format(save_name))"
   ]
  },
  {
   "cell_type": "markdown",
   "id": "8e19beb3",
   "metadata": {},
   "source": [
    "## 绘图"
   ]
  },
  {
   "cell_type": "code",
   "execution_count": 60,
   "id": "8874c204",
   "metadata": {},
   "outputs": [],
   "source": [
    "target_data = pd.read_csv(true_label_txt, sep=\"\\t\", names=[\"loc\", \"type\"])\n",
    "true_label = [i for i in target_data[\"type\"]]"
   ]
  },
  {
   "cell_type": "code",
   "execution_count": 61,
   "id": "a7a4dc80",
   "metadata": {},
   "outputs": [
    {
     "data": {
      "text/plain": "{0, 1, 2, 3, 4}"
     },
     "execution_count": 61,
     "metadata": {},
     "output_type": "execute_result"
    }
   ],
   "source": [
    "set(true_label)"
   ]
  },
  {
   "cell_type": "code",
   "execution_count": 62,
   "id": "2ecfa4f1",
   "metadata": {},
   "outputs": [
    {
     "name": "stdout",
     "output_type": "stream",
     "text": [
      "17565\n"
     ]
    }
   ],
   "source": [
    "save_name = 'cnn_yeo_lr0.01_epochs50_verify'\n",
    "\n",
    "predict_loc ='/home/raoxy/file/{}.csv'.format(save_name)    # 3.ModelEvaluate.py生成的文件\n",
    "predict_data = pd.read_csv(predict_loc)#,index_col=0)\n",
    "predict_label = predict_data.to_numpy().argmax(axis=1)\n",
    "predict_score = predict_data.to_numpy().max(axis=1)\n",
    "# predict_score = predict_data.to_numpy().max(axis=1)\n",
    "# # 精度，准确率， 预测正确的占所有样本种的比例\n",
    "print(len(predict_label))"
   ]
  },
  {
   "cell_type": "code",
   "execution_count": 63,
   "id": "9de86c53",
   "metadata": {},
   "outputs": [
    {
     "name": "stdout",
     "output_type": "stream",
     "text": [
      "精度:  0.3994876174210077\n"
     ]
    }
   ],
   "source": [
    "from sklearn.metrics import accuracy_score  # pip install scikit-learn\n",
    "accuracy = accuracy_score(true_label, predict_label)\n",
    "print(\"精度: \",accuracy)"
   ]
  },
  {
   "cell_type": "markdown",
   "id": "06b34dd1",
   "metadata": {},
   "source": [
    "## 查准率P（准确率），precision(查准率)=TP/(TP+FP)"
   ]
  },
  {
   "cell_type": "code",
   "execution_count": 64,
   "id": "7a1bd9b5",
   "metadata": {},
   "outputs": [
    {
     "name": "stdout",
     "output_type": "stream",
     "text": [
      "查准率P:  0.16890957161753842\n"
     ]
    },
    {
     "name": "stderr",
     "output_type": "stream",
     "text": [
      "/home/raoxy/anaconda3/envs/pysyft/lib/python3.7/site-packages/sklearn/metrics/_classification.py:1318: UndefinedMetricWarning: Precision is ill-defined and being set to 0.0 in labels with no predicted samples. Use `zero_division` parameter to control this behavior.\n",
      "  _warn_prf(average, modifier, msg_start, len(result))\n"
     ]
    }
   ],
   "source": [
    "from sklearn.metrics import precision_score\n",
    "precision = precision_score(true_label, predict_label, labels=None, pos_label=1, average='macro') # 'micro', 'macro', 'weighted'\n",
    "print(\"查准率P: \",precision)"
   ]
  },
  {
   "cell_type": "markdown",
   "id": "5b7de9fb",
   "metadata": {},
   "source": [
    "## 查全率R（召回率），原本为对的，预测正确的比例；recall(查全率)=TP/(TP+FN)"
   ]
  },
  {
   "cell_type": "code",
   "execution_count": 65,
   "id": "a6f39810",
   "metadata": {},
   "outputs": [
    {
     "name": "stdout",
     "output_type": "stream",
     "text": [
      "召回率:  0.4\n"
     ]
    }
   ],
   "source": [
    "from sklearn.metrics import recall_score\n",
    "recall = recall_score(true_label, predict_label, average='macro') # 'micro', 'macro', 'weighted'\n",
    "print(\"召回率: \",recall)"
   ]
  },
  {
   "cell_type": "markdown",
   "id": "a8c2e297",
   "metadata": {},
   "source": [
    "## F1-Score"
   ]
  },
  {
   "cell_type": "code",
   "execution_count": 66,
   "id": "450266a8",
   "metadata": {},
   "outputs": [
    {
     "name": "stdout",
     "output_type": "stream",
     "text": [
      "F1 Score:  0.23473803207650396\n"
     ]
    }
   ],
   "source": [
    "from sklearn.metrics import f1_score\n",
    "\n",
    "f1 = f1_score(true_label, predict_label, average='macro')     # 'micro', 'macro', 'weighted'\n",
    "print(\"F1 Score: \",f1)"
   ]
  },
  {
   "cell_type": "markdown",
   "id": "82f77f11",
   "metadata": {},
   "source": [
    "## 混淆矩阵"
   ]
  },
  {
   "cell_type": "code",
   "execution_count": 67,
   "id": "615270e6",
   "metadata": {},
   "outputs": [
    {
     "data": {
      "text/plain": "<Figure size 1080x1080 with 0 Axes>"
     },
     "metadata": {},
     "output_type": "display_data"
    },
    {
     "data": {
      "text/plain": "<Figure size 288x288 with 2 Axes>",
      "image/png": "[encoded data removed]"
     },
     "metadata": {
      "needs_background": "light"
     },
     "output_type": "display_data"
    },
    {
     "name": "stdout",
     "output_type": "stream",
     "text": [
      "执行完毕，生成文件：/home/raoxy/img/cnn_yeo_Confusion_Matrix.png\n"
     ]
    },
    {
     "data": {
      "text/plain": "<Figure size 432x288 with 0 Axes>"
     },
     "metadata": {},
     "output_type": "display_data"
    }
   ],
   "source": [
    "_fig_title='cnn_yeo'\n",
    "from sklearn.metrics import confusion_matrix\n",
    "\n",
    "plt.figure(figsize=(15, 15))\n",
    "label_names = ['R', 'RPM',  'gear', 'DoS', 'Fuzzy']\n",
    "confusion = confusion_matrix(true_label, predict_label, labels=[i for i in range(len(label_names))])\n",
    "plt.matshow(confusion, cmap=plt.cm.Oranges)   # Greens, Blues, Oranges, Reds\n",
    "plt.colorbar()\n",
    "for i in range(len(confusion)):\n",
    "    for j in range(len(confusion)):\n",
    "        plt.annotate(confusion[j,i], xy=(i, j), horizontalalignment='center', verticalalignment='center')\n",
    "plt.ylabel('True label')\n",
    "plt.xlabel('Predicted label')\n",
    "plt.xticks(range(len(label_names)), label_names)\n",
    "plt.yticks(range(len(label_names)), label_names)\n",
    "# plt.title(\"{} Confusion Matrix\".format(_fig_title))\n",
    "plt.show()\n",
    "plt.savefig('/home/raoxy/img/{}_Confusion_Matrix.png'.format(_fig_title),bbox_inches=\"tight\")\n",
    "print('执行完毕，生成文件：/home/raoxy/img/{}_Confusion_Matrix.png'.format(_fig_title))"
   ]
  },
  {
   "cell_type": "markdown",
   "id": "904eab0b",
   "metadata": {},
   "source": [
    "## ROC曲线"
   ]
  },
  {
   "cell_type": "code",
   "execution_count": 68,
   "id": "e30c27fb",
   "metadata": {},
   "outputs": [
    {
     "name": "stdout",
     "output_type": "stream",
     "text": [
      "roc_auc =  {0: 0.99989986583791, 1: 0.9999999999999999, 2: 0.2471407260069617, 3: 1.0, 4: 1.0}\n"
     ]
    }
   ],
   "source": [
    "from sklearn.metrics import roc_curve,auc\n",
    "\n",
    "n_classes = len(label_names)\n",
    "# binarize_predict = label_binarize(predict_label, classes=[i for i in range(n_classes)])\n",
    "binarize_predict = label_binarize(true_label, classes=[i for i in range(n_classes)])\n",
    "# 读取预测结果\n",
    "predict_score = predict_data.to_numpy()\n",
    "# 计算每一类的ROC\n",
    "fpr = dict()\n",
    "tpr = dict()\n",
    "roc_auc = dict()\n",
    "for i in range(n_classes):\n",
    "    fpr[i], tpr[i], _ = roc_curve(binarize_predict[:,i], [socre_i[i] for socre_i in predict_score])\n",
    "    roc_auc[i] = auc(fpr[i], tpr[i])\n",
    "print(\"roc_auc = \",roc_auc)"
   ]
  },
  {
   "cell_type": "code",
   "execution_count": 69,
   "id": "c5303d57",
   "metadata": {},
   "outputs": [
    {
     "data": {
      "text/plain": "[<matplotlib.lines.Line2D at 0x7f0a2eb61630>]"
     },
     "execution_count": 69,
     "metadata": {},
     "output_type": "execute_result"
    },
    {
     "data": {
      "text/plain": "<Figure size 432x288 with 1 Axes>",
      "image/png": "[encoded data removed]"
     },
     "metadata": {
      "needs_background": "light"
     },
     "output_type": "display_data"
    }
   ],
   "source": [
    "all_fpr = np.unique(np.concatenate([fpr[i] for i in range(n_classes)]))\n",
    "# Then interpolate all ROC curves at this points\n",
    "mean_tpr = np.zeros_like(all_fpr)\n",
    "for i in range(n_classes):\n",
    "    mean_tpr += interp(all_fpr, fpr[i], tpr[i])\n",
    "# Finally average it and compute AUC\n",
    "mean_tpr /= n_classes\n",
    "fpr[\"macro\"] = all_fpr\n",
    "tpr[\"macro\"] = mean_tpr\n",
    "roc_auc[\"macro\"] = auc(fpr[\"macro\"], tpr[\"macro\"])\n",
    "# Plot all ROC curves\n",
    "lw = 2\n",
    "plt.figure()\n",
    "plt.plot(fpr[\"macro\"], tpr[\"macro\"],\n",
    "         label=\"macro-average ROC curve (area = {0:0.2f})\".format(roc_auc[\"macro\"]),\n",
    "         color='navy', linestyle=':', linewidth=4)"
   ]
  },
  {
   "cell_type": "code",
   "execution_count": 70,
   "id": "92a77f02",
   "metadata": {},
   "outputs": [
    {
     "data": {
      "text/plain": "<Figure size 432x288 with 1 Axes>",
      "image/png": "[encoded data removed]"
     },
     "metadata": {
      "needs_background": "light"
     },
     "output_type": "display_data"
    }
   ],
   "source": [
    "for i in range(n_classes):\n",
    "    plt.plot(fpr[i], tpr[i], lw=lw, label='ROC curve of {0} (area = {1:0.2f})'.format(label_names[i], roc_auc[i]))\n",
    "plt.plot([0, 1], [0, 1], 'k--', lw=lw)\n",
    "plt.xlim([0.0, 1.0])\n",
    "plt.ylim([0.0, 1.05])\n",
    "plt.xlabel('False Positive Rate')\n",
    "plt.ylabel('True Positive Rate')\n",
    "\n",
    "_fig_title='cnn_yeo'\n",
    "plt.title('{} Multi-class receiver operating characteristic'.format(_fig_title))\n",
    "plt.legend(loc=\"lower right\")\n",
    "plt.show()\n",
    "# plt.savefig('../img/{}_roc_fig.png'.format(args._fig_title),bbox_inches=\"tight\")\n",
    "# print('执行完毕生成文件：../img/{}_roc_fig.png'.format(_fig_title))"
   ]
  }
 ],
 "metadata": {
  "hide_input": false,
  "kernelspec": {
   "display_name": "Python [conda env:pysyft]",
   "language": "python",
   "name": "conda-env-pysyft-py"
  },
  "language_info": {
   "codemirror_mode": {
    "name": "ipython",
    "version": 3
   },
   "file_extension": ".py",
   "mimetype": "text/x-python",
   "name": "python",
   "nbconvert_exporter": "python",
   "pygments_lexer": "ipython3",
   "version": "3.7.0"
  },
  "latex_envs": {
   "LaTeX_envs_menu_present": true,
   "autoclose": false,
   "autocomplete": true,
   "bibliofile": "biblio.bib",
   "cite_by": "apalike",
   "current_citInitial": 1,
   "eqLabelWithNumbers": true,
   "eqNumInitial": 1,
   "hotkeys": {
    "equation": "Ctrl-E",
    "itemize": "Ctrl-I"
   },
   "labels_anchors": false,
   "latex_user_defs": false,
   "report_style_numbering": false,
   "user_envs_cfg": false
  },
  "toc": {
   "base_numbering": 1,
   "nav_menu": {},
   "number_sections": true,
   "sideBar": true,
   "skip_h1_title": false,
   "title_cell": "Table of Contents",
   "title_sidebar": "Contents",
   "toc_cell": false,
   "toc_position": {
    "height": "calc(100% - 180px)",
    "left": "10px",
    "top": "150px",
    "width": "172.625px"
   },
   "toc_section_display": true,
   "toc_window_display": true
  }
 },
 "nbformat": 4,
 "nbformat_minor": 5
}